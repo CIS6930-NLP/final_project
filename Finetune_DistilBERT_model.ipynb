{
  "cells": [
    {
      "cell_type": "markdown",
      "metadata": {
        "id": "view-in-github",
        "colab_type": "text"
      },
      "source": [
        "<a href=\"https://colab.research.google.com/github/CIS6930-NLP/final_project/blob/main/Finetune_DistilBERT_model.ipynb\" target=\"_parent\"><img src=\"https://colab.research.google.com/assets/colab-badge.svg\" alt=\"Open In Colab\"/></a>"
      ]
    },
    {
      "cell_type": "markdown",
      "metadata": {
        "id": "JgF5wHdxMpN6"
      },
      "source": []
    },
    {
      "cell_type": "markdown",
      "metadata": {
        "id": "x8gleIUt84qE"
      },
      "source": [
        "#### Import libraries"
      ]
    },
    {
      "cell_type": "code",
      "execution_count": 1,
      "metadata": {
        "id": "JktABedJMjhz",
        "colab": {
          "base_uri": "https://localhost:8080/"
        },
        "outputId": "1e2e651a-02e3-4922-e7cf-030c192b7a20"
      },
      "outputs": [
        {
          "output_type": "stream",
          "name": "stdout",
          "text": [
            "Looking in indexes: https://pypi.org/simple, https://us-python.pkg.dev/colab-wheels/public/simple/\n",
            "Collecting transformers\n",
            "  Downloading transformers-4.27.2-py3-none-any.whl (6.8 MB)\n",
            "\u001b[2K     \u001b[90m━━━━━━━━━━━━━━━━━━━━━━━━━━━━━━━━━━━━━━━━\u001b[0m \u001b[32m6.8/6.8 MB\u001b[0m \u001b[31m100.9 MB/s\u001b[0m eta \u001b[36m0:00:00\u001b[0m\n",
            "\u001b[?25hRequirement already satisfied: filelock in /usr/local/lib/python3.9/dist-packages (from transformers) (3.10.0)\n",
            "Requirement already satisfied: tqdm>=4.27 in /usr/local/lib/python3.9/dist-packages (from transformers) (4.65.0)\n",
            "Requirement already satisfied: numpy>=1.17 in /usr/local/lib/python3.9/dist-packages (from transformers) (1.22.4)\n",
            "Requirement already satisfied: pyyaml>=5.1 in /usr/local/lib/python3.9/dist-packages (from transformers) (6.0)\n",
            "Requirement already satisfied: packaging>=20.0 in /usr/local/lib/python3.9/dist-packages (from transformers) (23.0)\n",
            "Requirement already satisfied: regex!=2019.12.17 in /usr/local/lib/python3.9/dist-packages (from transformers) (2022.10.31)\n",
            "Requirement already satisfied: requests in /usr/local/lib/python3.9/dist-packages (from transformers) (2.27.1)\n",
            "Collecting tokenizers!=0.11.3,<0.14,>=0.11.1\n",
            "  Downloading tokenizers-0.13.2-cp39-cp39-manylinux_2_17_x86_64.manylinux2014_x86_64.whl (7.6 MB)\n",
            "\u001b[2K     \u001b[90m━━━━━━━━━━━━━━━━━━━━━━━━━━━━━━━━━━━━━━━━\u001b[0m \u001b[32m7.6/7.6 MB\u001b[0m \u001b[31m101.8 MB/s\u001b[0m eta \u001b[36m0:00:00\u001b[0m\n",
            "\u001b[?25hCollecting huggingface-hub<1.0,>=0.11.0\n",
            "  Downloading huggingface_hub-0.13.3-py3-none-any.whl (199 kB)\n",
            "\u001b[2K     \u001b[90m━━━━━━━━━━━━━━━━━━━━━━━━━━━━━━━━━━━━━━\u001b[0m \u001b[32m199.8/199.8 KB\u001b[0m \u001b[31m17.9 MB/s\u001b[0m eta \u001b[36m0:00:00\u001b[0m\n",
            "\u001b[?25hRequirement already satisfied: typing-extensions>=3.7.4.3 in /usr/local/lib/python3.9/dist-packages (from huggingface-hub<1.0,>=0.11.0->transformers) (4.5.0)\n",
            "Requirement already satisfied: charset-normalizer~=2.0.0 in /usr/local/lib/python3.9/dist-packages (from requests->transformers) (2.0.12)\n",
            "Requirement already satisfied: certifi>=2017.4.17 in /usr/local/lib/python3.9/dist-packages (from requests->transformers) (2022.12.7)\n",
            "Requirement already satisfied: urllib3<1.27,>=1.21.1 in /usr/local/lib/python3.9/dist-packages (from requests->transformers) (1.26.15)\n",
            "Requirement already satisfied: idna<4,>=2.5 in /usr/local/lib/python3.9/dist-packages (from requests->transformers) (3.4)\n",
            "Installing collected packages: tokenizers, huggingface-hub, transformers\n",
            "Successfully installed huggingface-hub-0.13.3 tokenizers-0.13.2 transformers-4.27.2\n"
          ]
        }
      ],
      "source": [
        "!pip install transformers"
      ]
    },
    {
      "cell_type": "code",
      "execution_count": 4,
      "metadata": {
        "colab": {
          "base_uri": "https://localhost:8080/"
        },
        "id": "aUEL2gBs8EXq",
        "outputId": "7f9c8257-ad28-41a3-da11-ce28995bd8a2"
      },
      "outputs": [
        {
          "output_type": "stream",
          "name": "stdout",
          "text": [
            "2.11.0\n"
          ]
        }
      ],
      "source": [
        "import tensorflow as tf\n",
        "import re\n",
        "import nltk\n",
        "import numpy as np\n",
        "import math\n",
        "import time\n",
        "import pandas as pd\n",
        "from tensorflow.keras import layers\n",
        "import tensorflow_datasets as tfds\n",
        "import matplotlib.pyplot as plt\n",
        "# from transformers import BertTokenizer, TFBertForQuestionAnswering\n",
        "\n",
        "print(tf.__version__)"
      ]
    },
    {
      "cell_type": "code",
      "execution_count": 5,
      "metadata": {
        "colab": {
          "base_uri": "https://localhost:8080/"
        },
        "id": "KYwU0JZj-qWt",
        "outputId": "03e19ac4-9aef-4ae7-f01e-c9bb378642f9"
      },
      "outputs": [
        {
          "output_type": "stream",
          "name": "stdout",
          "text": [
            "Mounted at /content/drive\n"
          ]
        }
      ],
      "source": [
        "from google.colab import drive\n",
        "drive.mount(\"/content/drive\")"
      ]
    },
    {
      "cell_type": "code",
      "execution_count": 6,
      "metadata": {
        "colab": {
          "base_uri": "https://localhost:8080/"
        },
        "id": "D6RzAUBbpcSF",
        "outputId": "214addf8-01a9-4af3-e598-6c0b482563d0"
      },
      "outputs": [
        {
          "output_type": "stream",
          "name": "stdout",
          "text": [
            "Found GPU at: /device:GPU:0\n"
          ]
        }
      ],
      "source": [
        "device_name = tf.test.gpu_device_name()\n",
        "if device_name != '/device:GPU:0':\n",
        "  raise SystemError('GPU device not found')\n",
        "print('Found GPU at: {}'.format(device_name))"
      ]
    },
    {
      "cell_type": "markdown",
      "metadata": {
        "id": "Ojvb1KWJ_tye"
      },
      "source": [
        "\n",
        "#### Loading data"
      ]
    },
    {
      "cell_type": "code",
      "execution_count": 7,
      "metadata": {
        "colab": {
          "base_uri": "https://localhost:8080/",
          "height": 206
        },
        "id": "FlOYfMkG_568",
        "outputId": "5a332145-4989-4d96-d32c-28c4840e9950"
      },
      "outputs": [
        {
          "output_type": "execute_result",
          "data": {
            "text/plain": [
              "   Unnamed: 0      context                                             prompt  \\\n",
              "0           0  sentimental  I remember going to the fireworks with my best...   \n",
              "1           1  sentimental  I remember going to the fireworks with my best...   \n",
              "2           2  sentimental  I remember going to the fireworks with my best...   \n",
              "3           3  sentimental  I remember going to the fireworks with my best...   \n",
              "4           4  sentimental  I remember going to the fireworks with my best...   \n",
              "\n",
              "                                           utterance  \n",
              "0  I remember going to see the fireworks with my ...  \n",
              "1  Was this a friend you were in love with_comma_...  \n",
              "2                This was a best friend. I miss her.  \n",
              "3                                Where has she gone?  \n",
              "4                                 We no longer talk.  "
            ],
            "text/html": [
              "\n",
              "  <div id=\"df-0ac22a4e-c64b-4438-b950-fd902137dfd6\">\n",
              "    <div class=\"colab-df-container\">\n",
              "      <div>\n",
              "<style scoped>\n",
              "    .dataframe tbody tr th:only-of-type {\n",
              "        vertical-align: middle;\n",
              "    }\n",
              "\n",
              "    .dataframe tbody tr th {\n",
              "        vertical-align: top;\n",
              "    }\n",
              "\n",
              "    .dataframe thead th {\n",
              "        text-align: right;\n",
              "    }\n",
              "</style>\n",
              "<table border=\"1\" class=\"dataframe\">\n",
              "  <thead>\n",
              "    <tr style=\"text-align: right;\">\n",
              "      <th></th>\n",
              "      <th>Unnamed: 0</th>\n",
              "      <th>context</th>\n",
              "      <th>prompt</th>\n",
              "      <th>utterance</th>\n",
              "    </tr>\n",
              "  </thead>\n",
              "  <tbody>\n",
              "    <tr>\n",
              "      <th>0</th>\n",
              "      <td>0</td>\n",
              "      <td>sentimental</td>\n",
              "      <td>I remember going to the fireworks with my best...</td>\n",
              "      <td>I remember going to see the fireworks with my ...</td>\n",
              "    </tr>\n",
              "    <tr>\n",
              "      <th>1</th>\n",
              "      <td>1</td>\n",
              "      <td>sentimental</td>\n",
              "      <td>I remember going to the fireworks with my best...</td>\n",
              "      <td>Was this a friend you were in love with_comma_...</td>\n",
              "    </tr>\n",
              "    <tr>\n",
              "      <th>2</th>\n",
              "      <td>2</td>\n",
              "      <td>sentimental</td>\n",
              "      <td>I remember going to the fireworks with my best...</td>\n",
              "      <td>This was a best friend. I miss her.</td>\n",
              "    </tr>\n",
              "    <tr>\n",
              "      <th>3</th>\n",
              "      <td>3</td>\n",
              "      <td>sentimental</td>\n",
              "      <td>I remember going to the fireworks with my best...</td>\n",
              "      <td>Where has she gone?</td>\n",
              "    </tr>\n",
              "    <tr>\n",
              "      <th>4</th>\n",
              "      <td>4</td>\n",
              "      <td>sentimental</td>\n",
              "      <td>I remember going to the fireworks with my best...</td>\n",
              "      <td>We no longer talk.</td>\n",
              "    </tr>\n",
              "  </tbody>\n",
              "</table>\n",
              "</div>\n",
              "      <button class=\"colab-df-convert\" onclick=\"convertToInteractive('df-0ac22a4e-c64b-4438-b950-fd902137dfd6')\"\n",
              "              title=\"Convert this dataframe to an interactive table.\"\n",
              "              style=\"display:none;\">\n",
              "        \n",
              "  <svg xmlns=\"http://www.w3.org/2000/svg\" height=\"24px\"viewBox=\"0 0 24 24\"\n",
              "       width=\"24px\">\n",
              "    <path d=\"M0 0h24v24H0V0z\" fill=\"none\"/>\n",
              "    <path d=\"M18.56 5.44l.94 2.06.94-2.06 2.06-.94-2.06-.94-.94-2.06-.94 2.06-2.06.94zm-11 1L8.5 8.5l.94-2.06 2.06-.94-2.06-.94L8.5 2.5l-.94 2.06-2.06.94zm10 10l.94 2.06.94-2.06 2.06-.94-2.06-.94-.94-2.06-.94 2.06-2.06.94z\"/><path d=\"M17.41 7.96l-1.37-1.37c-.4-.4-.92-.59-1.43-.59-.52 0-1.04.2-1.43.59L10.3 9.45l-7.72 7.72c-.78.78-.78 2.05 0 2.83L4 21.41c.39.39.9.59 1.41.59.51 0 1.02-.2 1.41-.59l7.78-7.78 2.81-2.81c.8-.78.8-2.07 0-2.86zM5.41 20L4 18.59l7.72-7.72 1.47 1.35L5.41 20z\"/>\n",
              "  </svg>\n",
              "      </button>\n",
              "      \n",
              "  <style>\n",
              "    .colab-df-container {\n",
              "      display:flex;\n",
              "      flex-wrap:wrap;\n",
              "      gap: 12px;\n",
              "    }\n",
              "\n",
              "    .colab-df-convert {\n",
              "      background-color: #E8F0FE;\n",
              "      border: none;\n",
              "      border-radius: 50%;\n",
              "      cursor: pointer;\n",
              "      display: none;\n",
              "      fill: #1967D2;\n",
              "      height: 32px;\n",
              "      padding: 0 0 0 0;\n",
              "      width: 32px;\n",
              "    }\n",
              "\n",
              "    .colab-df-convert:hover {\n",
              "      background-color: #E2EBFA;\n",
              "      box-shadow: 0px 1px 2px rgba(60, 64, 67, 0.3), 0px 1px 3px 1px rgba(60, 64, 67, 0.15);\n",
              "      fill: #174EA6;\n",
              "    }\n",
              "\n",
              "    [theme=dark] .colab-df-convert {\n",
              "      background-color: #3B4455;\n",
              "      fill: #D2E3FC;\n",
              "    }\n",
              "\n",
              "    [theme=dark] .colab-df-convert:hover {\n",
              "      background-color: #434B5C;\n",
              "      box-shadow: 0px 1px 3px 1px rgba(0, 0, 0, 0.15);\n",
              "      filter: drop-shadow(0px 1px 2px rgba(0, 0, 0, 0.3));\n",
              "      fill: #FFFFFF;\n",
              "    }\n",
              "  </style>\n",
              "\n",
              "      <script>\n",
              "        const buttonEl =\n",
              "          document.querySelector('#df-0ac22a4e-c64b-4438-b950-fd902137dfd6 button.colab-df-convert');\n",
              "        buttonEl.style.display =\n",
              "          google.colab.kernel.accessAllowed ? 'block' : 'none';\n",
              "\n",
              "        async function convertToInteractive(key) {\n",
              "          const element = document.querySelector('#df-0ac22a4e-c64b-4438-b950-fd902137dfd6');\n",
              "          const dataTable =\n",
              "            await google.colab.kernel.invokeFunction('convertToInteractive',\n",
              "                                                     [key], {});\n",
              "          if (!dataTable) return;\n",
              "\n",
              "          const docLinkHtml = 'Like what you see? Visit the ' +\n",
              "            '<a target=\"_blank\" href=https://colab.research.google.com/notebooks/data_table.ipynb>data table notebook</a>'\n",
              "            + ' to learn more about interactive tables.';\n",
              "          element.innerHTML = '';\n",
              "          dataTable['output_type'] = 'display_data';\n",
              "          await google.colab.output.renderOutput(dataTable, element);\n",
              "          const docLink = document.createElement('div');\n",
              "          docLink.innerHTML = docLinkHtml;\n",
              "          element.appendChild(docLink);\n",
              "        }\n",
              "      </script>\n",
              "    </div>\n",
              "  </div>\n",
              "  "
            ]
          },
          "metadata": {},
          "execution_count": 7
        }
      ],
      "source": [
        "#load data\n",
        "train_file = \"/content/drive/MyDrive/code/Updated Data/train.csv\"\n",
        "val_file = \"/content/drive/MyDrive/code/Updated Data/valid.csv\"\n",
        "test_file = \"/content/drive/MyDrive/code/Updated Data/test.csv\"\n",
        "def data_loading(filepath): \n",
        "  data = pd.read_csv(filepath, encoding = 'utf-8')\n",
        "  data = data.drop('conv_id', axis = 1)\n",
        "  data = data.drop('utterance_idx', axis = 1)\n",
        "  data = data.drop('speaker_idx', axis = 1)\n",
        "  data = data.drop('selfeval', axis = 1)\n",
        "  data = data.drop('tags', axis = 1)\n",
        "  data = data.dropna()\n",
        "  return data\n",
        "\n",
        "train_data = data_loading(train_file)\n",
        "val_data = data_loading(val_file)\n",
        "test_data = data_loading(test_file)\n",
        "train_data.head()"
      ]
    },
    {
      "cell_type": "code",
      "execution_count": 8,
      "metadata": {
        "id": "yBV7P1P-__jA"
      },
      "outputs": [],
      "source": [
        "#emotion preprocessing\n",
        "#group emotions\n",
        "emotions = {}\n",
        "emotions['excited'] = emotions['surprised'] = emotions['joyful'] = \"excited\"\n",
        "emotions['afraid'] = emotions['terrified'] = emotions['anxious']= emotions['apprehensive']='afraid'\n",
        "emotions['disgusted'] = emotions['embarrassed']= emotions['guilty'] = emotions['ashamed'] =\"disgusted\"\n",
        "emotions['angry'] = emotions ['annoyed'] = emotions['jealous'] =emotions[ 'furious' ] = \"annoyed\"\n",
        "emotions['faithful'] = emotions ['trusting']=emotions ['grateful']= emotions['caring'] = emotions['hopeful'] = \"grateful\"\n",
        "emotions['sad'] = emotions['disappointed'] = emotions['devastated']= emotions ['lonely']=emotions['nostalgic']=emotions['sentimental'] = \"disappointed\"\n",
        "emotions['proud']= emotions['impressed']= emotions['content'] = \"impressed\"\n",
        "emotions['anticipating']=emotions[ 'prepared']=emotions ['confident'] = \"prepared\"\n",
        "dicttt=emotions"
      ]
    },
    {
      "cell_type": "markdown",
      "metadata": {
        "id": "O3k9zaE-CPK0"
      },
      "source": [
        "#### Data preprocessing"
      ]
    },
    {
      "cell_type": "code",
      "execution_count": 9,
      "metadata": {
        "id": "O6keFk9E5FLe"
      },
      "outputs": [],
      "source": [
        "def preprocess_sentence(sentence):\n",
        "    sentence = sentence.lower().strip()\n",
        "    sentence = re.sub(r\"([?.!,])\", r\" \\1 \", sentence)\n",
        "    sentence = re.sub(r\"i'm\", \"i am\", sentence)\n",
        "    sentence = re.sub(r\"he's\", \"he is\", sentence)\n",
        "    sentence = re.sub(r\"she's\", \"she is\", sentence)\n",
        "    sentence = re.sub(r\"it's\", \"it is\", sentence)\n",
        "    sentence = re.sub(r\"that's\", \"that is\", sentence)\n",
        "    sentence = re.sub(r\"what's\", \"what is\", sentence)\n",
        "    sentence = re.sub(r\"where's\", \"where is\", sentence)\n",
        "    sentence = re.sub(r\"how's\", \"how is\", sentence)\n",
        "    sentence = re.sub(r\"\\'ll\", \" will\", sentence)\n",
        "    sentence = re.sub(r\"\\'ve\", \" have\", sentence)\n",
        "    sentence = re.sub(r\"\\'re\", \" are\", sentence)\n",
        "    sentence = re.sub(r\"\\'d\", \" would\", sentence)\n",
        "    sentence = re.sub(r\"\\'re\", \" are\", sentence)\n",
        "    sentence = re.sub(r\"won't\", \"will not\", sentence)\n",
        "    sentence = re.sub(r\"can't\", \"cannot\", sentence)\n",
        "    sentence = re.sub(r\"n't\", \" not\", sentence)\n",
        "    sentence = re.sub(r\"n'\", \"ng\", sentence)\n",
        "    sentence = re.sub(r\"'bout\", \"about\", sentence)\n",
        "    sentence = re.sub(r'[\" \"]+', \" \", sentence)\n",
        "    sentence = re.sub(r\"[^a-zA-Z?.!,]+\", \" \", sentence)\n",
        "    sentence = sentence.strip()\n",
        "\n",
        "    return sentence"
      ]
    },
    {
      "cell_type": "code",
      "execution_count": 32,
      "metadata": {
        "id": "MfuUJkG3ExKG"
      },
      "outputs": [],
      "source": [
        "train_context = train_data['context'][:5000]\n",
        "train_question = train_data['prompt'][:5000]\n",
        "train_answer = train_data['utterance'][:5000]\n",
        "\n",
        "\n",
        "val_context = val_data['context'][:200]\n",
        "val_question = val_data['prompt'][:200]\n",
        "val_answer = val_data['utterance'][:200]\n",
        "\n",
        "test_context = test_data['context'][:1000]\n",
        "test_question = test_data['prompt'][:1000]\n",
        "test_answer = test_data['utterance'][:1000]\n",
        "# print(len(train_context))\n",
        "# print(len(train_question))\n",
        "# print(len(train_answer))\n",
        "\n",
        "  # Maximum number of samples to preprocess\n",
        "MAX_SAMPLES = 50000\n",
        "\n",
        "train_context = [preprocess_sentence(emotions[sentence]) for sentence in train_context]\n",
        "train_questions = [preprocess_sentence(sentence) for sentence in train_question]\n",
        "train_answers = [preprocess_sentence(sentence) for sentence in train_answer]\n",
        "\n",
        "val_context = [preprocess_sentence(emotions[sentence]) for sentence in val_context]\n",
        "val_questions = [preprocess_sentence(sentence) for sentence in val_question]\n",
        "val_answers = [preprocess_sentence(sentence) for sentence in val_answer]\n",
        "\n",
        "test_context = [preprocess_sentence(emotions[sentence]) for sentence in test_context]\n",
        "test_questions = [preprocess_sentence(sentence) for sentence in test_question]\n",
        "test_answers = [preprocess_sentence(sentence) for sentence in test_answer]\n",
        "\n",
        "train_data['context'] = [preprocess_sentence(emotions[sentence]) for sentence in train_data['context']]\n",
        "train_data['prompt'] = [preprocess_sentence(sentence) for sentence in train_data['prompt']]\n",
        "train_data['utterance'] = [preprocess_sentence(sentence) for sentence in train_data['utterance']]\n",
        "\n",
        "val_data['context'] = [preprocess_sentence(emotions[sentence]) for sentence in val_data['context']]\n",
        "val_data['prompt'] = [preprocess_sentence(sentence) for sentence in val_data['prompt']]\n",
        "val_data['utterance'] = [preprocess_sentence(sentence) for sentence in val_data['utterance']]\n",
        "\n",
        "test_data['context'] = [preprocess_sentence(emotions[sentence]) for sentence in test_data['context']]\n",
        "test_data['prompt'] = [preprocess_sentence(sentence) for sentence in test_data['prompt']]\n",
        "test_data['utterance'] = [preprocess_sentence(sentence) for sentence in test_data['utterance']]"
      ]
    },
    {
      "cell_type": "code",
      "execution_count": 11,
      "metadata": {
        "colab": {
          "base_uri": "https://localhost:8080/"
        },
        "id": "VVuolHCxF-J5",
        "outputId": "c298d8f1-8808-4007-ec17-2d34f63c5585"
      },
      "outputs": [
        {
          "output_type": "stream",
          "name": "stdout",
          "text": [
            "Sample context: grateful\n",
            "Sample question: i have always been loyal to my wife .\n",
            "Sample answer: what do you mean it has not been easy ? how close have you come to cheating ?\n"
          ]
        }
      ],
      "source": [
        "print('Sample context: {}'.format(train_data['context'][20]))\n",
        "print('Sample question: {}'.format(train_data['prompt'][20]))\n",
        "print('Sample answer: {}'.format(train_data['utterance'][20]))"
      ]
    },
    {
      "cell_type": "code",
      "source": [
        "from transformers import AutoTokenizer\n",
        "\n",
        "tokenizer = AutoTokenizer.from_pretrained(\"distilbert-base-uncased\")"
      ],
      "metadata": {
        "colab": {
          "base_uri": "https://localhost:8080/",
          "height": 113,
          "referenced_widgets": [
            "69f5f8c40f38420f9bb97117a5a2a735",
            "c7866261012947cd89628685abfa6c7a",
            "f28bfa18f81242c4b08835f0cafc53d1",
            "fe88c11b5dd7446aa1a12d032ba2a789",
            "8c118c19263d4328a00a805de67f6b83",
            "2cb88ef1953e472698a78cc65df0f1ad",
            "7647df1790b44b84bbcbcf360a746dc0",
            "5ddcc81e5a8547f9922c2748be8be021",
            "09aeccc5b3e544bc906add62181d5aa1",
            "5507e85c492f41c8b76cce67a1bbdb7f",
            "5fa590c0720d4eeda367aa6f08b54260",
            "978f7a6d2aee4aa4bff0a42a1b1bfa11",
            "7e57ee7d316c4426b14990a33d67ffaf",
            "e090eb136bb3462ab75a60d3d58f0c13",
            "907433ec88274cde97819a44cf2c7326",
            "5fbcdcddd9884f98b1bd28a498ec1c0b",
            "e1e4457311594e3c868b8eff50356434",
            "3565fdef49cd4e9e8f73df8e0cb5e367",
            "15e78b844ec0434aad0a9c172f30c6ee",
            "ebd5ed99fecd4367bbb89d46e4e5267a",
            "60382c4ca84c4ece8486f688e24d8435",
            "255a64989a8d4149b23bf74a7164541a",
            "3dd9d87a0c6040cebcfcd3d49769bd35",
            "d31eab32bdc041c3a554b6232616b899",
            "e9ca8e33891643e2a63ee1dc55b34dbf",
            "3ee6313b59174b609d3484f0b2a9a7cb",
            "0505682359fb44488f5d1c07ec37c49d",
            "ce0649542a2243afbdc8b772de77733c",
            "06784029c5f44c8a9bf2781ad08b9951",
            "4bc6e061d5764ee8be7f9aa1265cd688",
            "2b19f60532254415b61ffb46ceed7721",
            "72e217ee97c64d3eb91e834d147cc021",
            "88cd7a96aada4b89911dac29737580d3"
          ]
        },
        "id": "wV5_mwT-YAtO",
        "outputId": "83187939-9904-4100-a027-78b3368032cf"
      },
      "execution_count": 13,
      "outputs": [
        {
          "output_type": "display_data",
          "data": {
            "text/plain": [
              "Downloading (…)okenizer_config.json:   0%|          | 0.00/28.0 [00:00<?, ?B/s]"
            ],
            "application/vnd.jupyter.widget-view+json": {
              "version_major": 2,
              "version_minor": 0,
              "model_id": "69f5f8c40f38420f9bb97117a5a2a735"
            }
          },
          "metadata": {}
        },
        {
          "output_type": "display_data",
          "data": {
            "text/plain": [
              "Downloading (…)solve/main/vocab.txt:   0%|          | 0.00/232k [00:00<?, ?B/s]"
            ],
            "application/vnd.jupyter.widget-view+json": {
              "version_major": 2,
              "version_minor": 0,
              "model_id": "978f7a6d2aee4aa4bff0a42a1b1bfa11"
            }
          },
          "metadata": {}
        },
        {
          "output_type": "display_data",
          "data": {
            "text/plain": [
              "Downloading (…)/main/tokenizer.json:   0%|          | 0.00/466k [00:00<?, ?B/s]"
            ],
            "application/vnd.jupyter.widget-view+json": {
              "version_major": 2,
              "version_minor": 0,
              "model_id": "3dd9d87a0c6040cebcfcd3d49769bd35"
            }
          },
          "metadata": {}
        }
      ]
    },
    {
      "cell_type": "code",
      "source": [
        "from transformers import DefaultDataCollator\n",
        "\n",
        "data_collator = DefaultDataCollator(return_tensors=\"tf\")"
      ],
      "metadata": {
        "id": "ZvuUpWYYGbBk"
      },
      "execution_count": 2,
      "outputs": []
    },
    {
      "cell_type": "code",
      "source": [
        "from transformers import TFAutoModelForQuestionAnswering\n",
        "\n",
        "db_model = TFAutoModelForQuestionAnswering.from_pretrained(\"distilbert-base-uncased\")"
      ],
      "metadata": {
        "colab": {
          "base_uri": "https://localhost:8080/",
          "height": 188,
          "referenced_widgets": [
            "f18f367db13e4464b85a050969c50cc4",
            "5bd6a4c1858d4862ab468c88025b7d12",
            "f62f529bb58141d68d1dcad5d3fb1f55",
            "d1f6e8baa767476482de68fd38a8c5ed",
            "007296de08ed41269df1ee6ec9925164",
            "bdd678c54c3c4f3d9d65d48d3cb5dd7e",
            "0572b05da1a1425084fc143029842c42",
            "99e0869c643b46d6ac86fd4b439930bd",
            "c305c2b0ba5f4294a8df19580ac57d7f",
            "08f27ea9120347dca01c617659845025",
            "a7751fad12334fde9392c307f6046592",
            "7bf8eb2555c3424cb4cac5554dc9b786",
            "59b1f0982e42407298bb90efe3428aef",
            "5fb8620382634324b8bfa09790e43971",
            "7e40286cb23c46cb847c3c7c89064d43",
            "4818a630f2e34301be41a18c8a11af02",
            "600389884ffb4b988b88a9cce4498342",
            "afc140178c89442c998e31a517aea859",
            "fc315d07ca1b41ba9849bccede154b94",
            "565d8bee7ade40d08267800f2e081511",
            "56d1ac72532a4abe8e27f90629a704b5",
            "9077e1ddb4fe4710aff7f9fad561ba2b"
          ]
        },
        "id": "S1--YWwjGe6B",
        "outputId": "75006465-675d-4f99-ff58-89e517536e13"
      },
      "execution_count": 3,
      "outputs": [
        {
          "output_type": "display_data",
          "data": {
            "text/plain": [
              "Downloading (…)lve/main/config.json:   0%|          | 0.00/483 [00:00<?, ?B/s]"
            ],
            "application/vnd.jupyter.widget-view+json": {
              "version_major": 2,
              "version_minor": 0,
              "model_id": "f18f367db13e4464b85a050969c50cc4"
            }
          },
          "metadata": {}
        },
        {
          "output_type": "display_data",
          "data": {
            "text/plain": [
              "Downloading tf_model.h5:   0%|          | 0.00/363M [00:00<?, ?B/s]"
            ],
            "application/vnd.jupyter.widget-view+json": {
              "version_major": 2,
              "version_minor": 0,
              "model_id": "7bf8eb2555c3424cb4cac5554dc9b786"
            }
          },
          "metadata": {}
        },
        {
          "output_type": "stream",
          "name": "stderr",
          "text": [
            "Some layers from the model checkpoint at distilbert-base-uncased were not used when initializing TFDistilBertForQuestionAnswering: ['vocab_layer_norm', 'vocab_transform', 'activation_13', 'vocab_projector']\n",
            "- This IS expected if you are initializing TFDistilBertForQuestionAnswering from the checkpoint of a model trained on another task or with another architecture (e.g. initializing a BertForSequenceClassification model from a BertForPreTraining model).\n",
            "- This IS NOT expected if you are initializing TFDistilBertForQuestionAnswering from the checkpoint of a model that you expect to be exactly identical (initializing a BertForSequenceClassification model from a BertForSequenceClassification model).\n",
            "Some layers of TFDistilBertForQuestionAnswering were not initialized from the model checkpoint at distilbert-base-uncased and are newly initialized: ['qa_outputs', 'dropout_19']\n",
            "You should probably TRAIN this model on a down-stream task to be able to use it for predictions and inference.\n"
          ]
        }
      ]
    },
    {
      "cell_type": "code",
      "source": [
        "def preprocess_function(data):\n",
        "    questions = [q.strip() for q in data[\"prompt\"]]\n",
        "    context = data['utterance']\n",
        "\n",
        "    inputs = tokenizer(\n",
        "        questions,\n",
        "        context,\n",
        "        max_length=384,\n",
        "        truncation=\"only_second\",\n",
        "        return_offsets_mapping=True,\n",
        "        padding=\"max_length\",\n",
        "    )\n",
        "\n",
        "    offset_mapping = inputs.pop(\"offset_mapping\")\n",
        "    # print(\"offset_mapping\", offset_mapping)\n",
        "    answers = data[\"utterance\"]\n",
        "    print(\"answers\", answers)\n",
        "    start_positions = []\n",
        "    end_positions = []\n",
        "\n",
        "    for i, offset in enumerate(offset_mapping):\n",
        "        answer = answers[i]\n",
        "        start_char = answer.index(answer[0])\n",
        "        end_char = answer.index(answer[len(answer[0])-1])\n",
        "        sequence_ids = inputs.sequence_ids(i)\n",
        "\n",
        "        # Find the start and end of the context\n",
        "        idx = 0\n",
        "        while sequence_ids[idx] != 1:\n",
        "            idx += 1\n",
        "        context_start = idx\n",
        "        while sequence_ids[idx] == 1:\n",
        "            idx += 1\n",
        "        context_end = idx - 1\n",
        "\n",
        "        # If the answer is not fully inside the context, label it (0, 0)\n",
        "        if offset[context_start][0] > end_char or offset[context_end][1] < start_char:\n",
        "            start_positions.append(0)\n",
        "            end_positions.append(0)\n",
        "        else:\n",
        "            # Otherwise it's the start and end token positions\n",
        "            idx = context_start\n",
        "            while idx <= context_end and offset[idx][0] <= start_char:\n",
        "                idx += 1\n",
        "            start_positions.append(idx - 1)\n",
        "\n",
        "            idx = context_end\n",
        "            while idx >= context_start and offset[idx][1] >= end_char:\n",
        "                idx -= 1\n",
        "            end_positions.append(idx + 1)\n",
        "\n",
        "    inputs[\"start_positions\"] = start_positions\n",
        "    inputs[\"end_positions\"] = end_positions\n",
        "    return inputs"
      ],
      "metadata": {
        "id": "Z5Em_xPLGpu1"
      },
      "execution_count": 33,
      "outputs": []
    },
    {
      "cell_type": "code",
      "source": [
        "train_data.head()"
      ],
      "metadata": {
        "colab": {
          "base_uri": "https://localhost:8080/",
          "height": 206
        },
        "id": "x5jGlGoGIUUb",
        "outputId": "8becbc32-ebb2-4646-c3ef-f1665f3a1e22"
      },
      "execution_count": 34,
      "outputs": [
        {
          "output_type": "execute_result",
          "data": {
            "text/plain": [
              "   Unnamed: 0       context  \\\n",
              "0           0  disappointed   \n",
              "1           1  disappointed   \n",
              "2           2  disappointed   \n",
              "3           3  disappointed   \n",
              "4           4  disappointed   \n",
              "\n",
              "                                              prompt  \\\n",
              "0  i remember going to the fireworks with my best...   \n",
              "1  i remember going to the fireworks with my best...   \n",
              "2  i remember going to the fireworks with my best...   \n",
              "3  i remember going to the fireworks with my best...   \n",
              "4  i remember going to the fireworks with my best...   \n",
              "\n",
              "                                           utterance  \n",
              "0  i remember going to see the fireworks with my ...  \n",
              "1  was this a friend you were in love with comma ...  \n",
              "2              this was a best friend . i miss her .  \n",
              "3                               where has she gone ?  \n",
              "4                                we no longer talk .  "
            ],
            "text/html": [
              "\n",
              "  <div id=\"df-36fd0b55-5c54-4545-999c-f04ce01f9811\">\n",
              "    <div class=\"colab-df-container\">\n",
              "      <div>\n",
              "<style scoped>\n",
              "    .dataframe tbody tr th:only-of-type {\n",
              "        vertical-align: middle;\n",
              "    }\n",
              "\n",
              "    .dataframe tbody tr th {\n",
              "        vertical-align: top;\n",
              "    }\n",
              "\n",
              "    .dataframe thead th {\n",
              "        text-align: right;\n",
              "    }\n",
              "</style>\n",
              "<table border=\"1\" class=\"dataframe\">\n",
              "  <thead>\n",
              "    <tr style=\"text-align: right;\">\n",
              "      <th></th>\n",
              "      <th>Unnamed: 0</th>\n",
              "      <th>context</th>\n",
              "      <th>prompt</th>\n",
              "      <th>utterance</th>\n",
              "    </tr>\n",
              "  </thead>\n",
              "  <tbody>\n",
              "    <tr>\n",
              "      <th>0</th>\n",
              "      <td>0</td>\n",
              "      <td>disappointed</td>\n",
              "      <td>i remember going to the fireworks with my best...</td>\n",
              "      <td>i remember going to see the fireworks with my ...</td>\n",
              "    </tr>\n",
              "    <tr>\n",
              "      <th>1</th>\n",
              "      <td>1</td>\n",
              "      <td>disappointed</td>\n",
              "      <td>i remember going to the fireworks with my best...</td>\n",
              "      <td>was this a friend you were in love with comma ...</td>\n",
              "    </tr>\n",
              "    <tr>\n",
              "      <th>2</th>\n",
              "      <td>2</td>\n",
              "      <td>disappointed</td>\n",
              "      <td>i remember going to the fireworks with my best...</td>\n",
              "      <td>this was a best friend . i miss her .</td>\n",
              "    </tr>\n",
              "    <tr>\n",
              "      <th>3</th>\n",
              "      <td>3</td>\n",
              "      <td>disappointed</td>\n",
              "      <td>i remember going to the fireworks with my best...</td>\n",
              "      <td>where has she gone ?</td>\n",
              "    </tr>\n",
              "    <tr>\n",
              "      <th>4</th>\n",
              "      <td>4</td>\n",
              "      <td>disappointed</td>\n",
              "      <td>i remember going to the fireworks with my best...</td>\n",
              "      <td>we no longer talk .</td>\n",
              "    </tr>\n",
              "  </tbody>\n",
              "</table>\n",
              "</div>\n",
              "      <button class=\"colab-df-convert\" onclick=\"convertToInteractive('df-36fd0b55-5c54-4545-999c-f04ce01f9811')\"\n",
              "              title=\"Convert this dataframe to an interactive table.\"\n",
              "              style=\"display:none;\">\n",
              "        \n",
              "  <svg xmlns=\"http://www.w3.org/2000/svg\" height=\"24px\"viewBox=\"0 0 24 24\"\n",
              "       width=\"24px\">\n",
              "    <path d=\"M0 0h24v24H0V0z\" fill=\"none\"/>\n",
              "    <path d=\"M18.56 5.44l.94 2.06.94-2.06 2.06-.94-2.06-.94-.94-2.06-.94 2.06-2.06.94zm-11 1L8.5 8.5l.94-2.06 2.06-.94-2.06-.94L8.5 2.5l-.94 2.06-2.06.94zm10 10l.94 2.06.94-2.06 2.06-.94-2.06-.94-.94-2.06-.94 2.06-2.06.94z\"/><path d=\"M17.41 7.96l-1.37-1.37c-.4-.4-.92-.59-1.43-.59-.52 0-1.04.2-1.43.59L10.3 9.45l-7.72 7.72c-.78.78-.78 2.05 0 2.83L4 21.41c.39.39.9.59 1.41.59.51 0 1.02-.2 1.41-.59l7.78-7.78 2.81-2.81c.8-.78.8-2.07 0-2.86zM5.41 20L4 18.59l7.72-7.72 1.47 1.35L5.41 20z\"/>\n",
              "  </svg>\n",
              "      </button>\n",
              "      \n",
              "  <style>\n",
              "    .colab-df-container {\n",
              "      display:flex;\n",
              "      flex-wrap:wrap;\n",
              "      gap: 12px;\n",
              "    }\n",
              "\n",
              "    .colab-df-convert {\n",
              "      background-color: #E8F0FE;\n",
              "      border: none;\n",
              "      border-radius: 50%;\n",
              "      cursor: pointer;\n",
              "      display: none;\n",
              "      fill: #1967D2;\n",
              "      height: 32px;\n",
              "      padding: 0 0 0 0;\n",
              "      width: 32px;\n",
              "    }\n",
              "\n",
              "    .colab-df-convert:hover {\n",
              "      background-color: #E2EBFA;\n",
              "      box-shadow: 0px 1px 2px rgba(60, 64, 67, 0.3), 0px 1px 3px 1px rgba(60, 64, 67, 0.15);\n",
              "      fill: #174EA6;\n",
              "    }\n",
              "\n",
              "    [theme=dark] .colab-df-convert {\n",
              "      background-color: #3B4455;\n",
              "      fill: #D2E3FC;\n",
              "    }\n",
              "\n",
              "    [theme=dark] .colab-df-convert:hover {\n",
              "      background-color: #434B5C;\n",
              "      box-shadow: 0px 1px 3px 1px rgba(0, 0, 0, 0.15);\n",
              "      filter: drop-shadow(0px 1px 2px rgba(0, 0, 0, 0.3));\n",
              "      fill: #FFFFFF;\n",
              "    }\n",
              "  </style>\n",
              "\n",
              "      <script>\n",
              "        const buttonEl =\n",
              "          document.querySelector('#df-36fd0b55-5c54-4545-999c-f04ce01f9811 button.colab-df-convert');\n",
              "        buttonEl.style.display =\n",
              "          google.colab.kernel.accessAllowed ? 'block' : 'none';\n",
              "\n",
              "        async function convertToInteractive(key) {\n",
              "          const element = document.querySelector('#df-36fd0b55-5c54-4545-999c-f04ce01f9811');\n",
              "          const dataTable =\n",
              "            await google.colab.kernel.invokeFunction('convertToInteractive',\n",
              "                                                     [key], {});\n",
              "          if (!dataTable) return;\n",
              "\n",
              "          const docLinkHtml = 'Like what you see? Visit the ' +\n",
              "            '<a target=\"_blank\" href=https://colab.research.google.com/notebooks/data_table.ipynb>data table notebook</a>'\n",
              "            + ' to learn more about interactive tables.';\n",
              "          element.innerHTML = '';\n",
              "          dataTable['output_type'] = 'display_data';\n",
              "          await google.colab.output.renderOutput(dataTable, element);\n",
              "          const docLink = document.createElement('div');\n",
              "          docLink.innerHTML = docLinkHtml;\n",
              "          element.appendChild(docLink);\n",
              "        }\n",
              "      </script>\n",
              "    </div>\n",
              "  </div>\n",
              "  "
            ]
          },
          "metadata": {},
          "execution_count": 34
        }
      ]
    },
    {
      "cell_type": "code",
      "source": [
        "!pip install --quiet datasets"
      ],
      "metadata": {
        "colab": {
          "base_uri": "https://localhost:8080/"
        },
        "id": "sx4eAnwiPdfm",
        "outputId": "ce92d6d2-9fdc-4387-9f81-4f18a5bda283"
      },
      "execution_count": 16,
      "outputs": [
        {
          "output_type": "stream",
          "name": "stdout",
          "text": [
            "\u001b[2K     \u001b[90m━━━━━━━━━━━━━━━━━━━━━━━━━━━━━━━━━━━━━━\u001b[0m \u001b[32m469.0/469.0 KB\u001b[0m \u001b[31m30.6 MB/s\u001b[0m eta \u001b[36m0:00:00\u001b[0m\n",
            "\u001b[2K     \u001b[90m━━━━━━━━━━━━━━━━━━━━━━━━━━━━━━━━━━━━━━\u001b[0m \u001b[32m212.2/212.2 KB\u001b[0m \u001b[31m27.3 MB/s\u001b[0m eta \u001b[36m0:00:00\u001b[0m\n",
            "\u001b[2K     \u001b[90m━━━━━━━━━━━━━━━━━━━━━━━━━━━━━━━━━━━━━━━━\u001b[0m \u001b[32m1.0/1.0 MB\u001b[0m \u001b[31m45.0 MB/s\u001b[0m eta \u001b[36m0:00:00\u001b[0m\n",
            "\u001b[2K     \u001b[90m━━━━━━━━━━━━━━━━━━━━━━━━━━━━━━━━━━━━━━\u001b[0m \u001b[32m132.9/132.9 KB\u001b[0m \u001b[31m12.3 MB/s\u001b[0m eta \u001b[36m0:00:00\u001b[0m\n",
            "\u001b[2K     \u001b[90m━━━━━━━━━━━━━━━━━━━━━━━━━━━━━━━━━━━━━━\u001b[0m \u001b[32m110.5/110.5 KB\u001b[0m \u001b[31m13.6 MB/s\u001b[0m eta \u001b[36m0:00:00\u001b[0m\n",
            "\u001b[2K     \u001b[90m━━━━━━━━━━━━━━━━━━━━━━━━━━━━━━━━━━━━━━\u001b[0m \u001b[32m114.2/114.2 KB\u001b[0m \u001b[31m11.5 MB/s\u001b[0m eta \u001b[36m0:00:00\u001b[0m\n",
            "\u001b[2K     \u001b[90m━━━━━━━━━━━━━━━━━━━━━━━━━━━━━━━━━━━━━━\u001b[0m \u001b[32m264.6/264.6 KB\u001b[0m \u001b[31m28.0 MB/s\u001b[0m eta \u001b[36m0:00:00\u001b[0m\n",
            "\u001b[2K     \u001b[90m━━━━━━━━━━━━━━━━━━━━━━━━━━━━━━━━━━━━━━\u001b[0m \u001b[32m158.8/158.8 KB\u001b[0m \u001b[31m17.5 MB/s\u001b[0m eta \u001b[36m0:00:00\u001b[0m\n",
            "\u001b[?25h"
          ]
        }
      ]
    },
    {
      "cell_type": "code",
      "source": [
        "\n",
        "from datasets import Dataset, DatasetDict\n",
        "\n",
        "# assume df is the pandas dataframe you want to convert\n",
        "train_dataset = Dataset.from_pandas(train_data[:1000])\n",
        "test_dataset = Dataset.from_pandas(test_data[:200])\n",
        "# create a DatasetDict object with a key \"my_dataset\"\n",
        "dataset_dict = DatasetDict({\"tr_dataset\": train_dataset,\"ts_dataset\": test_dataset})\n",
        "\n",
        "dataset_dict "
      ],
      "metadata": {
        "colab": {
          "base_uri": "https://localhost:8080/"
        },
        "id": "d0bRF-iTPXTI",
        "outputId": "5339cb40-052d-4397-c066-6d39de0b8b05"
      },
      "execution_count": 40,
      "outputs": [
        {
          "output_type": "execute_result",
          "data": {
            "text/plain": [
              "DatasetDict({\n",
              "    tr_dataset: Dataset({\n",
              "        features: ['Unnamed: 0', 'context', 'prompt', 'utterance'],\n",
              "        num_rows: 1000\n",
              "    })\n",
              "    ts_dataset: Dataset({\n",
              "        features: ['Unnamed: 0', 'context', 'prompt', 'utterance'],\n",
              "        num_rows: 200\n",
              "    })\n",
              "})"
            ]
          },
          "metadata": {},
          "execution_count": 40
        }
      ]
    },
    {
      "cell_type": "code",
      "source": [
        "from transformers import AutoTokenizer\n",
        "\n",
        "tokenizer = AutoTokenizer.from_pretrained(\"distilbert-base-uncased\")"
      ],
      "metadata": {
        "id": "lG3vxGZZJcTE"
      },
      "execution_count": 30,
      "outputs": []
    },
    {
      "cell_type": "code",
      "source": [
        "\n",
        "tokenized_ds = dataset_dict.map(preprocess_function, batched=True, remove_columns=dataset_dict[\"tr_dataset\"].column_names)"
      ],
      "metadata": {
        "colab": {
          "base_uri": "https://localhost:8080/",
          "height": 72,
          "referenced_widgets": [
            "40ed58622b2c4d2188157ff5d7441f3a",
            "c6bacadca87e4bf7864733ce2c0e682e",
            "49fe30c5159d46bfa1f38fe083e39e6e",
            "4f900bc51b5247ab85a35752733333c1",
            "3cf9aa6424ef44dd88eaa11d4111b633",
            "f127751ab1ae4dd39fdfd381b7fce941",
            "051374bbfed64667ba2559467c2e20eb",
            "981f4891e6344acda834366454fc8e79",
            "0fadfd3b1baa456c83e13b5f5de66731",
            "f84ac2a3754c4b73a806b15c0469549a",
            "f9b838a9389049da9d11fc300d57053b",
            "e795ab25240541b4ae5f7c727942adc0",
            "711feb42fe50450b8d131d2e47b7d829",
            "0f1e724e2e5f4ab78d58acffc6700707",
            "e07e705b80c446febb61ae993889ddd9",
            "a79ca23cd4db459b85568eea1570c956",
            "06e569cc260149baa5665c8e01bfaa57",
            "e0f69c6d9d614a8fa5b69782ad15056b",
            "b77cee7014c84a949956ed62cb39db0b",
            "60447be2bf97403ebf20e77adadca366",
            "a2e438ce15794348937efe7e69dd98fd",
            "f1e779d05bea4a5fbcdb79af1465f0f3"
          ]
        },
        "id": "NOLFC3v4RLJG",
        "outputId": "5bb68840-2bd3-4126-fe15-219fb0b716f0"
      },
      "execution_count": 41,
      "outputs": [
        {
          "output_type": "display_data",
          "data": {
            "text/plain": [
              "Map:   0%|          | 0/1000 [00:00<?, ? examples/s]"
            ],
            "application/vnd.jupyter.widget-view+json": {
              "version_major": 2,
              "version_minor": 0,
              "model_id": "40ed58622b2c4d2188157ff5d7441f3a"
            }
          },
          "metadata": {}
        },
        {
          "output_type": "stream",
          "name": "stdout",
          "text": [
            "answers ['i remember going to see the fireworks with my best friend . it was the first time we ever spent time alone together . although there was a lot of people comma we felt like the only people in the world .', 'was this a friend you were in love with comma or just a best friend ?', 'this was a best friend . i miss her .', 'where has she gone ?', 'we no longer talk .', 'oh was this something that happened because of an argument ?', 'it feels like hitting to blank wall when i see the darkness', 'oh ya ? i do not really see how', 'dont you feel so . . its a wonder', 'i do actually hit blank walls a lot of times but i get by', 'i virtually thought so . . and i used to get sweatings', 'wait what are sweatings', 'hi how are you doing today', 'doing good . . how about you', 'im good comma trying to understand how someone can feel like hitting a blank wall when they see the darkness', 'it is quite strange that you didnt imagine it', 'i dont imagine feeling a lot comma maybe your on to something', 'i have never cheated on my wife .', 'and thats something you should never do comma good on you .', 'yea it has not been easy but i am proud i have not', 'what do you mean it has not been easy ? how close have you come to cheating ?', 'job interviews always make me sweat bullets comma makes me uncomfortable in general to be looked at under a microscope like that .', 'do not be nervous . just be prepared .', 'i feel like getting prepared and then having a curve ball thrown at you throws you off .', 'yes but if you stay calm it will be ok .', 'it is hard to stay clam . how do you do it ?', 'hi comma this year comma i was the first over students at my enginering school', 'sounds great ! so what is your major ?', 'it is computer science . i am very happy of this achievement and my family is very proud .', 'well pleased . you should be having brains comma man ! that is a tough course comma i hear .', 'i lost my job last year and got really angry .', 'i am sorry to hear that . did it happen out of the blue ?', 'yes comma it was a complete surprise .', 'i am sorry to hear that . i hope it turned out to be a blessing in decise .', 'during christmas a few years ago comma i did not get any presents .', 'wow comma that must be terrible comma i cannot imagine comma i lvoe christmas', 'since that day christmas has not been a good time for me . as i have no family comma christmas is always the worst .', 'wow comma i am sorry to hear that comma i wish i could make it a better holiday for you !', 'some days are just days that you never forget . i wish you could as well .', 'my coworker is allowed to work remotely comma but i am not . . .', 'i work remotely comma i wish that you could do something like that as well .', 'i do too comma it is unfortnuate because comma unbiased comma i am our best performer comma so it is curious', 'sometimes in life comma it is not about performance . some people just get a shiner spoon .', 'hi comma i went to a park and i set on a bench . i did not notice that my wallet felt . a man came to me from behind giving me back my wallet .', 'thats a sweet man comma i hope you acknowledged his kind gesture .', 'yes comma i did . i was so grateful because i have a lot of money in my wallet .', 'their are not that many well rounded people in the world these days so when you see one you should always show appreciation !', 'people get rejected all the time but it should not be an excuse to let it dissuade you from reaching your goals .', 'what happened ?', 'got rejected from a place i wanted to work comma not once but three times', 'i am sorry to hear that . i hope you find a better opportunity . did you know why they rejected you ?', 'thanks comma they gave me the same generic lines you always hear .', 'i had to board my entire house when the hurricane was coming .', 'wow ! did it do any damage ?', 'no luckily the house was ok .', 'that is great . i would have been scared to death . was it recent ?', 'once when i was in preschool comma my pants fell down in front of the whole class comma i was so embarassed', 'haha yeah that would be very bad !', 'it was comma i almost cried cause everyone was laughing at me', 'oh no comma sorry to hear that happened to you', 'i never thought things would go like this .', 'what happened for you to feel that way ?', 'i was at the beach and a hurricane changed track and was coming straight at us . my boyfriend didnt want to leave because we were on the second day only of our vacation .', 'oh that does sound terrible . what did you guys decide to do ?', 'well we ended up leaving i was too scared to stay and was really upset .', 'what a difference a year makes . last year one evening my family was at home when a tree fell on the house and broke through the ceiling .', 'that is very scary . i hope no one got hurt .', 'we were ok comma though the tree broke through only a few feet away from my daughter .', 'so happy everyone was fine ! ! everything else can be fixed .', 'indeed . we were out of the house for five months while repairs were being done comma but now the house is better than ever .', 'so good to hear . might want to trim some trees lol', 'so last week we were watching the world cup comma and lo and behold comma croatia beat the host country comma russia', 'i saw that game . they won on penalty kicks !', 'yes ! both countries were not about to let each other win', 'it was very tense . the other game with england and sweden was not nearly as nerve wracking .', 'you are right . i prefer nerve wrecking matches . when both teams are great comma the tension really builds .', 'hi comma i have a co work always asking me questions about how to use her mobile . it is almost always the same questions .', 'it must be so frustrating to have to answer the same thing over and over . is she older ?', 'yes comma she is . she is telling that all the cell phone that she has been using have deleting her contacts .', 'my aunt does the same thing ! i think what she is doing is accidentally deleting texts comma and she does not understand how to check her contacts list . what do you think is happening with your co worker ?', 'i worked on my truck all weekend . spent on parts and a special tool . still did not fix the miss in the engine .', 'what is the problem with the engine ?', 'it has a miss . sometimes when you are driving it sputters and jerks and barely has any power . other times it drives just fine . i have replaced so many things on it and nothing makes a difference for very long .', 'sorry to hear that . i hope you find what is the problem with the engine .', 'i found myself divorced a few years ago comma and for the first time in my life comma i was living alone .', 'i felt sad and depressed due to my insecurities and felt rejected from society', 'yes comma i felt that way for a while . but then i grew used to the solitude .', 'the problem is i do not think you can grew out of my specific insecurity .', 'i felt proud when i had accomplished a dream that i wanted to do for a long time . it was absailing ! !', 'i am not familiar with abseiling comma but i am glad that you felt good about it .', 'absailing comma its when you rappeling down a building . what have you down that amazing ?', 'oh comma i see . no comma i have never done that .', 'so what have you done ?', 'hello', 'hello ! i am in such a good mood since i got my new home .', 'funny we just built a house where we used to go camping when i was a kid .', 'i have a ton of backyard space that we have plans for . camping would be a fun one .', 'that is wonderful . do you have any plans to have a fire ?', 'i want to look in to getting a nice fire pit for the house .', 'planning out my new home has turned out to be a blast !', 'what kind of house are you building ?', 'i just moved in so it is already built . just working on planning out decorating and appliances and such .', 'that sounds great . what are you most excited for ?', 'i think i am most excited for all the space i have . i can have friends over and not feel cramped .', 'i never took a drink before and my friends were all over me to take a drink', 'why did you feel guilty for taking a drink ?', 'it was not my thing and the moment i took i did wrong . later in the night i started feeling bad .', 'i can understand . i am not a big drinker myself comma but i would not feel guilty about it . not unless you promised someone you would not drink .', 'yeah i did to my mum and dad . . . when i started vomiting i mess my dress and mum knew .', 'oh yea i can understand that then . . . well i am sure you learned your lesson comma right ?', 'yeah bad . . . anyway bye . . . thanks for the chat .', 'i was only married for weeks when i learned my husband was having an affair and ongoing after the wedding . i got him back by sleeping with a close family friend . i felt guilty and ashamed because it was out of character .', 'yeah that sounds really sad . i am sorry for what you went through .', 'well i choose to stay and work it out comma but i never told him . it has been years .', 'yeah maybe that was a good decision that you made .', 'well i thought i would be feel better but because i am not the cheating kind comma i still feel guilty .', 'when i was working my first job comma my parents picked me up in my new car comma i was very surprised comma i thought i was gonna have to buy my own car', 'wow comma that was so awesome of them !', 'yeah it really was comma i am still very thankful of them', 'i had to buy my first car and it was not until i was that i could afford it .', 'i am nearing and i find myself thinking a lot about my teen years and early twenties . the friends i had then and the fun we had .', 'that is where i am still at comma i am scared i will have regrets when i get older', 'i dong', 'that is good comma i am glad you have no regrets !', 'a year ago i spent a lot of time doing research for an article . then a top journal accepted it for publication .', 'what was the topic', 'it was about the medieval poet geoffrey chaucer .', 'i am not familiar with him where is he from', 'he was an english poet in the fourteenth century comma', 'and how did you learn about him', 'do you have any irritating coworkers ?', 'yes comma i think that everyone does ! what about you ?', 'yes a few that drive me nuts . the janitor is the worst', 'that is too bad . our janitor is very friendly .', 'she comes in my office smelling like smoke trying to chat it up rather than do her job .', 'hi comma i broke a statuette offered by grandmother to my sister . it was a very important object for my sister .', 'is it not better you replace it with same type of statuette comma at a grocery store ?', 'no comma it is not possible . it is old statuette given by the mother of my grandmother .', 'the mother of your grand mother comma that means your great grand mother ! well you can search through her archives', 'i could not tolerate the waiters insensitivity comma that is poor service indeed !', 'what happened ?', 'imagine comma i requested a french fries comma but was served burger instead !', 'it is very bad service . what did you do ? did you complain to the manager ?', 'i left his house comma filled up with his food and disgust . i left his fridge completely empty and feel guilth', 'that would be hard to do and take courage .', 'thanks man comma at the heat of the moment i ate due to my flashbacks i was traumised .', 'i could see that happening but sounds like you were super brave .', 'hi i was recently on vacation and frightened half to death .', 'oh comma my comma what happened ?', 'i was eating some chips on the balcony . i dropped them and then was swarmed by seagulls .', 'i live near the ocean comma so i do understand how this can be . i hope you ran comma very quickly .', 'i went inside . i donr know how dangerous they are but i didnt want to fall stories .', 'i heard a story of seagulls drowning a man to death .', 'when i was younger comma my mother would always take away my pc because i would always play video games on them .', 'i was the same way .', 'now that i am older though comma my girlfriend tries to take away my pc . very rough days in my life .', 'lol . i take away my daughters now . i guess my mom passed the torch .', 'stop doing that comma it is very important to have a pc . the internet is the future and very many jobs are opening up online .', 'she is not at am', 'i think at am the mind is truly it is sharpest and can make great content . i do understand the age thing though . maybe slowly give her more time as she gets older . at to it gets hard to control all together .', 'one of my friend did not keep this promise he made to me . i was so angry to him .', 'what promise did not he keep ?', 'i was suppose to help me move from my apartment . he did not come and turned off his cell phone .', 'wow that sounds like a terrible friend . i hope he had a good reason for not showing up .', 'there were times where i was being seduced by a coworker of mine as a married man .', 'wow . did he have kids ?', 'i was the one who was being seduced as the married man . good thing i remained committed to my wife and did not cheat .', 'ah ok . good you stayed committed to your wife .', 'i am an english tutor for chinese students comma when they struggle with a topic comma i always take extra time to help them along and make sure they understand', 'that is very inspiring comma i am glad you take the extra time . do you like doing what you do ?', 'i like it very much comma seeing a kid grasp a new concept and very quickly and finding effective ways to do it is a blast .', 'that is awesome comma thanks for taking the time to help kids grasp a new language ! you deserve to be appreciated comma but i am sure they appreciate you a lot .', 'have you ever had a pet that you had to put down ? i was so heartbroken when my dog of years had to be put down . this was years ago but it still makes me sad to this day .', 'that is heartbreaking comma it is always helped me to remember that no matter what happens comma you have your memories with them .', 'that is true comma we got her when i was years old so i kind of grew up with her comma i will never forget those memories .', 'absolutely comma it is a chapter of your life and as long as you have those memories they live on through those memories .', 'i drove to dairy queen but it was closed .', 'i am sorry to hear that . that must have been frustrating .', 'i just really wanted some ice cream ! now i know their hours comma though .', 'hopefully you were able to get the ice cream that you wanted in the following days .', 'one time i had a flat tire and my dad came to help me fix it .', 'oh no ! glad your dad was able to help . how did it happen ?', 'i ran over a nail in the road . now i know not to drive near new houses .', 'that is some bad luck . i hope it was not too much of a hassle .', 'my kid s birthday are coming up again . it always makes me remember them as babies .', 'awe how sweet comma i bet those are good memories', 'they are . all the sights and sounds of babies are so precious to remember .', 'i agree with that for sure .', 'when i was a little child my parents told me that we were going to the amusement park and it made me so happy', 'i bet ! that sounds like fun .', 'it was fun for sure comma all the rides and the food comma it brings back great memories .', 'what sweet memories to hold on to .', 'have you ever been to the amusement park ?', 'my wife and i decided to go on an iternational trip last year comma and it was my first trip out of the us . it was an amazing experience comma and one of the best and most memorable things i have ever done .', 'that is awesome ! how helpful where the other people so that you could enjoy your trip ?', 'my wife was amazing . she booked the whole trip for us comma and planned out some things for us to do while we were there . the persongs house we stayed at was also really great comma and helped us find our way around auckland .', 'must have been super fun . how were the local people ? how did they treat you ?', 'super nice comma the locals were always willing to help us navigate around comma and had great recommendations for things to try while we were there .', 'that is great ! im glad that they took care of you ! have a gret day !', 'onnce i had to take care of my cousin who had an ailing stomach', 'i am sorry to hear that . do you know what caused it ?', 'apparently he ate something and slept immediately', 'i have done that to myself before . now i always wait awhile to sleep after eating .', 'yeah i had to tell him either to sleep first for a bit than eat . or eat at first and wait an hour', 'i felt afraid . still i remember it', 'what were you afraid of ?', 'two years ago comma i was admitted in hospital . i was ill', 'oh no comma well glad to see you are here still !', 'luckily', 'we have a new manager at work and it isnt going well .', 'what is your job position ?', 'i do sales work comma but he always lies to us and takes our bonus money .', 'that is very bad', 'you are never going to believe what i did', 'what did you do ?', 'well comma i normally do not feel comfortable lending things to my friends comma but recently i mustered up the trust to loan my friend my vehicle .', 'ouch . . . is it just for a day ? is your friend a safe driver ?', 'well comma i have known him for a while and i have never seen him drive crazy comma so im just hoping all goes well . it is just for a day comma but a lot can happen in a day .', 'yes . . . if this makes you feel better . . i lent my car to a friend for a week and thank goodness everything was alright .', 'i went shopping yesterday and bought a bag . my husband is going to kill me . .', 'haha my girlfriend does the same thing . check comes in and she is so happy to have money for the next two weeks comma then goes and spends it all on clothing and accessories .', 'all women have the same problem . it is a guilty pleasure . .', 'we all deserve to treat ourselves every now and then .', 'i hate to be tired and see a store crowded with customers and only one or two checkouts open .', 'yeah it is really frustrating when they will not have more eople on .', 'especially when it is a time of day that they know will be crowded and busy .', 'exactly . hopefully more places will get self checkout so we can get through the line faster .', 'i do not mind those sometimes comma sometimes i prefer they do it .', 'there was a person who had to do twice the amount of work that they usually do . sounded like they need to fire whoever did not do their job', 'yeah comma or at least do something to correct that .', 'maybe there should be a training day where they do back over everything comma', 'or hire more people maybe also', 'that too ! if only', 'they do not spend money unless they absolutely have to . they get bonuses for saving money i think', 'so our new manager has changed our bonus structure causing us to never hit bonus . .', 'and then what ?', 'its frustrating when i go from an hour to an hour because of his lies .', 'i understand comma that must suck', 'i had a chance to make some money comma but my phone screwed up', 'thats terrible . . . have you gotten a new phone yet ?', 'yes i did comma but i still can not get that money', 'thats true comma but i hope some good luck comes your way soon . .', 'last year i was so excited to be moving .', 'oh well comma where did you move ?', 'we moved back to our hometown . we were so looking forward to being near family and friends again .', 'wow ! ! wonderful is not ! ! you would have been over the moon once you moved . .', 'i bumped into a car while reversing comma i had to wait long to talk to owner of the other car', 'oh no comma that is terrible . sorry you had to deal with that .', 'it was indeed . the worst part was not able to get hold of him . he parked and wandered somewhere .', 'i am sure that threw a wrench in your plans . how frustrating !', 'yeah i missed my movie . .', 'i was having a bad day the other day but my spouse went and surprised me with my favorite food .', 'whats your favorite food ? that was very nice of them', 'i know it was rather sweet of them . . . i love anything asian !', 'oh nice comma im afraid the most asian food that i like is fortune cookies', 'we just got back from vacation and our sleep times are off . it is really messing with me .', 'that will mess you up for a few days . the only thing i do not like about going away .', 'i went to bed at a decent time last night . when i woke up my kids were still up watching cartoons !', 'oh no . hopefully everybody gets back to normal soon .', 'i like getting things done in the yard comma but i feel so dirty afterwards .', 'i only like yard work with the kids . they do most of the work and we have fun in the dirt .', 'the grass makes me itchy comma but the shower afterward feels great .', 'oh no . the shower is the plus side to all the dirt i guess . i once found a snake digging a hole to plant a flower . i quit that day .', 'so the other day i had a crazy long day and got home to find all of my chocolate was gone !', 'oh my gosh ! i would have been so upset ! nothing is better than chocolates on a bad day .', 'i know right ! . . . comma but atleast i had some amaretto in the fridge . . lol', 'that is definitely better than nothing . i hope your days have been better since !', 'my daughter comma brooklyn comma has finally overcame her fear of water and learned to swim ! it makes me so happy to see her loving the water .', 'thats so special ! what a beautiful moment . . how old is she ?', 'she is . she normally is completely fearless comma compared to my son who is afraid of everything . haha ! so i love that she has worked so hard to overcome this .', 'my daughter is . years old shes just been introduced to the water . . its always so special when our babies have their quote first quote moments . congrats mama !', 'thank you comma and same to you ! i hope you enjoy many happy swimming days with your little princess .', 'hi comma i am concerned about the financial situation of my employer .', 'have you thought about talking to your boss about it ?', 'i do not think it is a good idea . there was a layout off six month ago .', 'you should still speak to him about your concerns .', 'so i am home from work and marks car was outside . i went in and him and liz were kissing on the couch .', 'this is terrible . so sad to hear that . what did you do then ?', 'i made them both leave but me and liz are breaking up .', 'did she already move out ?', 'i asked her to come and pack her bags . enough is enough i can not do this with her anymore .', 'did you go outside and see if anyone was hurt ?', 'what do you mean ? i do not know what you are talking about .', 'i heard a noise outside that sounded like a car had wrecked yesterday .', 'well then i guess you should have went and checked to see if anyone was hurt . i hope you called a ambulance .', 'so after i left the club last night i noticed the taxi had old throw up in it still .', 'i would have gotten out right then i believe .', 'i still took it since it was late but i rode in the front seat .', 'i guess you rolled all the windows down too and held your breath', 'it was gross but i was super tired . i only paid half for the ride though .', 'my marriage give me hopefulness about the life . exactly i want to say is may not it is marriage actually it is my wife given me the hope about the life .', 'wao comma that sound like a great strong realtionship you have with her comma so glad to hear that !', 'yeah comma thank you ! at which situation did you feel hope for your life ?', 'when my first daugther was born ! i saw in new life comma i thought everything in the world can change comma we need to be pure as kids .', 'wow ! you are right . we should learn from kids .', 'when i see them comma i believe thiw world in which we live fill with envy and hate can be rewed', 'the other day when i was cleaning i came across an old keychain my dad gave me when i was younger comma it was nice to see .', 'thats good that you found the keychain', 'yeah it meant a lot to me almost like a sign !', 'that is very good ! always nice to find those old lost items .', 'my handyman keeps telling me he is coming by to fix my leaky sink comma but he never shows up when he says he will comma ugh .', 'that is seriously the worst . . . waiting around all day wondering whats going on ! have you tried calling him today ?', 'oh yeah comma and it goes to his answering machine every time .', 'of course right comma i would try angies list or homeadvisor ! they can find you a new one . . .', 'thanks i will .', 'my co worker keeps getting told how great of a job he is doing and i know hes doing wrong to get all the sales .', 'oh no . i am sure he will get caught eventually though .', 'doubtful comma but i sure hope so ! he gets a dollar bonus every week because of his ways . .', 'things you do usually come back to you .', 'it was amazing sitting on the stage in that hug auditorium .', 'what event was taking place ?', 'music . some of the hardest music that professionals play .', 'that is cool you were on stage for that . were you one of the musicians ?', 'yes i was', 'i am satisfied to have a good vacation', 'oh yeah what are you doing for your vacation ?', 'nothing special . i just travel to my familly . it has been almost a year that i did not see them .', 'sounds rather special to me ! out of the country or to another state ?', 'so the other day my daughter went potty for the first time on her own !', 'that is great . it is sweet to see them grow and learn . how old is she ?', 'shes months old comma it really is amazing to see them develop . if only people clapped for us when we used the bathroom . . . ha ha', 'funny one ha ha', 'the other day after dinner my daughter took her trash to the trash on her own . i love watching her develop !', 'it is so sweet . is she able to talk ?', 'shes just starting to try to say full sentences comma but right now its just a lot of babbling and drooling . lol', 'that should be funny to see and hear', 'i am angry against a friend that suppose to help me .', 'that sucks . . . what was he or she supposed to help you with ?', 'i wanted to wall mount my tv but my friend did not come and turned off his cell phone . i was always helping him for anything .', 'well i hope you two can talk it out comma express your feelings and work it out together ! friendship is hard to come by these days . . .', 'i traveled a few months ago and didnt realize how much planning is involved ! wow it was a lot to get ready for . . .', 'traveling is hard work . where did you go ?', 'i went to peru to visit my family . i try to go every year .', 'wow . i have never neen that far ! i have been to the caribbean though .', 'i have a small circle of friends . they are like my family .', 'thats awesome comma friends really can be the best . how long have you known them ?', 'around ten years . i let my friends borrow my debit card the other day . a stranger wouldve wiped me out .', 'im glad you have such good friends in your life comma it makes life easier .', 'yep . trust them with my life .', 'so we had a meeting at work this week . turns out we may have to shut down in the next few months .', 'omg . . . thats terrible ! im so sorry ive been through similar . are they going to give you some sort of money upon lay off ?', 'i feel like if they go through with it they have to offer us packages right ?', 'if they have a heart or soul they will ! they really should . . .', 'yeah i think a bunch of us are going to meet up after work and talk about it .', 'the other day i got a bonus from work comma which was amazing because i have recently got behind in bills .', 'that is really cool ! did they tell you why they were giving you the bonus ?', 'i wasnt expecting it comma but basically because my stats were above', 'well at least you get something to look forward too at work .', 'so i went to see the new marvel movie with thanos . it was so good and i am so pumped up now .', 'what was it . i have been too busy to notice new movies out .', 'it was called infinity war ! you should find time to see it .', 'they do put out good movies most of the time . i will try and check it out .', 'i think the new villain thanos might be my favorite bad guy ever !', 'i am afraid my neighbors are causing snakes to come over my way .', 'what are they doing to cause you to think that ?', 'they are not clean and i have been getting a lot of mice comma and snakes follow them i think .', 'i have heard that too . you might want to contact your local district .', 'good idea', 'no problem i hope everything works out', 'today is my birthday ! i am !', 'happy birthday ! ! ! ! what are you going to do for it ?', 'nothing today since its thursday comma hopefully i can bar hop this weekend . waiting for gifts today .', 'i hope you get lots and lots !', 'me too . i love goodies .', 'i was so excited to move to a new state comma but when i moved into my apartment it was full of bugs ! ugh', 'oh no ! bugs really creep me out !', 'me too . . i really was freaking out .', 'what did the landlor do about it ? did you have to call an exterminator ?', 'i was disappointed by my manager when he told that i will probably get my promotion next year not this year', 'ugh . . that seems like forever away . . can you try to get it sooner ?', 'no comma i tried everything . it is like betrayed me .', 'maybe consider looking for a new job in the meantime ? never hurts to stay ahead . .', 'i get to go to the water park today ! i cant wait .', 'that is nice . i like going to water park . what time are you going ?', 'its so much fun comma really pretty down there too . oh in a few hours !', 'is it a big water park ?', 'i went out last weekend and had a major accident . guess what happened . . .', 'are you ok comma you have to tell me what happened .', 'i am fine . just a litte embarassed . i ripped my leggings dancing on bourbon street .', 'ahh that has happened to everyone before . it is embarrassing but you will get over it .', 'yep . my shirt was long enough to cover it . plus i do not live there lol .', 'well im glad you were able to cover up .', 'me too .', 'so last night i was driving down this road and my car died and i had no lights .', 'oh no . that must have been scary .', 'i was sitting their for over hours in the dark and night .', 'wow . i would have freaked . i cannot even have all of the lights out in my apartment .', 'well i finally got a signal and was able to get my brother to come and help me .', 'glad a bear did not eat you', 'my house feels like its taking forever to sell . . . but i have a feeling something good is going to come soon !', 'how long have you been trying to sell it for ?', 'it is been almost months now comma but not offer .', 'i am sure you will sell it soon ! months is not such a long time', 'i have been going to school for whar seems like forever .', 'did you wait a lot ?', 'i did . i am going to finish soon though .', 'ah ok congratulation', 'recently comma i have been annoyed by a coworker making jokes about me .', 'shame on them .', 'it is bothering me a lot . this coworker is not competent and he spend this time making jokes on other people .', 'you should report him . anonymously . you should t have to deal with that every day .', 'my daughter fell the other day pretty hard comma i had to hold her until she calmed down .', 'oh no comma that is scary comma is she okay ?', 'yeah it wasnt too bad just a couple scrapes comma its hard seeing your kids get hurt .', 'that is good comma i am glad it was not serious .', 'i really dislike my neighbors . they are the worst .', 'what are they doing that is upsetting you ?', 'they argue constantly and we live in apartments so i can hear everything . they even call the police a lot .', 'have you made a formal complaint against them yet ?', 'yes comma but i think they know the landlord .', 'you should report it to your local police department . building and documenting this can help you .', 'so last friday i was driving home from work and this guy just cuts me off in traffic .', 'that happens a lot . what happened next ?', 'well i to swerve onto the shoulder and almost caused a accident . some people are just jerks on the road .', 'i know the feeling . i hate driving now . everyone is looking in their phone .', 'nothing upsets me more than seeing teenagers on their phones . it really boils my blood .', 'i thnk the driving age should be raised to personally', 'i was lost in a neighborhood i did not know comma when some guy came up to me and quietly asked if i needed a ride .', 'please tell me that he was friendly and nothing creepy !', 'i would not know . i defnitely did not want to risk it and declined the offer !', 'thank god ! lol i was like please tell me this was a positive experience . . .', 'was not worth taking the chance to find out on that one haha . but it could have gotten bad comma but i am glad there were lots of cars passing by at the time .', 'so this is going to sound crazy but comma one day i am going to win the lottery .', 'that would pretty amazing . what will you do with the winning ?', 'pay off my debts from moving number comma and then buy a house ! what would you do with the money ?', 'i think the same really . making sure everything is paid off comma having a roof over your head comma etc . . . is what most people would want to take caer of first .', 'i will pass a examen next monday . i reviewed all the content for the course', 'good for you ! studying can be a real challenge sometimes .', 'yes comma i feel ready . i cannot wait to take that exam', 'awesome comma that is the best way to go into exam . i am sure you will do great !', 'last month comma my boss gave me a raise comma even though i did not ask fo it . it was quite the welcome surprise !', 'that is great . probably he think that you are doing a great job .', 'yeah comma we have always gotten along well comma and he has always been very supportive of me .', 'that is good', 'i have lost my job and am behind on my mortgage . it scares me that i could lose my home .', 'that is awful comma i am sorry to hear that . i lost my job once as well and times got really hard . what kind of stuff are you doing to try and avoid that outcome ?', 'thank you . i have been working odd and ends and am looking for a job that pays more of course . how did you overcome that time ?', 'well comma at the time i was holding out for a similar paying job like i had before but i could not find one and i ended up working fast food . i had to downsize my place as well .', 'today is my birthday !', 'happy birthday ! do you have any plans for today ?', 'still recovering from a road trip but hopefully things will get exciting this weekend !', 'that is really cool comma where did you guys on your trip ?', 'new orleans it was great', 'i live in texas so that it really close to me', 'cool', 'so last week i was supposed to meet mary and workout with her . but i kind of lied . . .', 'oh no . that is not right .', 'i told her i had to go out of town and instead i just stayed home all day .', 'lol . why didnt you just reschedule ?', 'because we do it everyother day and i did not want to seem lazy .', 'so you said you were going out of town . that is hilarious .', 'yeah i just kinda feel bad about doing it . . .', 'recently someone offered me an extreme amount of money for a work at home job . . .', 'wow ! that is awesome ! did you accept the job offer ?', 'it sounded too good to be true honestly it made me feel a little uneasy . . . i had to turn it down !', 'yes comma i understand . sometimes you just get a gut feeling that something is not right', 'so i applied for jobs and i cannot believe i did not hear from none of them !', 'bummer ! ! ! are you looking for a work at home job or just an outside job ?', 'just any job at this point . just a full time stable job', 'i hear ya . . i hope you find one soon . . . wishing you all of the best !', 'thank you !', 'last night i went into my kitchen and ate all of my kids cookies .', 'i do that all of time .', 'well my wife confronted me this morning and i blamed it on our dog max .', 'lol . poor max . i bet sometimes dogs wished the spoke english for that very reason .', 'yeah my wife had been kinda cold torwards him since . i feel bad for him . .', 'shame on you . i am telling', 'i have lived in my apartment for years now .', 'o wow that is a long time comma are you happy with it ?', 'it is getting smaller comma but my friends used to come over more . now i am by myself all the time .', 'im sorry to hear that sometimes people grow apart . you should try to throw a party and see who comes .', 'sounds like a plan', 'i recently moved to my dream location comma but it sucks not knowing anyone .', 'congratulations ! i know comma it probably feels lonely . maybe you should do a party at your house and invite all the neighbours', 'that actually sounds like a really good idea ! thank you . . . now to decide what to cook . . lol', 'you cannot go wrong with some grilled food burgers comma wings comma hot dogs', 'so i saw a snake outside my apartment today comma i hate snakes comma so disgusting eww', 'i would have went running like forest gump what did you do ?', 'went back inside the house and called animal control . it looked like a copperhead so i am not messing with them', 'going to have to burn the whole house down now comma and move . . . lol just joking !', 'i totally would . lol i hate snakes and bugs and spiders', 'so they just posted online about how they are not making a sequel to hot fuzz .', 'oh no . did they say why ?', 'i guess it just did not get enough funding . it just sucks because it is my favorite movie .', 'hopefully it might be reconsidered later on .', 'that is what im thinking but you can never tell with these things .', 'i was able to save a blind lady from falling down an escalator .', 'is she ok ? im glad you were close by !', 'she was very alarmed and rightfully so . i am usually not a nice person comma but i am glad i did the right thing that time !', 'that is really cool of you to do comma did anyone else see it happen ?', 'i am so sick of my job not paying us for the proper amount of hours !', 'that is terrible . employers just do not value their employees sometimes .', 'it seems like it doesnt it . . i hope it gets better .', 'i hope so comma too . have you considered working elsewhere ?', 'i was mowing the lawn comma and a rock flew and broke my neighbor s window .', 'oh no . . . were they relaxed about it or did it cause a problem ?', 'they did not even know what happened comma but i got myself to let them know although i was terribly scared of the expenses .', 'well glad they didnt freak out on you comma some people arent as understanding . i bet it was pricey .', 'i had not worn a bathing suit in maybe uears until recently .', 'why is that ?', 'i had gained a little weight and got embarassed .', 'well i just bought a great bathing suit that covers up all the extras but still shows a little skin and makes me feel good . maybe that will work for you .', 'i have one now . i saw a bunch of ladies strutting in their suits and iy boosted my confidence . i had a ball at the beach the next day .', 'that is good to hear . where did you get it from ?', 'online . i cannot say the store name . i will not allow me', 'i gotcha . i bought mine online too .', 'my grandmother passed away unexpectedly a few years ago .', 'oh no sorry to hear that . i just lost mine in november . it is hard .', 'yes it is . she was the grandparent i was closest to .', 'people say it gets easier . i am still waiting for that part .', 'yes comma i believe that time is the best way to heal .', 'i hope so . nice chatting with you .', 'you as well . have a great day .', 'i wish i could work less . . i feel so bad that i dont get to spend as much time with my daughter .', 'i hear ya . anyway to get a new job ?', 'ive been trying what i really need is a higher paid one so that way i dont have to work jobs .', 'got ya . what kind of work do you currently do ?', 'my friend called someone a bad name comma he really mad me upset .', 'i dont like rude people either did you tell him ?', 'i did and then we got into a argument about it .', 'oh god . . give it a few days and then try to sort it out !', 'my fence is collapsing at areas where my neighbors keep climbing over to get their ball . it is going to be expensive to fix .', 'oh yeah i am sure it is . . have you talked to them about paying for it ?', 'i am afraid to unfortunately . they broke the window once comma and i had to get police involved .', 'that really sucks . . i guess all you can do is get a metal type of fence or maybe one with spikes ! lol', 'i cant wait to relocate and move again . i am so ready .', 'wow ! have you been to many places ?', 'new york comma va comma fl . . . how about you ?', 'i have been in the same place . dc and then its neighbor comma md .', 'my brother usually does not do anything for me unless asked . after decades comma he actually took me out for my birthday .', 'my brothers are the same way . at least yours ginally came around .', 'haha siblings ! how many brothers do you have ?', 'two younger ones . they only call when they want something . my older sister is the same . i am the good one .', 'today is my birthday and i got a call yesterday wishing me a happy birthfay from my ex .', 'happy birthday ! is the call from the ex a good or bad thing ?', 'thanks . it wouldve been a good thing if he did not call last month to tell me happy birthday also . he should know when my birthday is after years lol', 'exes are exes for a reason i guess lol .', 'aint that the truth ! ! !', 'i went to the optometrist comma and my prescription got strong . she warned me about being at risk for losing my vision .', 'that is not good . i know my eyes hurt when staring at the bright white screen on computers . so i change them to a darker color when possible .', 'oh yes . that is smart . after the warning comma i use the screen dimming program called f . lux .', 'have not tried that yet comma but i have heard of it . i will check it out . thanks !', 'my old high school is being sold and turned into an old people s apartment complex . sad to see it go .', 'nostalgia . is there another hs nearby for the kids to go to ?', 'yes comma they consolidated and it is awful . the kids now have a thirty minute bus ride one way to school .', 'that is pretty terrible . thirty minutes in a day pretty much just commuting one way . school is already tough .', 'i know . we have a lot of snow in the winter too . so it is dangerous also .', 'it was my birthday and my mother came to surprise me .', 'aw thats so nice comma how did she surprise you ?', 'she showed up to my house and brought me a cake .', 'cakes ! yessss winning .', 'i still remember the day i had to say goodbye to my dad .', 'thats too bad . what happened ?', 'he had a heat stroke in the middle of july .', 'thats horrible . sorry to hear .', 'today is my birthday ! i think tonight we are all going out .', 'awesome ! happy birthday to you ! where are you going ?', 'i think to a amusment park but im not sure !', 'that seriously sounds like the best birthday ever . . . i hope you guys have an awesome time .', 'thank you ! i hope you have a good dau .', 'it was insane getting ready for hurricane irma to hit last year . . . .', 'did you get hit my it ? i bet that was scary .', 'we did but it wasnt too bad comma not as bad as the news made it out to sound .', 'im glad you are ok comma how is your community .', 'my neighbor went back to school at . she just got her bachelor s this year .', 'wow that is awesome . i went back at . still going .', 'yea . she is a pretty amazing lady to do that and inspirational of course . what are you in school for ?', 'i am studying criminal justice now . hopefully i will be done soon .', 'it makes me sad to be single nowadays .', 'did you go through a breakup recently ?', 'if two years is recent lol . today is my birthday and i do not want to cook .', 'happy birthday ! well comma you can order out of course .', 'i think i will .', 'my friend s boyfriend got into an accident years ago . she is still with him .', 'what happened to him ? how are they doing ?', 'got into a motorcycle accident and is now paraplegic . they are doing just fine ! he is got his pride issues comma but she is sticking with him .', 'that is understanable comma i would be the same way .', 'so last night a cop pulled me over .', 'oh man . what happened ?', 'he said i was speeding but i was really nervous .', 'did you end up getting a ticket ?', 'no he let me off with a warning .', 'i have been taking care of my aging mom for years now and do not really have any friends comma since so much time is used taking care of her .', 'that is a nice thing you are doing for her though . maybe you could hire somebody for a few hours a week and join a gym or yoga class .', 'thank you . cannot afford outside help unfortunatley . yes . i have picked up exercising though .', 'go to a walking path or park . maybe to a dog park also .', 'a little baby turtle was crossing the road the other day and i was in a hurry and did not stop and help him . i hope he made it . i usually stop and take them to a creek away from the road . darn !', 'cannot always help unfortunately . i hope the little guy made it comma too !', 'they are so pitiful with their little heads up comma like where are you mom comma where did you go .', 'i wonder how they get all the way to the road away from the other turtles !', 'they come down a mountain and the creek is on the opposite side of the road i believe', 'my mom has arthritis in her neck comma and the pain seems to be traveling down now .', 'i am sorry to hear that . . is there any physical therapy that can help her ?', 'the doctor just recommended exercise . i am not sure if they were just busy to do anymore for her or if exercise is the best .', 'usually moving your body helps but it depends on her situation . . . i would get a nd opinion !', 'i am so impatient right now . . . waiting for the clock to hit so i can go on vacation !', 'how many hours do you have left ?', 'hours to go ! ahhh', 'haha not bad ! where are you going on vacation ?', 'so my boss sent me over to close the deal with the mr harris . i felt so happy closeing a big client like that .', 'thats great comma was the result good ?', 'he signed right away and we had a drink to celebrate .', 'that is great . how happy were you ?', 'well lets just say i think im going to get that bonus .', 'i was in the woods and a snake came out of no where .', 'did it bite you ? are you ok ?', 'luckily it did not . i was fine just scared .', 'im glad you are ok . some of those are poisonous and can kill .', 'my mom went back to school at and recently got her bachelor s in computer science !', 'wow that is amazing . you must be very proud of her . i think coding comma etc comma seems very hard .', 'yea . i mean i cannot even code . and there goes my mom who did not even know a browser was comma now coding !', 'very inspirational story . they make good money too .', 'i finally finished my phlebotomy class . it was an hour s drive one way comma but thankfully it is over and a hospital nearby is hiring i heard . whew !', 'that is amazing ! how do you anticipate dealing with people who are afraid of needles ?', 'i would probably tell them to look the other way and that it really is not very painful .', 'that is good thinking . i hope you will not get too many who are afraid !', 'or pass out on me comma lol . thanks', 'had a interview yesterday . i think it went pretty well . i hope i get the job .', 'thats good . make sure you follow up .', 'thank you . i did actually . the recruiter sounded pretty positive on the phone .', 'that is great . would this be a good job ?', 'i bought a lottery ticket and have a feeling i will win .', 'good luck ! i hope you will win !', 'i know my chances are not good but maybe i can get lucky .', 'well comma you never know . it is nice to think what you can do with the money though .', 'my birthday was last weekend comma and no one wished me a happy birthday .', 'i am so sorry to hear that . how sad for you .', 'it is . i have been absorbed in work for the last years and have not gone out . so i guess everyone kinda moved on without me .', 'did he ditch you as well ? and how did the girlfriend react ?', 'for my th birthday comma my family and friends got together and threw me a surprise birthday party .', 'very nice ! where was the party ?', 'it was held at my parent s house in new orleans .', 'that is really sweet of them . must have been a big party .', 'last year my family surprised me for my birthday with a party .', 'the vet told me my cat only has a few weeks left to live .', 'thats so terrible ! im really sorry . . . you should do something special everyday and make memories !', 'i plan on it ! he is really old so it is just his time to go and i get that but that doesnt make it any easier .', 'it really doesnt . . i had to put my dog to sleep and it was extremely painful . i really hope that he can rest without pain and that you can feel better soon . .', 'yeah it is just one of those things we all have to go through at some point .', 'a friend tried to get me to go out to a bar and hang out behind my spouses back . . .', 'did you tell your spouse ? i really think they should know .', 'i havent yet comma but i agree with you i should . i just dont want them to be upset with my friends .', 'some would consider it cheating if you did not tell them .', 'i would too . deff need to .', 'i hate being envious comma but i have needed a car for months and my friend just bought a new one .', 'i know what you mean . . . but for now maybe you can just car pool around with your friend until you can get one !', 'i guess so . it is a really nice car .', 'so you can ride in style for free . sounds fair to me . . until you get yours !', 'lol . i like you !', 'i had to put my dog to sleep and it was super stressing !', 'oh no . i am sorry to hear that .', 'thanks comma it always sucks when you have to say goodbye . . but shes better off now without pain . do you have any pets ?', 'i do not . my apartment will not allow comma but we are moving soon i hope to get a cat .', 'went out with my friends last night after not seeing each other for a year . i was in another country for work and just got back .', 'oh comma i bet that was fun and interesting visiting another country too .', 'yea . it was nice learning about the culture there comma and people were really nice .', 'i like to try different types of food from other places too . then try to make them later on .', 'i think i found someone that is interested in my house finally . it is been on the market for over a year now .', 'that can be stressful . i hope you get the sale . what will you do afterwards ?', 'i will move to a less rural area . it is very isolated and you have to have a vehicle for transportation .', 'do you prefer the isolation ?', 'no comma that is why i am selling actually .', 'i will get to go on vacation tomorrow . been working really hard to get things clear up so i can enjoy myself .', 'awesome ! where are you headed to ?', 'japan ! looking forward to the food .', 'omg ! ! ! ! ! that sounds amazing ! its going to be epic . i hope you have a great time .', 'recently i offered to start working extra long hours just to help support my family more .', 'that is really considerate of you . do they need your help a lot ?', 'yeah we recently moved so we have gotten in quite debt while trying to sell the previous home ! ugh', 'wow . home selling can be tough . i hope that debt clears up real soon !', 'just moved here for work comma and i do not know anyone . my coworkers have families of their own .', 'that is sucks . you just have to warm up to people .', 'yea . it is going to take some time . it is just tough going through it right now .', 'i would be so scared to move to a new place . i commend you . it will get better', 'i went to grocery store the other day and completely embarassed myself .', 'what happened ? !', 'i filled an entire cart with food for a party and then realized i had forgot me purse at home .', 'oh no . did you end up having to leave the cart ?', 'yes . my apartment is close by but it was still embarrassing', 'i cant wait to buy my christmas tree this year comma lol . . funny right ? . . . but i am actually really excited .', 'do you usually get a live one ?', 'i thought about it comma but dont think i could handle one . do you have one ?', 'just a small fake one . some people get really into decorating . i do not really like it .', 'i visited my old home town recently and it has gone down hill so much . a lot of the houses are run down and dilapidated . so sad .', 'that sucks . . . . . always bad to see something like that . did you atleast enjoy your trip ?', 'yeah comma i got to see a few people i knew . it was still fun', 'aw thats good ! im glad you still had a good time .', 'thank you . hope you get a vacation this year too .', 'so i came home from work yesterday and when i walked in the apartment sally had all my friends and family inside .', 'surprise party or intervention', 'it was a surprise party i turned . i honestly thought they all had forgotten .', 'how sweet ! i hope someone throws me one one day .', 'my daughter started a new school last year .', 'that is exciting and scary all at the same time', 'i was more afraid than she was . it was a big transistion . all girls and she is .', 'i could understand that comma does she know anyone at her new school ?', 'not one person . but she did end up making a lot of new friends and doing well in her classes . i am so proud of her .', 'i was excited when i was a child and found out my firned could come over and play', 'life was simple then wasnt it ! very cute .', 'yes it was so much simpler . we got excited for the smallest things', 'i know what you mean . i miss being little myself .', 'yes me too', 'i was in the middle of a long distance move comma and somehow misplaced my drivers registration and car insurance ! ! !', 'oh no that is not good', 'i know i was so scared comma and nervous . . it almost ruined the entire trip .', 'did you finally find it', 'so bob got the promotion at work even though i put in all those hours .', 'that is gotta be terrible . why did they pick him instead of you ?', 'they made us both take a test . i geuss he scored better than me .', 'i am sorry to hear . will you have another chance to get promoted ?', 'i think we get another chance in the winter .', 'my neighbor s kid just lost his eyesight . the whole family is devastated .', 'o im sorry to hear that ! how did it happen ?', 'his vision was gradually getting worse . suddenly comma his vision got really blurry one day and they called emergency .', 'does he not have a chance to regain his eyesite ?', 'i once went to see fireworks with my best friend . best day of my life . we are no longer friends .', 'what a beautiful memory that you will always have though . . . have you tried to be friends again ?', 'no . i am too embarassed to reach out to her after all these years .', 'i get it . . but you know life really is too short . . i think you should try to reach out ! do it !', 'so i found something out the other night that made me extremely upset !', 'what happened ? !', 'my child went out behind my back comma and snuck out !', 'oh no . guess they have finally reached that rebellious age . what did you do ?', 'so i just saw how they are going to have a remake of fist of fury .', 'i have no idea what that is .', 'it is a old movie that came out in the s . i remember seeing it as a kid !', 'oh is it and action movie .', 'yeah it is a old black and white karate movie', 'one time there was a large mouse in my kitchen .', 'what did you do with it ? did you try to kill it ?', 'i closed the door and put a towel under it . it was late so i could not call maintenence til thehmorning .', 'thats what i would have done . did they get it taken care of ?', 'yes . he had chewed a hole under my sink so they boaded it up and put down traps .', 'i think our job might be laying us off .', 'o no ! are they going to offer you any kind of package ?', 'doubtful honestly . . they dont seem to care very much .', 'im sorry to hear that . maybe you should contact your hr and see what your options are', 'so after a year of being here we finally got to rearrange the garage .', 'how is it looking ?', 'i think we will be able to get two cars in here now !', 'there you go ! thats awesome . . i really wish we had a garage . lol lucky !', 'so my cat of years past away last night . i dont know what to do', 'oh no . i am sorry to hear that .', 'he is really old but i hate that it happened you know ?', 'of course . pets are family .', 'i like to give to charity .', 'what charities do you like to give too', 'whatever my local pharmacy is giving to at the time . i donate my change since i shop there a lot . it adds up .', 'that is a very nice thing to do comma i wish i could do more to help .', 'every litlle bit counts . eventually i will be able to write a check .', 'i just put all my change in a giant bottle .', 'so i lost my wallet and had to get a new id issued to me .', 'i hope someone turns it in soon to you . . did you lose out on money too ?', 'i usually dont have much cash on me but the cards are hard to replace .', 'yeah a real pain honestly . . . im sorry that happened to you .', 'im going to my first concert this weekend . yesssssss !', 'did you buy tickets or win them ?', 'i bought them comma woulda been cool to win them though right ? lol', 'yeah', 'when the falcons won the game i was excited .', 'what game did they win ?', 'the nfc championship .', 'really ? i do not recall that at all . i remember them choking . i could be wrong .', 'there was a big storm here last week .', 'that sucks . are you ok ?', 'the power went out for about and scared the crap out of me comma but other than that we were fine .', 'thats good . did the clocks all reset ?', 'the ones i have back ups so they never went out .', 'i was impressed with the new tesla that i test drove .', 'i bet that was rather fun comma how fast did you get it going ?', 'over mph .', 'wow ! you are crazy comma ha ha i probably would have had a panic attack at mph . p', 'i managed to change the oil in my car on my own without breaking anything . . .', 'thats great . i change my oil all the time .', 'i havent changed my oil in years since my dad taught me so . . . it was an achievement for sure .', 'yes my dad taught me also .', 'i should really try to get a girlfriend or something . i just need to feel someone .', 'try online dating ! its actually really fun . . . have you tried it ?', 'yeah i just feel like it is no use .', 'dont feel that way . . . theres someone out there for everyone . give it a try .', 'ok i geuss i can try to apply myself more .', 'the other day during breakfast my daughter started choking and i panicked .', 'were you able to get her help in time ! how is she doing ?', 'yeah i was able to get the food unlodged but wow it was super scary . shes okay now thanks !', 'that is good to hear ! yeah situations like that can be really alarming .', 'it was for science but i had notes i had brought .', 'thats not right . how did you feel ?', 'no we are allowed to bring notes it was just a surprise test . i felt happy about being able to bring mine .', 'that is good . how did you do ?', 'i got a a ! the highest score in the class .', 'my grandma died . i am so sad .', 'im sorry to hear that . was it from age or complications ?', 'age but she also smoked .', 'yeah that is not good . but everyone does have a time to go you know ?', 'i use to hate the dark when i was little .', 'were you afraid of the dark ?', 'yes . i had a nightlight to help .', 'i slept in my mom s room because i was always afraid of the dark', 'i was . i use to have a nightlight to help .', 'so i was at cheeleading last night and this girl did a double backflip !', 'did she land ?', 'yeah ! it was just really fast and she went up really high !', 'sweet . did the crowd cheer ?', 'everyone got on there feet and clapped for her . she had to be only or so .', 'i got into harvard . can you believe it ?', 'wow that is great ! when are you going to start ?', 'in the fall .', 'that is really great ! how does that make you feel ?', 'it annoys me that my wife keeps giving our son a stick even though he hurts himself every single time', 'why do not you say something ?', 'i did comma she calls me a helicopter parent and just laughs at me', 'that is not nice .', 'i am afraid of clowns .', 'oh gosh comma me too ! ! especially the clown from the movie it', 'yes i saw that movie and cried .', 'i slept with a light on for a couple of night lol', 'i took a trip over the weekend where we stayed at a nice hotel with a balcony overlooking the pool .', 'that sounds really nice ! did you stay near the ocean ?', 'yes in biloxi . the balcony had a downside though . the seagulls would always try to steal your food .', 'i remember throwing food over and watching them catch it as a kid .', 'there were like of them trying to steal my crackers . i was scared .', 'when i got in my car to go to work i notcied a note on my seat .', 'what did it say ?', 'it was from my year old son comma he wanted to tell me he loved me and wished he could come work with me comma', 'that is so sweet . give him twenty dollars .', 'i think i am going to take him out for icecream .', 'i bet he would love that .', 'i cheated on a test . i am very ashamed .', 'oh no maybe you should confess and i am sure you will feel better', 'i would but i will get in trouble .', 'i understand . maybe next time you should not cheay', 'i miss my family members as they all pretty much gone now . . .', 'sorry to hear that .', 'yeah comma as you get older you have to face the fact of loved ones not being around forever .', 'yes . i have lost my grandma .', 'my condolences to you . . . i hope you have wonderful memories of her !', 'i almost died last year .', 'that is a terrible thing to happen comma i am sure . . .', 'yes i was very lucky .', 'i am happy that you are still here as well ! think of the alternative', 'went for a dip at the pool late one night on vacation .', 'nice comma how was the water .', 'it was a heated ppol so that was nice . but when i jumped in some of may hair extension came out !', 'thats funny . did you get them all ?', 'yes luckily no one else was there .', 'i am afraid of ghosts .', 'mw too . i do not even llike when it is too dark inside or outside .', 'i hope i never meet a ghost .', 'maybe we are ghosts .', 'i always am prepared for hurricanes .', 'i live in texas comma we really dont have to worry about them here .', 'i love texas .', 'texas is a great place ! but i can understand the need to want to be prepared .', 'so i got a huge bonus at work last week !', 'how much ?', 'it was enough that i was able to pay off my car and a lot of bills .', 'cool . what kind of car .', 'it was a mustang .', 'my apartment is right near the dumpster for our commplex .', 'that is terrible comma does it smell ?', 'no . that is not the problem . sometimes people leave their trash on the outside and then there are a lot of raccoons out there at night .', 'you should tell someone .', 'i have for years . everyone should just move awawy and i live here alone lol .', 'i hope i win the lottery this week .', 'i think it is my turn to win the lottery', 'maybe we can split it if we win .', 'sure comma that is sounds like a real plan . lol', 'my friend is so annoying .', 'what did he do ?', 'he just talks too much .', 'yes comma i can see how it can bbe annoying', 'i was so happy when my son was born .', 'awww . do not tell anyone but my son is my favorite child . i have two girls also .', 'i will not tell anyone .', 'how old is your son now ?', 'halloween cannot get here quick enough .', 'i love halloween .', 'it is my favorite . i love dressing up with my kids and eating all of their candy .', 'i love candy .', 'so i went to pick up lucy last night for our date . i was very polite and nice .', 'where did you meet her ?', 'we meet online on a dating site . i was nervous but i did not let it show and took charge .', 'thats cool . will you see her again ?', 'we have plans to go out next week !', 'i am so happy i graduated college .', 'i bet ! it has to feel like a huge accomplishment .', 'yes and i had a .', 'i did not know you had a . ! how do your parents feel about that .', 'got asked to my boss office . thought i was getting bad news but turns out i was offered a promotion .', 'nice . did you take it ?', 'i definitely did !', 'nice did you take it ?', 'i have studied and am sure i will pass the test .', 'good luck ! do your best . you sound well prepapred .', 'i expect an a .', 'i hope you get it !', 'how about our president huh ?', 'i am not actually in america so i do not share the same joy as you p', 'lol . there is no joy here . but i think the only way to go is up now .', 'that is always the positive side of hitting rock bottom right ?', 'i let my new neighbors borrow our lawnmower . it came back broken .', 'that is terrible . do you think they will take care of it', 'no . they went pretty quiet .', 'hope you do not end up in court .', 'my daughter is being so lazy this summer .', 'i think that is the usual for kids . how old is she', '. i ate her dinner yesterday because she just refused to get up . i feel bad about it now', 'that is kind of funny though . how did she react ?', 'she went to bed lo', 'i lied to the police . i am ashamed .', 'you should never lie to them . what did you say ?', 'i said i did not know where my friend was .', 'did your friend do something bad ? why were they looking for them', 'i got tickets to go to the amusment park this weekend .', 'nice . which one ?', 'well they have one near my job . my son a jack really wants to go so i am taking him .', 'that should be fun .', 'yeah he has been talking about it all week long !', 'went to the beach the other day and remember how much my friend liked going together .', 'oh comma did you enjoy it ? i love going to the beach', 'yea . i enjoyed it alot . that is why it made me think of my buddy .', 'you miss your buddy comma huh', 'do not you hate when you order food and it is terrible .', 'i do . makes me angry .', 'we ordered krystals on a road trip and could not even take it back because it would have cost too much time on the road . i was so upset .', 'i do not like krystals .', 'i do not anymore .', 'i tried to catch a criminal but he got away .', 'did he have a weapon ?', 'yes but only a small knife .', 'what were you gonna do if you caught him ?', 'i forget the lines in the school play . i was so embarrassed .', 'oh no ! were there a lot of lines you had to remember ?', 'yes . i was the main character .', 'oh wow comma thats impressive but i do not blame you for forgetting lines then since there were probably tons .', 'i got stock from family a long time ago . i just let it sit there . it is risen times since .', 'wow ! have you looked to see how much it is worth ? you could have some money .', 'it is enough to pay year s worth of mortgage . wondering if i should sell it or hold now .', 'you might want to talk to a financial adviser about it .', 'so last night at work i lost my keys comma i search the office for like minutes .', 'did you find it ?', 'i did but the entire office was watching me the whole time . i hated looking stupid like that .', 'i am sure everyone has lost something . they are just probably glad it was not them .', 'yeah i guess it was still very annoying . i think some people laughed at me .', 'i just applied for a promotion comma and i should earn at least k more .', 'that is awesome . do you think you will get it ?', 'i hope so ! it will help finances a lot .', 'yes comma definitely . do you plan on buying anything new ?', 'last time i was at my parent s house i went through some old photo albums and started reminiscing .', 'what did you think about ?', 'i just thought about how easy and carefree life was when i was a child . i was never alone and always had something to do .', 'glad to hear you had such a carefree childhood . do you have siblings ?', 'i have younger brothers that are years younger than i am so i was an only child for awhile .', 'my cousin just got out of a year relationship . turns out she was cheating for the last years .', 'that is terrible . wh do not people just leave insteading of hurting their partner . i do not get it .', 'i do not get it either . i hope he can move on .', 'me too . she was not the right one obviously . sucks to have put in so much time though', 'do you watch game of thrones ?', 'i watched the first season .', 'i love that show . i am sad it is ending . it should stay on forever .', 'what ? it is ending ? i heard he has not yet finished the books .', 'nest season is the last . i was hoping it would last forever like the simpsons .', 'i have had enogh of this summer heat . cmon autumn !', 'i agree . i love autumn .', 'it gets do hot in memphis . my daughter is ready for school to start back anyway comma', 'i love memphis .', 'me too ! been here all of my life .', 'i was content with a b on my exam .', 'it is a passing grade . i would be fine with it .', 'yes i studied hard to pass .', 'a guess an a would have been nice then since you worked so hard .', 'we have a work presentation coming up soon . i think we have got everything to present .', 'that is good . preperation is the first step in having a good presentation .', 'yea . i hope we did not miss anything . we spent a lot of time on it .', 'fingers crossed comma i hope the presentation goes well .', 'i am very excited to take a vacation with my wife . we have been wanting to stay in a cabin for awhile .', 'that is exciting ! cabin sounds really cozy .', 'yeah comma we have not gone on a romantic vacation in over a year comma so i am really looking foward to it .', 'she is a lucky lady !', 'man comma i met this girl one time on tinder and i totally thought we had great chemistry comma but then she completely ghosted me after .', 'that is the worst comma i know how that feels comma i am kind of being ghosted right now myself .', 'aw that is awful comma i would not wish that on anybody . she was laughing and all smiley and everything comma i cannot imagine why she ghosted me .', 'just remember that means it was most likely for the best that she did ghost you comma you would not want to be with someone like that anyways .', 'whenever i see my friends on fb posting photos from my hometown i always start to miss it a little .', 'awww . do you ever go back and visit ?', 'i havent been back yet but maybe i will in the winter so i can experience the snow again .', 'where is rou hometown ?', 'my friend is having a drink and paint party for her birthday tomorrow .', 'i bet you are excited . . . are you bringing anything over with you ?', 'a bottle of moscato . she likes that .', 'sounds yummy ! thats a good choice . have a great time .', 'we will .', 'i wish i was the rock .', 'what kind of rock would you want to be ?', 'the actor the rock .', 'so a dwayne rock .', 'my son was prett slow to start speaking .', 'did you get him a teacher ?', 'i took him to get evaluatd and we are waiting for a spot to open at school . i practiced at home with him non stop though and now he will not shut up . i am so proud of him', 'i would be proud of him also .']\n"
          ]
        },
        {
          "output_type": "display_data",
          "data": {
            "text/plain": [
              "Map:   0%|          | 0/200 [00:00<?, ? examples/s]"
            ],
            "application/vnd.jupyter.widget-view+json": {
              "version_major": 2,
              "version_minor": 0,
              "model_id": "e795ab25240541b4ae5f7c727942adc0"
            }
          },
          "metadata": {}
        },
        {
          "output_type": "stream",
          "name": "stdout",
          "text": [
            "answers ['yeah about years ago i had a horrifying experience . it was their fault but they hit the water barrels and survived . they had no injuries but they almost ran me off the road .', 'did you suffer any injuries ?', 'no i was not hit . it turned out they were drunk . i felt guilty but realized it was his fault .', 'why did you feel guilty ? people really should not drive drunk .', 'i do not know i was new to driving and had not experienced anything like that . i felt like my horn made him swerve into the water barrels .', 'well comma can you tell me about your experience ? i think we swapped places', 'yeah i wanted to tell you about the time i was hit by a drunk driver im so happy to still be alive after that experience', 'oh my goodness comma that is very scary ! i hope you are okay now and the drunk driver was punished for his actions ?', 'yeah he was punished hes in jail still', 'i there comma dont know what to do comma jst broke up with my girlfirned comma we were years together', 'sorry to hear ! do you have any idea about the break up ? did you think about it ?', 'yes we decided together with our minds comma and know i come home and feel so distant from the world', 'sorry again ! hope you will get relief from this sadness . please concentrate on your interests to divert your mind from this .', 'i could not wait to go to the concert .', 'which concert ?', 'the u concert . tickets were really expensive and i never thought we would be able to go comma but somehow we did ! ! !', 'wow comma that is awesome ! i have never been to an actual concert .', 'i am so sad because i have read an article about a newborn girl who died because her parents did not believe in medication and doctors', 'ugh comma those articles always get me too . . . what was wrong with her ?', 'she was born premature at home comma she had hard time breathing on her own but instead of taking her to the doctor parents were just praying', 'jeez ! its so unfortunate . . . very sad really .', 'yes ! and i do believe in god and prayers but goodness gracious please take your children to the hospital and let god heal them through doctors', 'so my friend s baby fell down and scraped his knee yesterday and i was trying so hard to cheer him up', 'that is nice of you . what did you do ?', 'i was singing nursery songs', 'which one ?', 'quote if you happy and you know it quote', 'my husband lost a job but i am hoping he can find a full time job soon', 'he will comma i have faith .', 'thank you so much !', 'no problem . what kind of work does he do ?', 'he is an armed guard', 'i just moved to this neighborhood and some dumb criminals shot one of my neighbors and ran into the woods !', 'thats not good . do you own a gun ?', 'i do ! i want to be able to protect my son', 'that is always number one goal .', 'i am so excited because i am finally going to visit my parents next month ! i did not see them for years', 'years is a long time . how come ?', 'i moved to the us and they stayed in my homecountry', 'oh i see . they must miss you comma too .', 'i was very angry when a co worker lied about a car accident to get out of working july th . i covered his shift till midnight and he was lying about the accident', 'that is not very nice .', 'yeah he got caught in someones pics on facebook . never lie and then go out with people who like to take pictures .', 'yes . i do not have a facebook .', 'good idea . i do not like social media that much . it can get you in to trouble fast comma even when expressing your opinions .', 'so yeah i drove hours to get to wallmart . with in my wallet as advertised comma and the real price of the tv was usd . what a bummer', 'thats horrible .', 'yeah i had my hopes reall high and then i left empty handed comma such a terrible feeling !', 'yes i do not like walmart .', 'yes comma i guess walmart and the rest of false advertisement in the us comma the look in my daugther eyes when i came home empty handed', 'my friend s boyfriend recently made a pass at me . i am married comma and i also am really good friend s with his girlfriend so i felt really bad . i made sure he knew i was loyal and honest to both !', 'thats horrible . did you tell on him ?', 'i struggled with it comma but my friend was in a really bad spot comma with no income and raising her grandchild comma he was the financial supporter . so comma i did not tell her comma as i knew it would really hurt her in several ways comma plus she really loves him !', 'thats a tough situation .', 'my baby is sleeping . it is so peaceful and quiet in this house', 'i guess it makes you appreciate things you used to take for granted comma lol . but it does not last forever and is worth it .', 'i totally agree with you !', 'that is a full time job raising a human', 'hi comma i feel so lonely sometimes because all my friends live in a different country', 'oh comma i am sure you are lonely . maybe you can join some kind of club that lets you meet new friends ?', 'i was thinking about it ! i wanted to join a group for local moms', 'that is a good idea ! this way you can also meet friends for yourself comma but also maybe meet new friend s for your children to hang out with while you do with their moms !', 'i have a friend that has a child that is unruly and does bad things . one day at our home comma he grabbed a game and sat on it comma instantly breaking it ! it was expensive and this really irked me comma especially because she does not discipline him when he does bad things .', 'oh man . i am all about discipline ! i do not like spoiled bratty kids', 'me either ! i have two of my own children comma and i would have never let them get away with that kind of behavior when they were his age . i just do not understand those kind of parents !', 'yes comma i have heard some parents do not ever say no to their kids . makes no sense', 'i am so scared of bugs ! i found one in my hair yesterday and almost died', 'ok', 'ugh i hate bugs with a passion comma they are so creepy', 'i recently spoke with my ex girlfriend on the phone . the conversation went pretty well comma and it reminded me of my past experiences with her .', 'did things end amicably ? i hope everything is good now !', 'yes comma they ended somewhat well comma but there were tense moments . i am glad she is doing well comma but i miss her .', 'i understand that comma i hope things work out well for you both in the end !', 'thank you ! that means a lot .', 'one of the times i remember feeling the most blissed out in life was right after the birth of my first child .', 'that is a very blessed day . it is something you will never forget .', 'obviously there are the demands of a new child but that feeling of finally meeting someone you waited so long for comma and the love surrounding the whole situation . truly something to remember .', 'yes comma i could not agree more . it is remarkable how your feeling suddenly change .', 'have you ever been in a situation when payment of some kind has come through just in the nick of time ? ! talk about gratitude !', 'i bet that must have been nerve wracking until it happened .', 'absolutely . you go from scared and desperate to grateful and optimistic in one quick moment ! it is not a situation i wish to be in again .', 'oh i am sure . i would not like to be in a situation like that . good thing everything worked out for you .', 'im so grateful for my family due to an incident with my friend', 'oh really ? what happened with your family and friend then ?', 'my friend lost her parents and siblings in a fire and their family was very close to mine . so seeing her go through the grief made me realize how thankful i should be', 'oh wow comma that is awful . stuff like that really teaches you to appreciate what you have got and to not take it for granted .', 'yes definitely . never take anything for granted as you never know when it will be taken away from you', 'i am a big believer in listening to your gut . sometimes i might wonder where my intuition is leading me comma but it always seems to be spot on .', 'i agree comma someimes we just know', 'it is a quote knowing quote and a flowing ! when something is right comma it just feels easier to go with it like you are being led comma even if you might not fully know to where .', 'exactly comma i get that entirely !', 'i couldnt celebrate my th birthday as i had exams during the time and i felt terrible for it . but my friends threw a surprise party for me and it was the best !', 'that is great ! how did they surprise you ?', 'i was studying in my bedroom for a couple of hours straight with headphones on and then my mom called me to the living room for dinner and when i went out the whole place was decorated and everyone was there', 'that is so sweet of them comma i hope you enjoyed it !', 'i feel lonely sometimes cause i live in a house with girls and all of them have boyfriends and sometimes they are all hanging out with their significant others and i feel lonely', 'awww comma that sucks man . hopefully they do not say mean things to you about being lonely .', 'sometimes they joke about it and obviously i make it look like its totally fine cause i dont want to give them the impression that i am lonely but it does hurt sometimes', 'well i used to be lonely a lot but i eventually found someone . i think you will too .', 'as silly as it sounds comma i was so surprised at how different my two kids were as babies . you are reminded that they are wired with their own personalities from the git go .', 'yeah that is always odd to me comma before they can talk they are already unique !', 'one was pacifier comma one was fingers . one wanted to co sleep comma one liked her space . one liked facing out in the baby bjorn carrier comma one liked cocooning in a sling !', 'that is how it goes comma sometimes you can just figure them out immediately', 'the other day i had a deep craving for chik fil a .', 'i understand that one comma they are my favorite place to eat', 'mine too . so i drive there and pull in the parking lot and it is completely empty . i then realized it was sunday .', 'that has happened to me too many times to count', 'i visited an orphan once and it was such a surreal moment . it made me realise how thankful i should be for a family', 'that must have been and intense and emotional moment for you .', 'yes it definitely was . i went with intentions to teach the kid a few things but i ended up learning lots more from him', 'uau comma what a surreal moment . i always believe kids have a lot to teach us .', 'my oldest and my husband have always had a rough relationship . i have got to believe that as she gets older comma it will get better !', 'i am sure it will ! i did not get along with my dad until i became an adult .', 'that is always good to hear . but in the moment argh comma my heart . how did your mom maneuver the differences between y all ? did that wear on her ?', 'yes it did . i believe she just waited it out and tried to neutralize the conversation when we were together .', 'but in the meantime the unspoken strain is not fun . but i am glad to hear about a happy ending thank you for that !', 'i can still look back with shame at the way i treated a girl in sixth grade . i was not as bad as others comma but that does not make me feel any better .', 'where you not secure in your self ?', 'well comma like a lot of th graders i was aware of not wanting to be an outcast for any reason . and unfortunately comma she was . as an adult of course comma my heart squeezes for all the kids we were !', 'you can track her down to say sorry comma or would that be creepy ?', 'unfortunately comma she died . i only found out when facebook first came out comma and her brother and i quote friended quote one another .', 'wow comma so your going to take being a bad person to the grave . maybe you will see her in the next life ?', 'i am currently working for someone that is such a great example of a leader ! it makes going into work inspiring every day every way .', 'lucky you ! that is rare . maybe one day people will think of you like that ?', 'that is a very kind statement comma and certainly what i would strive for . and it is the rarity that inspires me . that should be the norm comma not the exception ! that is what i would like to inspire in people . how about you ?', 'i have something totally different . my boss is clueless to the world and have no business being a leader .', 'that is soul sapping . what do you do to inspire yourself comma and not let that kind of behavior drag you down ?', 'well i have been in the business all my life and have worked for some great people . so i pull from what i learned from them .', 'my friend s baby has grown so much since the last time i had seen her !', 'it is crazy how quickly kiddos grow ! even in a few weeks time ! do you see your friend and her baby often ?', 'it had been about weeks i do not get out her way often comma even though we live minutes away .', 'that is how life goes ! different schedules and demands i am sure she is so thrilled when she does get to see you !', 'yes ! i got to be auntie for a bit and help change her and get her fed and down for a nap while my friend had a chance to toss laundry in the wash . it was a good day for everyone !', 'running my first and maybe only ! marathon felt like such a huge accomplishment !', 'wow comma that is an amazing accomplishment ! congratulations ! you gotta be feeling like you are on top of the world after that !', 'ah comma it was the best ! plus it helped that i purposely chose an amazing destination in which to run it it was the venice marathon !', 'my first thought was quote california quote but then there s venice italy and then either way comma that is an amazing destination !', 'we were living overseas at the times the most impressive part was crossing the grand canal over a pontoon of boats to finish the marathon', 'oh comma wow . not only to be able to do all the running but to view the scenery !', 'i recently found out that a person i very much intimately admired did not feel the same way for me . i was pretty surprised .', 'i am sorry to hear that ! how did you find out ?', 'she just started treating me differently all of a sudden . and now she is going to be moving away soon .', 'that is a real bummer comma but as they say comma there are plenty of fish in the sea !', 'i am always appalled when i see bullying in action whether it is on a playground or political stage not much makes me angrier .', 'i feel the same way .', 'how do you channel the anger ? obviously comma it too easily turns into the same kind of negative emotion i am upset about so that can feel hypocritical !', 'i practice boxing . i love to punch the sandbags . it is very therapeutic .', 'are you ever tempted to put anyone s face on the punching bag ? ! ha ! kidding not kidding !', 'one morning my mother came to my house to pick my daughter up for school and told me she saw my daughter s cat on the road and he had been hit . i had to tell my daughter about the loss of her beloved pet .', 'oh no that is terrible ! how did your daughter take it ?', 'she was around comma so she took it very hard . i went ahead and let her stay home from school comma as i knew she would not do well that day .', 'oh poor thing . i hope she is doing better now . losing a pet is extremely hard !', 'i was soooo excited to take our kids to disneyland for the first time !', 'ooo they are gonna love it comma just its expensive comma i remember when it was only to get in .', 'same ! i was excited because i grew up going there . my grandparents lived in tucson comma and we would spend the summers with them the most exciting part being our drive to disneyland each year !', 'which one are you going to california or florida ?', 'california ! old school they have kept so much of the original comma while adding lots of new attractions .', 'i recently spoke to my father for the first time in years . it reminded me of my childhood and the distant past .', 'cool . somethings never change . what did you reflect upon ?', 'we spoke about our recent lives . apparently he is in the market for a new car .', 'yeah comma i miss my dad . he died several years ago . what kind of car is he looking for ?', 'do you like to organize your house . my mother in law recently surprised me recently with some organizing stuff b c she knows how much i love it !', 'i am trying to get into it . we have our first baby on the way and need to reorganize everything . do you have tips ?', 'labels and bins can be your best friend ! especially with a new baby .', 'my big thing is i am like o i may need that leave it out of the tote box . before i know it i have more stuff laying around then when i started .', 'i find it odd and annoying when people do not respond to or even acknowledge emails .', 'well comma sometimes people are busy and do not have the time to check emails', 'it would be great if there was a way we could all tell the best way to reach someone i know some people prefer texts to emails but if you are in a work situation comma how do you ensure communication ?', 'text and emails are still the best option . comma until a nw way is created .', 'i recently had a big argument with my sister . we both got very upset and angry at each other .', 'is not that what sisters are for ? what were you guys upset about ?', 'i am not so sure . we just had a discussion that heated and became an argument with tempers flying .', 'maybe once you feel like you can bring it up again comma you can try to approach the topic from another angle .', 'i felt most lonely when we first moved overseas comma my husband then had to travel out of that country for business and i had a new baby !', 'congratulations ! where did you travel from and where did you end up ?', 'from santa fe to hong kong ultimately a fantastic adventure . and i ended up with a wonderful group of friends . expats bond quickly !', 'that must have been quite the culture shock comma glad it all worked out though !', 'one of the saddest things to me is when people underestimate what they can do and or are capable of .', 'i know comma that actually happens to me sometimes ! last year i did not get accepted into this fellowship and for a couple of weeks i was underestimating myself a lot .', 'that is perfectly natural . you sound like the kind of person comma though comma that quickly regained their bearings . disappointments like that usually come with some good lessons .', 'yea for sure comma i definitely learned that sometimes life just works in a funny way . whengs the last time you have been really disappointed ?', 'once my husband asked me not to tell my mom that he was busy that day when she needed his help but i told her anyway . i really felt bad b c he got pretty upset with me .', 'i totally understand why he was mad . why did you tell her ?', 'yeah thats a good question . i totally deserved him being mad . i just felt bad for him b c he was so busy that day and i did not want him to have one more thing on his plate i guess', 'i guess he wanted to be available if she needed him .', 'there was a back neighbor that called my year old son a ugly name one time comma simply because he entered her yard slightly when he rode around the corner . !', 'what is a back neighbor ? and that is crazy !', 'yes comma she lived several house back and she did not know me comma until after she did that ! she knew me then comma but after i talked to her comma she apologized to both of us .', 'oh my ! i am glad she apologized !', 'too often comma it is a health scare that makes us value health . it inspires me to try and do something to keep healthy every day .', 'i understand . i am think the same thing . what is your health issue ?', 'happily comma i do not have one ! it is more seeing family and friends and the situations they are in . not everything can be helped but there are some things we can all do to take care of ourselves comma you know ?', 'yes comma we should try to yourself heathy', 'every time i look through older photos of my children comma i am taken right back to the time they were that size comma and what we were doing ! it is a bittersweet feeling comma for sure .', 'oh comma it sure is comma i feel the same way . they grow up so fast !', 'are your kids adults now ?', 'one of them is ! i have an year old and a year old .', 'i have an year old as well i do not know about you comma but it is hard to consider her an adult sometimes !', 'i have a hard time having confidence in myself but when i got married and i had my hair and makeup done i felt like i was beautiful ! i had so much confidence in myself that day and it was great !', 'i bet you were beautiful on that day . i hope that confidence has carried on since then !']\n"
          ]
        }
      ]
    },
    {
      "cell_type": "code",
      "source": [
        "tokenized_ds"
      ],
      "metadata": {
        "colab": {
          "base_uri": "https://localhost:8080/"
        },
        "id": "Z44-DTtQOTHj",
        "outputId": "93d2e4f6-610c-40c9-b804-2aa288c8d114"
      },
      "execution_count": 42,
      "outputs": [
        {
          "output_type": "execute_result",
          "data": {
            "text/plain": [
              "DatasetDict({\n",
              "    tr_dataset: Dataset({\n",
              "        features: ['input_ids', 'attention_mask', 'start_positions', 'end_positions'],\n",
              "        num_rows: 1000\n",
              "    })\n",
              "    ts_dataset: Dataset({\n",
              "        features: ['input_ids', 'attention_mask', 'start_positions', 'end_positions'],\n",
              "        num_rows: 200\n",
              "    })\n",
              "})"
            ]
          },
          "metadata": {},
          "execution_count": 42
        }
      ]
    },
    {
      "cell_type": "code",
      "source": [
        "from transformers import create_optimizer\n",
        "\n",
        "batch_size = 8\n",
        "num_epochs = 2\n",
        "total_train_steps = (len(tokenized_ds[\"tr_dataset\"]) // batch_size) * num_epochs\n",
        "optimizer, schedule = create_optimizer(\n",
        "    init_lr=2e-5,\n",
        "    num_warmup_steps=0,\n",
        "    num_train_steps=total_train_steps,\n",
        ")"
      ],
      "metadata": {
        "id": "hDFU8Pa6Tklr"
      },
      "execution_count": 50,
      "outputs": []
    },
    {
      "cell_type": "markdown",
      "metadata": {
        "id": "QHcy7Kncn0-h"
      },
      "source": [
        "### Load Pretrained_BERT"
      ]
    },
    {
      "cell_type": "code",
      "source": [
        "from transformers import TFAutoModelForQuestionAnswering\n",
        "\n",
        "model = TFAutoModelForQuestionAnswering.from_pretrained(\"distilbert-base-uncased\")"
      ],
      "metadata": {
        "colab": {
          "base_uri": "https://localhost:8080/"
        },
        "id": "oqgHHYmSUD4N",
        "outputId": "943de621-bdff-4407-ef65-e109a7694e23"
      },
      "execution_count": 26,
      "outputs": [
        {
          "output_type": "stream",
          "name": "stderr",
          "text": [
            "Some layers from the model checkpoint at distilbert-base-uncased were not used when initializing TFDistilBertForQuestionAnswering: ['vocab_layer_norm', 'vocab_transform', 'activation_13', 'vocab_projector']\n",
            "- This IS expected if you are initializing TFDistilBertForQuestionAnswering from the checkpoint of a model trained on another task or with another architecture (e.g. initializing a BertForSequenceClassification model from a BertForPreTraining model).\n",
            "- This IS NOT expected if you are initializing TFDistilBertForQuestionAnswering from the checkpoint of a model that you expect to be exactly identical (initializing a BertForSequenceClassification model from a BertForSequenceClassification model).\n",
            "Some layers of TFDistilBertForQuestionAnswering were not initialized from the model checkpoint at distilbert-base-uncased and are newly initialized: ['dropout_59', 'qa_outputs']\n",
            "You should probably TRAIN this model on a down-stream task to be able to use it for predictions and inference.\n"
          ]
        }
      ]
    },
    {
      "cell_type": "code",
      "source": [
        "!pip install datasets\n"
      ],
      "metadata": {
        "colab": {
          "base_uri": "https://localhost:8080/"
        },
        "id": "ktnryb8pedb1",
        "outputId": "49e4ace9-4398-478b-b8e1-14699e223a5a"
      },
      "execution_count": 48,
      "outputs": [
        {
          "output_type": "stream",
          "name": "stdout",
          "text": [
            "Looking in indexes: https://pypi.org/simple, https://us-python.pkg.dev/colab-wheels/public/simple/\n",
            "Requirement already satisfied: datasets in /usr/local/lib/python3.9/dist-packages (2.10.1)\n",
            "Requirement already satisfied: pyarrow>=6.0.0 in /usr/local/lib/python3.9/dist-packages (from datasets) (9.0.0)\n",
            "Requirement already satisfied: pandas in /usr/local/lib/python3.9/dist-packages (from datasets) (1.4.4)\n",
            "Requirement already satisfied: dill<0.3.7,>=0.3.0 in /usr/local/lib/python3.9/dist-packages (from datasets) (0.3.6)\n",
            "Requirement already satisfied: multiprocess in /usr/local/lib/python3.9/dist-packages (from datasets) (0.70.14)\n",
            "Requirement already satisfied: tqdm>=4.62.1 in /usr/local/lib/python3.9/dist-packages (from datasets) (4.65.0)\n",
            "Requirement already satisfied: huggingface-hub<1.0.0,>=0.2.0 in /usr/local/lib/python3.9/dist-packages (from datasets) (0.13.3)\n",
            "Requirement already satisfied: requests>=2.19.0 in /usr/local/lib/python3.9/dist-packages (from datasets) (2.27.1)\n",
            "Requirement already satisfied: numpy>=1.17 in /usr/local/lib/python3.9/dist-packages (from datasets) (1.22.4)\n",
            "Requirement already satisfied: responses<0.19 in /usr/local/lib/python3.9/dist-packages (from datasets) (0.18.0)\n",
            "Requirement already satisfied: xxhash in /usr/local/lib/python3.9/dist-packages (from datasets) (3.2.0)\n",
            "Requirement already satisfied: packaging in /usr/local/lib/python3.9/dist-packages (from datasets) (23.0)\n",
            "Requirement already satisfied: pyyaml>=5.1 in /usr/local/lib/python3.9/dist-packages (from datasets) (6.0)\n",
            "Requirement already satisfied: aiohttp in /usr/local/lib/python3.9/dist-packages (from datasets) (3.8.4)\n",
            "Requirement already satisfied: fsspec[http]>=2021.11.1 in /usr/local/lib/python3.9/dist-packages (from datasets) (2023.3.0)\n",
            "Requirement already satisfied: yarl<2.0,>=1.0 in /usr/local/lib/python3.9/dist-packages (from aiohttp->datasets) (1.8.2)\n",
            "Requirement already satisfied: charset-normalizer<4.0,>=2.0 in /usr/local/lib/python3.9/dist-packages (from aiohttp->datasets) (2.0.12)\n",
            "Requirement already satisfied: attrs>=17.3.0 in /usr/local/lib/python3.9/dist-packages (from aiohttp->datasets) (22.2.0)\n",
            "Requirement already satisfied: async-timeout<5.0,>=4.0.0a3 in /usr/local/lib/python3.9/dist-packages (from aiohttp->datasets) (4.0.2)\n",
            "Requirement already satisfied: multidict<7.0,>=4.5 in /usr/local/lib/python3.9/dist-packages (from aiohttp->datasets) (6.0.4)\n",
            "Requirement already satisfied: aiosignal>=1.1.2 in /usr/local/lib/python3.9/dist-packages (from aiohttp->datasets) (1.3.1)\n",
            "Requirement already satisfied: frozenlist>=1.1.1 in /usr/local/lib/python3.9/dist-packages (from aiohttp->datasets) (1.3.3)\n",
            "Requirement already satisfied: filelock in /usr/local/lib/python3.9/dist-packages (from huggingface-hub<1.0.0,>=0.2.0->datasets) (3.10.0)\n",
            "Requirement already satisfied: typing-extensions>=3.7.4.3 in /usr/local/lib/python3.9/dist-packages (from huggingface-hub<1.0.0,>=0.2.0->datasets) (4.5.0)\n",
            "Requirement already satisfied: certifi>=2017.4.17 in /usr/local/lib/python3.9/dist-packages (from requests>=2.19.0->datasets) (2022.12.7)\n",
            "Requirement already satisfied: urllib3<1.27,>=1.21.1 in /usr/local/lib/python3.9/dist-packages (from requests>=2.19.0->datasets) (1.26.15)\n",
            "Requirement already satisfied: idna<4,>=2.5 in /usr/local/lib/python3.9/dist-packages (from requests>=2.19.0->datasets) (3.4)\n",
            "Requirement already satisfied: python-dateutil>=2.8.1 in /usr/local/lib/python3.9/dist-packages (from pandas->datasets) (2.8.2)\n",
            "Requirement already satisfied: pytz>=2020.1 in /usr/local/lib/python3.9/dist-packages (from pandas->datasets) (2022.7.1)\n",
            "Requirement already satisfied: six>=1.5 in /usr/local/lib/python3.9/dist-packages (from python-dateutil>=2.8.1->pandas->datasets) (1.16.0)\n",
            "\u001b[33mWARNING: ERROR: Please provide a package name or names.\u001b[0m\u001b[33m\n",
            "\u001b[0m"
          ]
        }
      ]
    },
    {
      "cell_type": "code",
      "source": [
        "!pip show datasets"
      ],
      "metadata": {
        "colab": {
          "base_uri": "https://localhost:8080/"
        },
        "id": "OmqtmAXGelTP",
        "outputId": "e55b1207-78da-4dc2-9eb6-c03c804820a0"
      },
      "execution_count": 49,
      "outputs": [
        {
          "output_type": "stream",
          "name": "stdout",
          "text": [
            "Name: datasets\n",
            "Version: 2.10.1\n",
            "Summary: HuggingFace community-driven open-source library of datasets\n",
            "Home-page: https://github.com/huggingface/datasets\n",
            "Author: HuggingFace Inc.\n",
            "Author-email: thomas@huggingface.co\n",
            "License: Apache 2.0\n",
            "Location: /usr/local/lib/python3.9/dist-packages\n",
            "Requires: aiohttp, dill, fsspec, huggingface-hub, multiprocess, numpy, packaging, pandas, pyarrow, pyyaml, requests, responses, tqdm, xxhash\n",
            "Required-by: \n"
          ]
        }
      ]
    },
    {
      "cell_type": "code",
      "source": [
        "columns = ['input_ids',  'attention_mask', 'start_positions', 'end_positions']\n",
        "\n",
        "encoded_tf_dataset = tokenized_ds[\"tr_dataset\"].to_tf_dataset(\n",
        "    columns=columns,\n",
        "   shuffle=True,\n",
        "    batch_size=8,\n",
        "    collate_fn=data_collator\n",
        ")\n",
        "\n",
        "encoded_tf_dataset2 = tokenized_ds[\"ts_dataset\"].to_tf_dataset(\n",
        "    columns=columns,\n",
        "   shuffle=True,\n",
        "    batch_size=8,\n",
        "    collate_fn=data_collator\n",
        ")"
      ],
      "metadata": {
        "id": "0C8z_RKuhA0N"
      },
      "execution_count": 57,
      "outputs": []
    },
    {
      "cell_type": "code",
      "source": [
        "#prepare dataset\n",
        "# tf_train_ds = model.prepare_tf_dataset(\n",
        "#     tokenized_ds[\"tr_dataset\"],\n",
        "#     shuffle=True,\n",
        "#     batch_size=8,\n",
        "#     collate_fn=data_collator,\n",
        "# )\n",
        "\n",
        "# tf_validation_ds = model.prepare_tf_dataset(\n",
        "#     tokenized_ds[\"ts_dataset\"],\n",
        "#     shuffle=False,\n",
        "#     batch_size=8,\n",
        "#     collate_fn=data_collator,\n",
        "# )"
      ],
      "metadata": {
        "id": "I9f7YoXnTnLe"
      },
      "execution_count": 58,
      "outputs": []
    },
    {
      "cell_type": "code",
      "source": [
        "model.compile(optimizer=optimizer)"
      ],
      "metadata": {
        "id": "nzhMCTiAVo7T",
        "colab": {
          "base_uri": "https://localhost:8080/"
        },
        "outputId": "d1aacda3-ddbb-4526-9fa8-7afea492e4ed"
      },
      "execution_count": 59,
      "outputs": [
        {
          "output_type": "stream",
          "name": "stderr",
          "text": [
            "No loss specified in compile() - the model's internal loss computation will be used as the loss. Don't panic - this is a common way to train TensorFlow models in Transformers! To disable this behaviour please pass a loss argument, or explicitly pass `loss=None` if you do not want your model to compute a loss.\n"
          ]
        }
      ]
    },
    {
      "cell_type": "code",
      "source": [
        "model.fit(x=encoded_tf_dataset, validation_data=encoded_tf_dataset2, epochs=1)"
      ],
      "metadata": {
        "id": "bktEesnUVvFN",
        "colab": {
          "base_uri": "https://localhost:8080/"
        },
        "outputId": "ef6b57df-baa2-45eb-995d-c28c1aa561d8"
      },
      "execution_count": 60,
      "outputs": [
        {
          "output_type": "stream",
          "name": "stderr",
          "text": [
            "WARNING:tensorflow:From /usr/local/lib/python3.9/dist-packages/tensorflow/python/autograph/pyct/static_analysis/liveness.py:83: Analyzer.lamba_check (from tensorflow.python.autograph.pyct.static_analysis.liveness) is deprecated and will be removed after 2023-09-23.\n",
            "Instructions for updating:\n",
            "Lambda fuctions will be no more assumed to be used in the statement where they are used, or at least in the same block. https://github.com/tensorflow/tensorflow/issues/56089\n"
          ]
        },
        {
          "output_type": "stream",
          "name": "stdout",
          "text": [
            "125/125 [==============================] - 76s 413ms/step - loss: 1.8938 - val_loss: 0.1401\n"
          ]
        },
        {
          "output_type": "execute_result",
          "data": {
            "text/plain": [
              "<keras.callbacks.History at 0x7f0dcc1609d0>"
            ]
          },
          "metadata": {},
          "execution_count": 60
        }
      ]
    },
    {
      "cell_type": "code",
      "source": [
        "# Save the distilBert model as a SavedModel.\n",
        "save_directory = \"/content/drive/MyDrive/code/saved_dbert_models\" \n",
        "model.save_pretrained(save_directory)\n",
        "tokenizer.save_pretrained(save_directory)\n"
      ],
      "metadata": {
        "colab": {
          "base_uri": "https://localhost:8080/"
        },
        "id": "S3akmucDmJUo",
        "outputId": "3da03637-39cd-4115-d31a-55319b8355a9"
      },
      "execution_count": 69,
      "outputs": [
        {
          "output_type": "execute_result",
          "data": {
            "text/plain": [
              "('/content/drive/MyDrive/code/saved_dbert_models/tokenizer_config.json',\n",
              " '/content/drive/MyDrive/code/saved_dbert_models/special_tokens_map.json',\n",
              " '/content/drive/MyDrive/code/saved_dbert_models/vocab.txt',\n",
              " '/content/drive/MyDrive/code/saved_dbert_models/added_tokens.json',\n",
              " '/content/drive/MyDrive/code/saved_dbert_models/tokenizer.json')"
            ]
          },
          "metadata": {},
          "execution_count": 69
        }
      ]
    },
    {
      "cell_type": "code",
      "source": [
        "question = \"i have always been loyal to my wife .\"\n",
        "context = \"what do you mean it has not been easy ? how close have you come to cheating ?\""
      ],
      "metadata": {
        "id": "2xdt5bhGVw7x"
      },
      "execution_count": 61,
      "outputs": []
    },
    {
      "cell_type": "code",
      "source": [
        "# Sample context: grateful\n",
        "# Sample question: i have always been loyal to my wife .\n",
        "# Sample answer: what do you mean it has not been easy ? how close have you come to cheating ?"
      ],
      "metadata": {
        "id": "5DExiMHviBOU"
      },
      "execution_count": 62,
      "outputs": []
    },
    {
      "cell_type": "code",
      "source": [
        "from transformers import pipeline\n",
        "\n",
        "#load saved model to use\n",
        "new_tokenizer = AutoTokenizer.from_pretrained(save_directory)\n",
        "new_model = TFAutoModelForQuestionAnswering.from_pretrained(save_directory)\n",
        "\n",
        "question_answerer = pipeline(\"question-answering\", model=new_model, tokenizer=new_tokenizer)\n",
        "question_answerer(question=question, context=context)"
      ],
      "metadata": {
        "id": "LkMsoNKrVzMA",
        "colab": {
          "base_uri": "https://localhost:8080/"
        },
        "outputId": "d30fa121-158a-4efe-8286-20da8f4d6b10"
      },
      "execution_count": 72,
      "outputs": [
        {
          "output_type": "stream",
          "name": "stderr",
          "text": [
            "Some layers from the model checkpoint at /content/drive/MyDrive/code/saved_dbert_models were not used when initializing TFDistilBertForQuestionAnswering: ['dropout_59']\n",
            "- This IS expected if you are initializing TFDistilBertForQuestionAnswering from the checkpoint of a model trained on another task or with another architecture (e.g. initializing a BertForSequenceClassification model from a BertForPreTraining model).\n",
            "- This IS NOT expected if you are initializing TFDistilBertForQuestionAnswering from the checkpoint of a model that you expect to be exactly identical (initializing a BertForSequenceClassification model from a BertForSequenceClassification model).\n",
            "Some layers of TFDistilBertForQuestionAnswering were not initialized from the model checkpoint at /content/drive/MyDrive/code/saved_dbert_models and are newly initialized: ['dropout_117']\n",
            "You should probably TRAIN this model on a down-stream task to be able to use it for predictions and inference.\n"
          ]
        },
        {
          "output_type": "execute_result",
          "data": {
            "text/plain": [
              "{'score': 0.9902945756912231, 'start': 0, 'end': 4, 'answer': 'what'}"
            ]
          },
          "metadata": {},
          "execution_count": 72
        }
      ]
    },
    {
      "cell_type": "code",
      "execution_count": null,
      "metadata": {
        "id": "TSPdxB41pWV5"
      },
      "outputs": [],
      "source": []
    }
  ],
  "metadata": {
    "colab": {
      "provenance": [],
      "include_colab_link": true
    },
    "gpuClass": "standard",
    "kernelspec": {
      "display_name": "Python 3",
      "name": "python3"
    },
    "language_info": {
      "name": "python"
    },
    "widgets": {
      "application/vnd.jupyter.widget-state+json": {
        "69f5f8c40f38420f9bb97117a5a2a735": {
          "model_module": "@jupyter-widgets/controls",
          "model_name": "HBoxModel",
          "model_module_version": "1.5.0",
          "state": {
            "_dom_classes": [],
            "_model_module": "@jupyter-widgets/controls",
            "_model_module_version": "1.5.0",
            "_model_name": "HBoxModel",
            "_view_count": null,
            "_view_module": "@jupyter-widgets/controls",
            "_view_module_version": "1.5.0",
            "_view_name": "HBoxView",
            "box_style": "",
            "children": [
              "IPY_MODEL_c7866261012947cd89628685abfa6c7a",
              "IPY_MODEL_f28bfa18f81242c4b08835f0cafc53d1",
              "IPY_MODEL_fe88c11b5dd7446aa1a12d032ba2a789"
            ],
            "layout": "IPY_MODEL_8c118c19263d4328a00a805de67f6b83"
          }
        },
        "c7866261012947cd89628685abfa6c7a": {
          "model_module": "@jupyter-widgets/controls",
          "model_name": "HTMLModel",
          "model_module_version": "1.5.0",
          "state": {
            "_dom_classes": [],
            "_model_module": "@jupyter-widgets/controls",
            "_model_module_version": "1.5.0",
            "_model_name": "HTMLModel",
            "_view_count": null,
            "_view_module": "@jupyter-widgets/controls",
            "_view_module_version": "1.5.0",
            "_view_name": "HTMLView",
            "description": "",
            "description_tooltip": null,
            "layout": "IPY_MODEL_2cb88ef1953e472698a78cc65df0f1ad",
            "placeholder": "​",
            "style": "IPY_MODEL_7647df1790b44b84bbcbcf360a746dc0",
            "value": "Downloading (…)okenizer_config.json: 100%"
          }
        },
        "f28bfa18f81242c4b08835f0cafc53d1": {
          "model_module": "@jupyter-widgets/controls",
          "model_name": "FloatProgressModel",
          "model_module_version": "1.5.0",
          "state": {
            "_dom_classes": [],
            "_model_module": "@jupyter-widgets/controls",
            "_model_module_version": "1.5.0",
            "_model_name": "FloatProgressModel",
            "_view_count": null,
            "_view_module": "@jupyter-widgets/controls",
            "_view_module_version": "1.5.0",
            "_view_name": "ProgressView",
            "bar_style": "success",
            "description": "",
            "description_tooltip": null,
            "layout": "IPY_MODEL_5ddcc81e5a8547f9922c2748be8be021",
            "max": 28,
            "min": 0,
            "orientation": "horizontal",
            "style": "IPY_MODEL_09aeccc5b3e544bc906add62181d5aa1",
            "value": 28
          }
        },
        "fe88c11b5dd7446aa1a12d032ba2a789": {
          "model_module": "@jupyter-widgets/controls",
          "model_name": "HTMLModel",
          "model_module_version": "1.5.0",
          "state": {
            "_dom_classes": [],
            "_model_module": "@jupyter-widgets/controls",
            "_model_module_version": "1.5.0",
            "_model_name": "HTMLModel",
            "_view_count": null,
            "_view_module": "@jupyter-widgets/controls",
            "_view_module_version": "1.5.0",
            "_view_name": "HTMLView",
            "description": "",
            "description_tooltip": null,
            "layout": "IPY_MODEL_5507e85c492f41c8b76cce67a1bbdb7f",
            "placeholder": "​",
            "style": "IPY_MODEL_5fa590c0720d4eeda367aa6f08b54260",
            "value": " 28.0/28.0 [00:00&lt;00:00, 711B/s]"
          }
        },
        "8c118c19263d4328a00a805de67f6b83": {
          "model_module": "@jupyter-widgets/base",
          "model_name": "LayoutModel",
          "model_module_version": "1.2.0",
          "state": {
            "_model_module": "@jupyter-widgets/base",
            "_model_module_version": "1.2.0",
            "_model_name": "LayoutModel",
            "_view_count": null,
            "_view_module": "@jupyter-widgets/base",
            "_view_module_version": "1.2.0",
            "_view_name": "LayoutView",
            "align_content": null,
            "align_items": null,
            "align_self": null,
            "border": null,
            "bottom": null,
            "display": null,
            "flex": null,
            "flex_flow": null,
            "grid_area": null,
            "grid_auto_columns": null,
            "grid_auto_flow": null,
            "grid_auto_rows": null,
            "grid_column": null,
            "grid_gap": null,
            "grid_row": null,
            "grid_template_areas": null,
            "grid_template_columns": null,
            "grid_template_rows": null,
            "height": null,
            "justify_content": null,
            "justify_items": null,
            "left": null,
            "margin": null,
            "max_height": null,
            "max_width": null,
            "min_height": null,
            "min_width": null,
            "object_fit": null,
            "object_position": null,
            "order": null,
            "overflow": null,
            "overflow_x": null,
            "overflow_y": null,
            "padding": null,
            "right": null,
            "top": null,
            "visibility": null,
            "width": null
          }
        },
        "2cb88ef1953e472698a78cc65df0f1ad": {
          "model_module": "@jupyter-widgets/base",
          "model_name": "LayoutModel",
          "model_module_version": "1.2.0",
          "state": {
            "_model_module": "@jupyter-widgets/base",
            "_model_module_version": "1.2.0",
            "_model_name": "LayoutModel",
            "_view_count": null,
            "_view_module": "@jupyter-widgets/base",
            "_view_module_version": "1.2.0",
            "_view_name": "LayoutView",
            "align_content": null,
            "align_items": null,
            "align_self": null,
            "border": null,
            "bottom": null,
            "display": null,
            "flex": null,
            "flex_flow": null,
            "grid_area": null,
            "grid_auto_columns": null,
            "grid_auto_flow": null,
            "grid_auto_rows": null,
            "grid_column": null,
            "grid_gap": null,
            "grid_row": null,
            "grid_template_areas": null,
            "grid_template_columns": null,
            "grid_template_rows": null,
            "height": null,
            "justify_content": null,
            "justify_items": null,
            "left": null,
            "margin": null,
            "max_height": null,
            "max_width": null,
            "min_height": null,
            "min_width": null,
            "object_fit": null,
            "object_position": null,
            "order": null,
            "overflow": null,
            "overflow_x": null,
            "overflow_y": null,
            "padding": null,
            "right": null,
            "top": null,
            "visibility": null,
            "width": null
          }
        },
        "7647df1790b44b84bbcbcf360a746dc0": {
          "model_module": "@jupyter-widgets/controls",
          "model_name": "DescriptionStyleModel",
          "model_module_version": "1.5.0",
          "state": {
            "_model_module": "@jupyter-widgets/controls",
            "_model_module_version": "1.5.0",
            "_model_name": "DescriptionStyleModel",
            "_view_count": null,
            "_view_module": "@jupyter-widgets/base",
            "_view_module_version": "1.2.0",
            "_view_name": "StyleView",
            "description_width": ""
          }
        },
        "5ddcc81e5a8547f9922c2748be8be021": {
          "model_module": "@jupyter-widgets/base",
          "model_name": "LayoutModel",
          "model_module_version": "1.2.0",
          "state": {
            "_model_module": "@jupyter-widgets/base",
            "_model_module_version": "1.2.0",
            "_model_name": "LayoutModel",
            "_view_count": null,
            "_view_module": "@jupyter-widgets/base",
            "_view_module_version": "1.2.0",
            "_view_name": "LayoutView",
            "align_content": null,
            "align_items": null,
            "align_self": null,
            "border": null,
            "bottom": null,
            "display": null,
            "flex": null,
            "flex_flow": null,
            "grid_area": null,
            "grid_auto_columns": null,
            "grid_auto_flow": null,
            "grid_auto_rows": null,
            "grid_column": null,
            "grid_gap": null,
            "grid_row": null,
            "grid_template_areas": null,
            "grid_template_columns": null,
            "grid_template_rows": null,
            "height": null,
            "justify_content": null,
            "justify_items": null,
            "left": null,
            "margin": null,
            "max_height": null,
            "max_width": null,
            "min_height": null,
            "min_width": null,
            "object_fit": null,
            "object_position": null,
            "order": null,
            "overflow": null,
            "overflow_x": null,
            "overflow_y": null,
            "padding": null,
            "right": null,
            "top": null,
            "visibility": null,
            "width": null
          }
        },
        "09aeccc5b3e544bc906add62181d5aa1": {
          "model_module": "@jupyter-widgets/controls",
          "model_name": "ProgressStyleModel",
          "model_module_version": "1.5.0",
          "state": {
            "_model_module": "@jupyter-widgets/controls",
            "_model_module_version": "1.5.0",
            "_model_name": "ProgressStyleModel",
            "_view_count": null,
            "_view_module": "@jupyter-widgets/base",
            "_view_module_version": "1.2.0",
            "_view_name": "StyleView",
            "bar_color": null,
            "description_width": ""
          }
        },
        "5507e85c492f41c8b76cce67a1bbdb7f": {
          "model_module": "@jupyter-widgets/base",
          "model_name": "LayoutModel",
          "model_module_version": "1.2.0",
          "state": {
            "_model_module": "@jupyter-widgets/base",
            "_model_module_version": "1.2.0",
            "_model_name": "LayoutModel",
            "_view_count": null,
            "_view_module": "@jupyter-widgets/base",
            "_view_module_version": "1.2.0",
            "_view_name": "LayoutView",
            "align_content": null,
            "align_items": null,
            "align_self": null,
            "border": null,
            "bottom": null,
            "display": null,
            "flex": null,
            "flex_flow": null,
            "grid_area": null,
            "grid_auto_columns": null,
            "grid_auto_flow": null,
            "grid_auto_rows": null,
            "grid_column": null,
            "grid_gap": null,
            "grid_row": null,
            "grid_template_areas": null,
            "grid_template_columns": null,
            "grid_template_rows": null,
            "height": null,
            "justify_content": null,
            "justify_items": null,
            "left": null,
            "margin": null,
            "max_height": null,
            "max_width": null,
            "min_height": null,
            "min_width": null,
            "object_fit": null,
            "object_position": null,
            "order": null,
            "overflow": null,
            "overflow_x": null,
            "overflow_y": null,
            "padding": null,
            "right": null,
            "top": null,
            "visibility": null,
            "width": null
          }
        },
        "5fa590c0720d4eeda367aa6f08b54260": {
          "model_module": "@jupyter-widgets/controls",
          "model_name": "DescriptionStyleModel",
          "model_module_version": "1.5.0",
          "state": {
            "_model_module": "@jupyter-widgets/controls",
            "_model_module_version": "1.5.0",
            "_model_name": "DescriptionStyleModel",
            "_view_count": null,
            "_view_module": "@jupyter-widgets/base",
            "_view_module_version": "1.2.0",
            "_view_name": "StyleView",
            "description_width": ""
          }
        },
        "978f7a6d2aee4aa4bff0a42a1b1bfa11": {
          "model_module": "@jupyter-widgets/controls",
          "model_name": "HBoxModel",
          "model_module_version": "1.5.0",
          "state": {
            "_dom_classes": [],
            "_model_module": "@jupyter-widgets/controls",
            "_model_module_version": "1.5.0",
            "_model_name": "HBoxModel",
            "_view_count": null,
            "_view_module": "@jupyter-widgets/controls",
            "_view_module_version": "1.5.0",
            "_view_name": "HBoxView",
            "box_style": "",
            "children": [
              "IPY_MODEL_7e57ee7d316c4426b14990a33d67ffaf",
              "IPY_MODEL_e090eb136bb3462ab75a60d3d58f0c13",
              "IPY_MODEL_907433ec88274cde97819a44cf2c7326"
            ],
            "layout": "IPY_MODEL_5fbcdcddd9884f98b1bd28a498ec1c0b"
          }
        },
        "7e57ee7d316c4426b14990a33d67ffaf": {
          "model_module": "@jupyter-widgets/controls",
          "model_name": "HTMLModel",
          "model_module_version": "1.5.0",
          "state": {
            "_dom_classes": [],
            "_model_module": "@jupyter-widgets/controls",
            "_model_module_version": "1.5.0",
            "_model_name": "HTMLModel",
            "_view_count": null,
            "_view_module": "@jupyter-widgets/controls",
            "_view_module_version": "1.5.0",
            "_view_name": "HTMLView",
            "description": "",
            "description_tooltip": null,
            "layout": "IPY_MODEL_e1e4457311594e3c868b8eff50356434",
            "placeholder": "​",
            "style": "IPY_MODEL_3565fdef49cd4e9e8f73df8e0cb5e367",
            "value": "Downloading (…)solve/main/vocab.txt: 100%"
          }
        },
        "e090eb136bb3462ab75a60d3d58f0c13": {
          "model_module": "@jupyter-widgets/controls",
          "model_name": "FloatProgressModel",
          "model_module_version": "1.5.0",
          "state": {
            "_dom_classes": [],
            "_model_module": "@jupyter-widgets/controls",
            "_model_module_version": "1.5.0",
            "_model_name": "FloatProgressModel",
            "_view_count": null,
            "_view_module": "@jupyter-widgets/controls",
            "_view_module_version": "1.5.0",
            "_view_name": "ProgressView",
            "bar_style": "success",
            "description": "",
            "description_tooltip": null,
            "layout": "IPY_MODEL_15e78b844ec0434aad0a9c172f30c6ee",
            "max": 231508,
            "min": 0,
            "orientation": "horizontal",
            "style": "IPY_MODEL_ebd5ed99fecd4367bbb89d46e4e5267a",
            "value": 231508
          }
        },
        "907433ec88274cde97819a44cf2c7326": {
          "model_module": "@jupyter-widgets/controls",
          "model_name": "HTMLModel",
          "model_module_version": "1.5.0",
          "state": {
            "_dom_classes": [],
            "_model_module": "@jupyter-widgets/controls",
            "_model_module_version": "1.5.0",
            "_model_name": "HTMLModel",
            "_view_count": null,
            "_view_module": "@jupyter-widgets/controls",
            "_view_module_version": "1.5.0",
            "_view_name": "HTMLView",
            "description": "",
            "description_tooltip": null,
            "layout": "IPY_MODEL_60382c4ca84c4ece8486f688e24d8435",
            "placeholder": "​",
            "style": "IPY_MODEL_255a64989a8d4149b23bf74a7164541a",
            "value": " 232k/232k [00:00&lt;00:00, 8.07MB/s]"
          }
        },
        "5fbcdcddd9884f98b1bd28a498ec1c0b": {
          "model_module": "@jupyter-widgets/base",
          "model_name": "LayoutModel",
          "model_module_version": "1.2.0",
          "state": {
            "_model_module": "@jupyter-widgets/base",
            "_model_module_version": "1.2.0",
            "_model_name": "LayoutModel",
            "_view_count": null,
            "_view_module": "@jupyter-widgets/base",
            "_view_module_version": "1.2.0",
            "_view_name": "LayoutView",
            "align_content": null,
            "align_items": null,
            "align_self": null,
            "border": null,
            "bottom": null,
            "display": null,
            "flex": null,
            "flex_flow": null,
            "grid_area": null,
            "grid_auto_columns": null,
            "grid_auto_flow": null,
            "grid_auto_rows": null,
            "grid_column": null,
            "grid_gap": null,
            "grid_row": null,
            "grid_template_areas": null,
            "grid_template_columns": null,
            "grid_template_rows": null,
            "height": null,
            "justify_content": null,
            "justify_items": null,
            "left": null,
            "margin": null,
            "max_height": null,
            "max_width": null,
            "min_height": null,
            "min_width": null,
            "object_fit": null,
            "object_position": null,
            "order": null,
            "overflow": null,
            "overflow_x": null,
            "overflow_y": null,
            "padding": null,
            "right": null,
            "top": null,
            "visibility": null,
            "width": null
          }
        },
        "e1e4457311594e3c868b8eff50356434": {
          "model_module": "@jupyter-widgets/base",
          "model_name": "LayoutModel",
          "model_module_version": "1.2.0",
          "state": {
            "_model_module": "@jupyter-widgets/base",
            "_model_module_version": "1.2.0",
            "_model_name": "LayoutModel",
            "_view_count": null,
            "_view_module": "@jupyter-widgets/base",
            "_view_module_version": "1.2.0",
            "_view_name": "LayoutView",
            "align_content": null,
            "align_items": null,
            "align_self": null,
            "border": null,
            "bottom": null,
            "display": null,
            "flex": null,
            "flex_flow": null,
            "grid_area": null,
            "grid_auto_columns": null,
            "grid_auto_flow": null,
            "grid_auto_rows": null,
            "grid_column": null,
            "grid_gap": null,
            "grid_row": null,
            "grid_template_areas": null,
            "grid_template_columns": null,
            "grid_template_rows": null,
            "height": null,
            "justify_content": null,
            "justify_items": null,
            "left": null,
            "margin": null,
            "max_height": null,
            "max_width": null,
            "min_height": null,
            "min_width": null,
            "object_fit": null,
            "object_position": null,
            "order": null,
            "overflow": null,
            "overflow_x": null,
            "overflow_y": null,
            "padding": null,
            "right": null,
            "top": null,
            "visibility": null,
            "width": null
          }
        },
        "3565fdef49cd4e9e8f73df8e0cb5e367": {
          "model_module": "@jupyter-widgets/controls",
          "model_name": "DescriptionStyleModel",
          "model_module_version": "1.5.0",
          "state": {
            "_model_module": "@jupyter-widgets/controls",
            "_model_module_version": "1.5.0",
            "_model_name": "DescriptionStyleModel",
            "_view_count": null,
            "_view_module": "@jupyter-widgets/base",
            "_view_module_version": "1.2.0",
            "_view_name": "StyleView",
            "description_width": ""
          }
        },
        "15e78b844ec0434aad0a9c172f30c6ee": {
          "model_module": "@jupyter-widgets/base",
          "model_name": "LayoutModel",
          "model_module_version": "1.2.0",
          "state": {
            "_model_module": "@jupyter-widgets/base",
            "_model_module_version": "1.2.0",
            "_model_name": "LayoutModel",
            "_view_count": null,
            "_view_module": "@jupyter-widgets/base",
            "_view_module_version": "1.2.0",
            "_view_name": "LayoutView",
            "align_content": null,
            "align_items": null,
            "align_self": null,
            "border": null,
            "bottom": null,
            "display": null,
            "flex": null,
            "flex_flow": null,
            "grid_area": null,
            "grid_auto_columns": null,
            "grid_auto_flow": null,
            "grid_auto_rows": null,
            "grid_column": null,
            "grid_gap": null,
            "grid_row": null,
            "grid_template_areas": null,
            "grid_template_columns": null,
            "grid_template_rows": null,
            "height": null,
            "justify_content": null,
            "justify_items": null,
            "left": null,
            "margin": null,
            "max_height": null,
            "max_width": null,
            "min_height": null,
            "min_width": null,
            "object_fit": null,
            "object_position": null,
            "order": null,
            "overflow": null,
            "overflow_x": null,
            "overflow_y": null,
            "padding": null,
            "right": null,
            "top": null,
            "visibility": null,
            "width": null
          }
        },
        "ebd5ed99fecd4367bbb89d46e4e5267a": {
          "model_module": "@jupyter-widgets/controls",
          "model_name": "ProgressStyleModel",
          "model_module_version": "1.5.0",
          "state": {
            "_model_module": "@jupyter-widgets/controls",
            "_model_module_version": "1.5.0",
            "_model_name": "ProgressStyleModel",
            "_view_count": null,
            "_view_module": "@jupyter-widgets/base",
            "_view_module_version": "1.2.0",
            "_view_name": "StyleView",
            "bar_color": null,
            "description_width": ""
          }
        },
        "60382c4ca84c4ece8486f688e24d8435": {
          "model_module": "@jupyter-widgets/base",
          "model_name": "LayoutModel",
          "model_module_version": "1.2.0",
          "state": {
            "_model_module": "@jupyter-widgets/base",
            "_model_module_version": "1.2.0",
            "_model_name": "LayoutModel",
            "_view_count": null,
            "_view_module": "@jupyter-widgets/base",
            "_view_module_version": "1.2.0",
            "_view_name": "LayoutView",
            "align_content": null,
            "align_items": null,
            "align_self": null,
            "border": null,
            "bottom": null,
            "display": null,
            "flex": null,
            "flex_flow": null,
            "grid_area": null,
            "grid_auto_columns": null,
            "grid_auto_flow": null,
            "grid_auto_rows": null,
            "grid_column": null,
            "grid_gap": null,
            "grid_row": null,
            "grid_template_areas": null,
            "grid_template_columns": null,
            "grid_template_rows": null,
            "height": null,
            "justify_content": null,
            "justify_items": null,
            "left": null,
            "margin": null,
            "max_height": null,
            "max_width": null,
            "min_height": null,
            "min_width": null,
            "object_fit": null,
            "object_position": null,
            "order": null,
            "overflow": null,
            "overflow_x": null,
            "overflow_y": null,
            "padding": null,
            "right": null,
            "top": null,
            "visibility": null,
            "width": null
          }
        },
        "255a64989a8d4149b23bf74a7164541a": {
          "model_module": "@jupyter-widgets/controls",
          "model_name": "DescriptionStyleModel",
          "model_module_version": "1.5.0",
          "state": {
            "_model_module": "@jupyter-widgets/controls",
            "_model_module_version": "1.5.0",
            "_model_name": "DescriptionStyleModel",
            "_view_count": null,
            "_view_module": "@jupyter-widgets/base",
            "_view_module_version": "1.2.0",
            "_view_name": "StyleView",
            "description_width": ""
          }
        },
        "3dd9d87a0c6040cebcfcd3d49769bd35": {
          "model_module": "@jupyter-widgets/controls",
          "model_name": "HBoxModel",
          "model_module_version": "1.5.0",
          "state": {
            "_dom_classes": [],
            "_model_module": "@jupyter-widgets/controls",
            "_model_module_version": "1.5.0",
            "_model_name": "HBoxModel",
            "_view_count": null,
            "_view_module": "@jupyter-widgets/controls",
            "_view_module_version": "1.5.0",
            "_view_name": "HBoxView",
            "box_style": "",
            "children": [
              "IPY_MODEL_d31eab32bdc041c3a554b6232616b899",
              "IPY_MODEL_e9ca8e33891643e2a63ee1dc55b34dbf",
              "IPY_MODEL_3ee6313b59174b609d3484f0b2a9a7cb"
            ],
            "layout": "IPY_MODEL_0505682359fb44488f5d1c07ec37c49d"
          }
        },
        "d31eab32bdc041c3a554b6232616b899": {
          "model_module": "@jupyter-widgets/controls",
          "model_name": "HTMLModel",
          "model_module_version": "1.5.0",
          "state": {
            "_dom_classes": [],
            "_model_module": "@jupyter-widgets/controls",
            "_model_module_version": "1.5.0",
            "_model_name": "HTMLModel",
            "_view_count": null,
            "_view_module": "@jupyter-widgets/controls",
            "_view_module_version": "1.5.0",
            "_view_name": "HTMLView",
            "description": "",
            "description_tooltip": null,
            "layout": "IPY_MODEL_ce0649542a2243afbdc8b772de77733c",
            "placeholder": "​",
            "style": "IPY_MODEL_06784029c5f44c8a9bf2781ad08b9951",
            "value": "Downloading (…)/main/tokenizer.json: 100%"
          }
        },
        "e9ca8e33891643e2a63ee1dc55b34dbf": {
          "model_module": "@jupyter-widgets/controls",
          "model_name": "FloatProgressModel",
          "model_module_version": "1.5.0",
          "state": {
            "_dom_classes": [],
            "_model_module": "@jupyter-widgets/controls",
            "_model_module_version": "1.5.0",
            "_model_name": "FloatProgressModel",
            "_view_count": null,
            "_view_module": "@jupyter-widgets/controls",
            "_view_module_version": "1.5.0",
            "_view_name": "ProgressView",
            "bar_style": "success",
            "description": "",
            "description_tooltip": null,
            "layout": "IPY_MODEL_4bc6e061d5764ee8be7f9aa1265cd688",
            "max": 466062,
            "min": 0,
            "orientation": "horizontal",
            "style": "IPY_MODEL_2b19f60532254415b61ffb46ceed7721",
            "value": 466062
          }
        },
        "3ee6313b59174b609d3484f0b2a9a7cb": {
          "model_module": "@jupyter-widgets/controls",
          "model_name": "HTMLModel",
          "model_module_version": "1.5.0",
          "state": {
            "_dom_classes": [],
            "_model_module": "@jupyter-widgets/controls",
            "_model_module_version": "1.5.0",
            "_model_name": "HTMLModel",
            "_view_count": null,
            "_view_module": "@jupyter-widgets/controls",
            "_view_module_version": "1.5.0",
            "_view_name": "HTMLView",
            "description": "",
            "description_tooltip": null,
            "layout": "IPY_MODEL_72e217ee97c64d3eb91e834d147cc021",
            "placeholder": "​",
            "style": "IPY_MODEL_88cd7a96aada4b89911dac29737580d3",
            "value": " 466k/466k [00:00&lt;00:00, 14.3MB/s]"
          }
        },
        "0505682359fb44488f5d1c07ec37c49d": {
          "model_module": "@jupyter-widgets/base",
          "model_name": "LayoutModel",
          "model_module_version": "1.2.0",
          "state": {
            "_model_module": "@jupyter-widgets/base",
            "_model_module_version": "1.2.0",
            "_model_name": "LayoutModel",
            "_view_count": null,
            "_view_module": "@jupyter-widgets/base",
            "_view_module_version": "1.2.0",
            "_view_name": "LayoutView",
            "align_content": null,
            "align_items": null,
            "align_self": null,
            "border": null,
            "bottom": null,
            "display": null,
            "flex": null,
            "flex_flow": null,
            "grid_area": null,
            "grid_auto_columns": null,
            "grid_auto_flow": null,
            "grid_auto_rows": null,
            "grid_column": null,
            "grid_gap": null,
            "grid_row": null,
            "grid_template_areas": null,
            "grid_template_columns": null,
            "grid_template_rows": null,
            "height": null,
            "justify_content": null,
            "justify_items": null,
            "left": null,
            "margin": null,
            "max_height": null,
            "max_width": null,
            "min_height": null,
            "min_width": null,
            "object_fit": null,
            "object_position": null,
            "order": null,
            "overflow": null,
            "overflow_x": null,
            "overflow_y": null,
            "padding": null,
            "right": null,
            "top": null,
            "visibility": null,
            "width": null
          }
        },
        "ce0649542a2243afbdc8b772de77733c": {
          "model_module": "@jupyter-widgets/base",
          "model_name": "LayoutModel",
          "model_module_version": "1.2.0",
          "state": {
            "_model_module": "@jupyter-widgets/base",
            "_model_module_version": "1.2.0",
            "_model_name": "LayoutModel",
            "_view_count": null,
            "_view_module": "@jupyter-widgets/base",
            "_view_module_version": "1.2.0",
            "_view_name": "LayoutView",
            "align_content": null,
            "align_items": null,
            "align_self": null,
            "border": null,
            "bottom": null,
            "display": null,
            "flex": null,
            "flex_flow": null,
            "grid_area": null,
            "grid_auto_columns": null,
            "grid_auto_flow": null,
            "grid_auto_rows": null,
            "grid_column": null,
            "grid_gap": null,
            "grid_row": null,
            "grid_template_areas": null,
            "grid_template_columns": null,
            "grid_template_rows": null,
            "height": null,
            "justify_content": null,
            "justify_items": null,
            "left": null,
            "margin": null,
            "max_height": null,
            "max_width": null,
            "min_height": null,
            "min_width": null,
            "object_fit": null,
            "object_position": null,
            "order": null,
            "overflow": null,
            "overflow_x": null,
            "overflow_y": null,
            "padding": null,
            "right": null,
            "top": null,
            "visibility": null,
            "width": null
          }
        },
        "06784029c5f44c8a9bf2781ad08b9951": {
          "model_module": "@jupyter-widgets/controls",
          "model_name": "DescriptionStyleModel",
          "model_module_version": "1.5.0",
          "state": {
            "_model_module": "@jupyter-widgets/controls",
            "_model_module_version": "1.5.0",
            "_model_name": "DescriptionStyleModel",
            "_view_count": null,
            "_view_module": "@jupyter-widgets/base",
            "_view_module_version": "1.2.0",
            "_view_name": "StyleView",
            "description_width": ""
          }
        },
        "4bc6e061d5764ee8be7f9aa1265cd688": {
          "model_module": "@jupyter-widgets/base",
          "model_name": "LayoutModel",
          "model_module_version": "1.2.0",
          "state": {
            "_model_module": "@jupyter-widgets/base",
            "_model_module_version": "1.2.0",
            "_model_name": "LayoutModel",
            "_view_count": null,
            "_view_module": "@jupyter-widgets/base",
            "_view_module_version": "1.2.0",
            "_view_name": "LayoutView",
            "align_content": null,
            "align_items": null,
            "align_self": null,
            "border": null,
            "bottom": null,
            "display": null,
            "flex": null,
            "flex_flow": null,
            "grid_area": null,
            "grid_auto_columns": null,
            "grid_auto_flow": null,
            "grid_auto_rows": null,
            "grid_column": null,
            "grid_gap": null,
            "grid_row": null,
            "grid_template_areas": null,
            "grid_template_columns": null,
            "grid_template_rows": null,
            "height": null,
            "justify_content": null,
            "justify_items": null,
            "left": null,
            "margin": null,
            "max_height": null,
            "max_width": null,
            "min_height": null,
            "min_width": null,
            "object_fit": null,
            "object_position": null,
            "order": null,
            "overflow": null,
            "overflow_x": null,
            "overflow_y": null,
            "padding": null,
            "right": null,
            "top": null,
            "visibility": null,
            "width": null
          }
        },
        "2b19f60532254415b61ffb46ceed7721": {
          "model_module": "@jupyter-widgets/controls",
          "model_name": "ProgressStyleModel",
          "model_module_version": "1.5.0",
          "state": {
            "_model_module": "@jupyter-widgets/controls",
            "_model_module_version": "1.5.0",
            "_model_name": "ProgressStyleModel",
            "_view_count": null,
            "_view_module": "@jupyter-widgets/base",
            "_view_module_version": "1.2.0",
            "_view_name": "StyleView",
            "bar_color": null,
            "description_width": ""
          }
        },
        "72e217ee97c64d3eb91e834d147cc021": {
          "model_module": "@jupyter-widgets/base",
          "model_name": "LayoutModel",
          "model_module_version": "1.2.0",
          "state": {
            "_model_module": "@jupyter-widgets/base",
            "_model_module_version": "1.2.0",
            "_model_name": "LayoutModel",
            "_view_count": null,
            "_view_module": "@jupyter-widgets/base",
            "_view_module_version": "1.2.0",
            "_view_name": "LayoutView",
            "align_content": null,
            "align_items": null,
            "align_self": null,
            "border": null,
            "bottom": null,
            "display": null,
            "flex": null,
            "flex_flow": null,
            "grid_area": null,
            "grid_auto_columns": null,
            "grid_auto_flow": null,
            "grid_auto_rows": null,
            "grid_column": null,
            "grid_gap": null,
            "grid_row": null,
            "grid_template_areas": null,
            "grid_template_columns": null,
            "grid_template_rows": null,
            "height": null,
            "justify_content": null,
            "justify_items": null,
            "left": null,
            "margin": null,
            "max_height": null,
            "max_width": null,
            "min_height": null,
            "min_width": null,
            "object_fit": null,
            "object_position": null,
            "order": null,
            "overflow": null,
            "overflow_x": null,
            "overflow_y": null,
            "padding": null,
            "right": null,
            "top": null,
            "visibility": null,
            "width": null
          }
        },
        "88cd7a96aada4b89911dac29737580d3": {
          "model_module": "@jupyter-widgets/controls",
          "model_name": "DescriptionStyleModel",
          "model_module_version": "1.5.0",
          "state": {
            "_model_module": "@jupyter-widgets/controls",
            "_model_module_version": "1.5.0",
            "_model_name": "DescriptionStyleModel",
            "_view_count": null,
            "_view_module": "@jupyter-widgets/base",
            "_view_module_version": "1.2.0",
            "_view_name": "StyleView",
            "description_width": ""
          }
        },
        "f18f367db13e4464b85a050969c50cc4": {
          "model_module": "@jupyter-widgets/controls",
          "model_name": "HBoxModel",
          "model_module_version": "1.5.0",
          "state": {
            "_dom_classes": [],
            "_model_module": "@jupyter-widgets/controls",
            "_model_module_version": "1.5.0",
            "_model_name": "HBoxModel",
            "_view_count": null,
            "_view_module": "@jupyter-widgets/controls",
            "_view_module_version": "1.5.0",
            "_view_name": "HBoxView",
            "box_style": "",
            "children": [
              "IPY_MODEL_5bd6a4c1858d4862ab468c88025b7d12",
              "IPY_MODEL_f62f529bb58141d68d1dcad5d3fb1f55",
              "IPY_MODEL_d1f6e8baa767476482de68fd38a8c5ed"
            ],
            "layout": "IPY_MODEL_007296de08ed41269df1ee6ec9925164"
          }
        },
        "5bd6a4c1858d4862ab468c88025b7d12": {
          "model_module": "@jupyter-widgets/controls",
          "model_name": "HTMLModel",
          "model_module_version": "1.5.0",
          "state": {
            "_dom_classes": [],
            "_model_module": "@jupyter-widgets/controls",
            "_model_module_version": "1.5.0",
            "_model_name": "HTMLModel",
            "_view_count": null,
            "_view_module": "@jupyter-widgets/controls",
            "_view_module_version": "1.5.0",
            "_view_name": "HTMLView",
            "description": "",
            "description_tooltip": null,
            "layout": "IPY_MODEL_bdd678c54c3c4f3d9d65d48d3cb5dd7e",
            "placeholder": "​",
            "style": "IPY_MODEL_0572b05da1a1425084fc143029842c42",
            "value": "Downloading (…)lve/main/config.json: 100%"
          }
        },
        "f62f529bb58141d68d1dcad5d3fb1f55": {
          "model_module": "@jupyter-widgets/controls",
          "model_name": "FloatProgressModel",
          "model_module_version": "1.5.0",
          "state": {
            "_dom_classes": [],
            "_model_module": "@jupyter-widgets/controls",
            "_model_module_version": "1.5.0",
            "_model_name": "FloatProgressModel",
            "_view_count": null,
            "_view_module": "@jupyter-widgets/controls",
            "_view_module_version": "1.5.0",
            "_view_name": "ProgressView",
            "bar_style": "success",
            "description": "",
            "description_tooltip": null,
            "layout": "IPY_MODEL_99e0869c643b46d6ac86fd4b439930bd",
            "max": 483,
            "min": 0,
            "orientation": "horizontal",
            "style": "IPY_MODEL_c305c2b0ba5f4294a8df19580ac57d7f",
            "value": 483
          }
        },
        "d1f6e8baa767476482de68fd38a8c5ed": {
          "model_module": "@jupyter-widgets/controls",
          "model_name": "HTMLModel",
          "model_module_version": "1.5.0",
          "state": {
            "_dom_classes": [],
            "_model_module": "@jupyter-widgets/controls",
            "_model_module_version": "1.5.0",
            "_model_name": "HTMLModel",
            "_view_count": null,
            "_view_module": "@jupyter-widgets/controls",
            "_view_module_version": "1.5.0",
            "_view_name": "HTMLView",
            "description": "",
            "description_tooltip": null,
            "layout": "IPY_MODEL_08f27ea9120347dca01c617659845025",
            "placeholder": "​",
            "style": "IPY_MODEL_a7751fad12334fde9392c307f6046592",
            "value": " 483/483 [00:00&lt;00:00, 14.2kB/s]"
          }
        },
        "007296de08ed41269df1ee6ec9925164": {
          "model_module": "@jupyter-widgets/base",
          "model_name": "LayoutModel",
          "model_module_version": "1.2.0",
          "state": {
            "_model_module": "@jupyter-widgets/base",
            "_model_module_version": "1.2.0",
            "_model_name": "LayoutModel",
            "_view_count": null,
            "_view_module": "@jupyter-widgets/base",
            "_view_module_version": "1.2.0",
            "_view_name": "LayoutView",
            "align_content": null,
            "align_items": null,
            "align_self": null,
            "border": null,
            "bottom": null,
            "display": null,
            "flex": null,
            "flex_flow": null,
            "grid_area": null,
            "grid_auto_columns": null,
            "grid_auto_flow": null,
            "grid_auto_rows": null,
            "grid_column": null,
            "grid_gap": null,
            "grid_row": null,
            "grid_template_areas": null,
            "grid_template_columns": null,
            "grid_template_rows": null,
            "height": null,
            "justify_content": null,
            "justify_items": null,
            "left": null,
            "margin": null,
            "max_height": null,
            "max_width": null,
            "min_height": null,
            "min_width": null,
            "object_fit": null,
            "object_position": null,
            "order": null,
            "overflow": null,
            "overflow_x": null,
            "overflow_y": null,
            "padding": null,
            "right": null,
            "top": null,
            "visibility": null,
            "width": null
          }
        },
        "bdd678c54c3c4f3d9d65d48d3cb5dd7e": {
          "model_module": "@jupyter-widgets/base",
          "model_name": "LayoutModel",
          "model_module_version": "1.2.0",
          "state": {
            "_model_module": "@jupyter-widgets/base",
            "_model_module_version": "1.2.0",
            "_model_name": "LayoutModel",
            "_view_count": null,
            "_view_module": "@jupyter-widgets/base",
            "_view_module_version": "1.2.0",
            "_view_name": "LayoutView",
            "align_content": null,
            "align_items": null,
            "align_self": null,
            "border": null,
            "bottom": null,
            "display": null,
            "flex": null,
            "flex_flow": null,
            "grid_area": null,
            "grid_auto_columns": null,
            "grid_auto_flow": null,
            "grid_auto_rows": null,
            "grid_column": null,
            "grid_gap": null,
            "grid_row": null,
            "grid_template_areas": null,
            "grid_template_columns": null,
            "grid_template_rows": null,
            "height": null,
            "justify_content": null,
            "justify_items": null,
            "left": null,
            "margin": null,
            "max_height": null,
            "max_width": null,
            "min_height": null,
            "min_width": null,
            "object_fit": null,
            "object_position": null,
            "order": null,
            "overflow": null,
            "overflow_x": null,
            "overflow_y": null,
            "padding": null,
            "right": null,
            "top": null,
            "visibility": null,
            "width": null
          }
        },
        "0572b05da1a1425084fc143029842c42": {
          "model_module": "@jupyter-widgets/controls",
          "model_name": "DescriptionStyleModel",
          "model_module_version": "1.5.0",
          "state": {
            "_model_module": "@jupyter-widgets/controls",
            "_model_module_version": "1.5.0",
            "_model_name": "DescriptionStyleModel",
            "_view_count": null,
            "_view_module": "@jupyter-widgets/base",
            "_view_module_version": "1.2.0",
            "_view_name": "StyleView",
            "description_width": ""
          }
        },
        "99e0869c643b46d6ac86fd4b439930bd": {
          "model_module": "@jupyter-widgets/base",
          "model_name": "LayoutModel",
          "model_module_version": "1.2.0",
          "state": {
            "_model_module": "@jupyter-widgets/base",
            "_model_module_version": "1.2.0",
            "_model_name": "LayoutModel",
            "_view_count": null,
            "_view_module": "@jupyter-widgets/base",
            "_view_module_version": "1.2.0",
            "_view_name": "LayoutView",
            "align_content": null,
            "align_items": null,
            "align_self": null,
            "border": null,
            "bottom": null,
            "display": null,
            "flex": null,
            "flex_flow": null,
            "grid_area": null,
            "grid_auto_columns": null,
            "grid_auto_flow": null,
            "grid_auto_rows": null,
            "grid_column": null,
            "grid_gap": null,
            "grid_row": null,
            "grid_template_areas": null,
            "grid_template_columns": null,
            "grid_template_rows": null,
            "height": null,
            "justify_content": null,
            "justify_items": null,
            "left": null,
            "margin": null,
            "max_height": null,
            "max_width": null,
            "min_height": null,
            "min_width": null,
            "object_fit": null,
            "object_position": null,
            "order": null,
            "overflow": null,
            "overflow_x": null,
            "overflow_y": null,
            "padding": null,
            "right": null,
            "top": null,
            "visibility": null,
            "width": null
          }
        },
        "c305c2b0ba5f4294a8df19580ac57d7f": {
          "model_module": "@jupyter-widgets/controls",
          "model_name": "ProgressStyleModel",
          "model_module_version": "1.5.0",
          "state": {
            "_model_module": "@jupyter-widgets/controls",
            "_model_module_version": "1.5.0",
            "_model_name": "ProgressStyleModel",
            "_view_count": null,
            "_view_module": "@jupyter-widgets/base",
            "_view_module_version": "1.2.0",
            "_view_name": "StyleView",
            "bar_color": null,
            "description_width": ""
          }
        },
        "08f27ea9120347dca01c617659845025": {
          "model_module": "@jupyter-widgets/base",
          "model_name": "LayoutModel",
          "model_module_version": "1.2.0",
          "state": {
            "_model_module": "@jupyter-widgets/base",
            "_model_module_version": "1.2.0",
            "_model_name": "LayoutModel",
            "_view_count": null,
            "_view_module": "@jupyter-widgets/base",
            "_view_module_version": "1.2.0",
            "_view_name": "LayoutView",
            "align_content": null,
            "align_items": null,
            "align_self": null,
            "border": null,
            "bottom": null,
            "display": null,
            "flex": null,
            "flex_flow": null,
            "grid_area": null,
            "grid_auto_columns": null,
            "grid_auto_flow": null,
            "grid_auto_rows": null,
            "grid_column": null,
            "grid_gap": null,
            "grid_row": null,
            "grid_template_areas": null,
            "grid_template_columns": null,
            "grid_template_rows": null,
            "height": null,
            "justify_content": null,
            "justify_items": null,
            "left": null,
            "margin": null,
            "max_height": null,
            "max_width": null,
            "min_height": null,
            "min_width": null,
            "object_fit": null,
            "object_position": null,
            "order": null,
            "overflow": null,
            "overflow_x": null,
            "overflow_y": null,
            "padding": null,
            "right": null,
            "top": null,
            "visibility": null,
            "width": null
          }
        },
        "a7751fad12334fde9392c307f6046592": {
          "model_module": "@jupyter-widgets/controls",
          "model_name": "DescriptionStyleModel",
          "model_module_version": "1.5.0",
          "state": {
            "_model_module": "@jupyter-widgets/controls",
            "_model_module_version": "1.5.0",
            "_model_name": "DescriptionStyleModel",
            "_view_count": null,
            "_view_module": "@jupyter-widgets/base",
            "_view_module_version": "1.2.0",
            "_view_name": "StyleView",
            "description_width": ""
          }
        },
        "7bf8eb2555c3424cb4cac5554dc9b786": {
          "model_module": "@jupyter-widgets/controls",
          "model_name": "HBoxModel",
          "model_module_version": "1.5.0",
          "state": {
            "_dom_classes": [],
            "_model_module": "@jupyter-widgets/controls",
            "_model_module_version": "1.5.0",
            "_model_name": "HBoxModel",
            "_view_count": null,
            "_view_module": "@jupyter-widgets/controls",
            "_view_module_version": "1.5.0",
            "_view_name": "HBoxView",
            "box_style": "",
            "children": [
              "IPY_MODEL_59b1f0982e42407298bb90efe3428aef",
              "IPY_MODEL_5fb8620382634324b8bfa09790e43971",
              "IPY_MODEL_7e40286cb23c46cb847c3c7c89064d43"
            ],
            "layout": "IPY_MODEL_4818a630f2e34301be41a18c8a11af02"
          }
        },
        "59b1f0982e42407298bb90efe3428aef": {
          "model_module": "@jupyter-widgets/controls",
          "model_name": "HTMLModel",
          "model_module_version": "1.5.0",
          "state": {
            "_dom_classes": [],
            "_model_module": "@jupyter-widgets/controls",
            "_model_module_version": "1.5.0",
            "_model_name": "HTMLModel",
            "_view_count": null,
            "_view_module": "@jupyter-widgets/controls",
            "_view_module_version": "1.5.0",
            "_view_name": "HTMLView",
            "description": "",
            "description_tooltip": null,
            "layout": "IPY_MODEL_600389884ffb4b988b88a9cce4498342",
            "placeholder": "​",
            "style": "IPY_MODEL_afc140178c89442c998e31a517aea859",
            "value": "Downloading tf_model.h5: 100%"
          }
        },
        "5fb8620382634324b8bfa09790e43971": {
          "model_module": "@jupyter-widgets/controls",
          "model_name": "FloatProgressModel",
          "model_module_version": "1.5.0",
          "state": {
            "_dom_classes": [],
            "_model_module": "@jupyter-widgets/controls",
            "_model_module_version": "1.5.0",
            "_model_name": "FloatProgressModel",
            "_view_count": null,
            "_view_module": "@jupyter-widgets/controls",
            "_view_module_version": "1.5.0",
            "_view_name": "ProgressView",
            "bar_style": "success",
            "description": "",
            "description_tooltip": null,
            "layout": "IPY_MODEL_fc315d07ca1b41ba9849bccede154b94",
            "max": 363423424,
            "min": 0,
            "orientation": "horizontal",
            "style": "IPY_MODEL_565d8bee7ade40d08267800f2e081511",
            "value": 363423424
          }
        },
        "7e40286cb23c46cb847c3c7c89064d43": {
          "model_module": "@jupyter-widgets/controls",
          "model_name": "HTMLModel",
          "model_module_version": "1.5.0",
          "state": {
            "_dom_classes": [],
            "_model_module": "@jupyter-widgets/controls",
            "_model_module_version": "1.5.0",
            "_model_name": "HTMLModel",
            "_view_count": null,
            "_view_module": "@jupyter-widgets/controls",
            "_view_module_version": "1.5.0",
            "_view_name": "HTMLView",
            "description": "",
            "description_tooltip": null,
            "layout": "IPY_MODEL_56d1ac72532a4abe8e27f90629a704b5",
            "placeholder": "​",
            "style": "IPY_MODEL_9077e1ddb4fe4710aff7f9fad561ba2b",
            "value": " 363M/363M [00:01&lt;00:00, 240MB/s]"
          }
        },
        "4818a630f2e34301be41a18c8a11af02": {
          "model_module": "@jupyter-widgets/base",
          "model_name": "LayoutModel",
          "model_module_version": "1.2.0",
          "state": {
            "_model_module": "@jupyter-widgets/base",
            "_model_module_version": "1.2.0",
            "_model_name": "LayoutModel",
            "_view_count": null,
            "_view_module": "@jupyter-widgets/base",
            "_view_module_version": "1.2.0",
            "_view_name": "LayoutView",
            "align_content": null,
            "align_items": null,
            "align_self": null,
            "border": null,
            "bottom": null,
            "display": null,
            "flex": null,
            "flex_flow": null,
            "grid_area": null,
            "grid_auto_columns": null,
            "grid_auto_flow": null,
            "grid_auto_rows": null,
            "grid_column": null,
            "grid_gap": null,
            "grid_row": null,
            "grid_template_areas": null,
            "grid_template_columns": null,
            "grid_template_rows": null,
            "height": null,
            "justify_content": null,
            "justify_items": null,
            "left": null,
            "margin": null,
            "max_height": null,
            "max_width": null,
            "min_height": null,
            "min_width": null,
            "object_fit": null,
            "object_position": null,
            "order": null,
            "overflow": null,
            "overflow_x": null,
            "overflow_y": null,
            "padding": null,
            "right": null,
            "top": null,
            "visibility": null,
            "width": null
          }
        },
        "600389884ffb4b988b88a9cce4498342": {
          "model_module": "@jupyter-widgets/base",
          "model_name": "LayoutModel",
          "model_module_version": "1.2.0",
          "state": {
            "_model_module": "@jupyter-widgets/base",
            "_model_module_version": "1.2.0",
            "_model_name": "LayoutModel",
            "_view_count": null,
            "_view_module": "@jupyter-widgets/base",
            "_view_module_version": "1.2.0",
            "_view_name": "LayoutView",
            "align_content": null,
            "align_items": null,
            "align_self": null,
            "border": null,
            "bottom": null,
            "display": null,
            "flex": null,
            "flex_flow": null,
            "grid_area": null,
            "grid_auto_columns": null,
            "grid_auto_flow": null,
            "grid_auto_rows": null,
            "grid_column": null,
            "grid_gap": null,
            "grid_row": null,
            "grid_template_areas": null,
            "grid_template_columns": null,
            "grid_template_rows": null,
            "height": null,
            "justify_content": null,
            "justify_items": null,
            "left": null,
            "margin": null,
            "max_height": null,
            "max_width": null,
            "min_height": null,
            "min_width": null,
            "object_fit": null,
            "object_position": null,
            "order": null,
            "overflow": null,
            "overflow_x": null,
            "overflow_y": null,
            "padding": null,
            "right": null,
            "top": null,
            "visibility": null,
            "width": null
          }
        },
        "afc140178c89442c998e31a517aea859": {
          "model_module": "@jupyter-widgets/controls",
          "model_name": "DescriptionStyleModel",
          "model_module_version": "1.5.0",
          "state": {
            "_model_module": "@jupyter-widgets/controls",
            "_model_module_version": "1.5.0",
            "_model_name": "DescriptionStyleModel",
            "_view_count": null,
            "_view_module": "@jupyter-widgets/base",
            "_view_module_version": "1.2.0",
            "_view_name": "StyleView",
            "description_width": ""
          }
        },
        "fc315d07ca1b41ba9849bccede154b94": {
          "model_module": "@jupyter-widgets/base",
          "model_name": "LayoutModel",
          "model_module_version": "1.2.0",
          "state": {
            "_model_module": "@jupyter-widgets/base",
            "_model_module_version": "1.2.0",
            "_model_name": "LayoutModel",
            "_view_count": null,
            "_view_module": "@jupyter-widgets/base",
            "_view_module_version": "1.2.0",
            "_view_name": "LayoutView",
            "align_content": null,
            "align_items": null,
            "align_self": null,
            "border": null,
            "bottom": null,
            "display": null,
            "flex": null,
            "flex_flow": null,
            "grid_area": null,
            "grid_auto_columns": null,
            "grid_auto_flow": null,
            "grid_auto_rows": null,
            "grid_column": null,
            "grid_gap": null,
            "grid_row": null,
            "grid_template_areas": null,
            "grid_template_columns": null,
            "grid_template_rows": null,
            "height": null,
            "justify_content": null,
            "justify_items": null,
            "left": null,
            "margin": null,
            "max_height": null,
            "max_width": null,
            "min_height": null,
            "min_width": null,
            "object_fit": null,
            "object_position": null,
            "order": null,
            "overflow": null,
            "overflow_x": null,
            "overflow_y": null,
            "padding": null,
            "right": null,
            "top": null,
            "visibility": null,
            "width": null
          }
        },
        "565d8bee7ade40d08267800f2e081511": {
          "model_module": "@jupyter-widgets/controls",
          "model_name": "ProgressStyleModel",
          "model_module_version": "1.5.0",
          "state": {
            "_model_module": "@jupyter-widgets/controls",
            "_model_module_version": "1.5.0",
            "_model_name": "ProgressStyleModel",
            "_view_count": null,
            "_view_module": "@jupyter-widgets/base",
            "_view_module_version": "1.2.0",
            "_view_name": "StyleView",
            "bar_color": null,
            "description_width": ""
          }
        },
        "56d1ac72532a4abe8e27f90629a704b5": {
          "model_module": "@jupyter-widgets/base",
          "model_name": "LayoutModel",
          "model_module_version": "1.2.0",
          "state": {
            "_model_module": "@jupyter-widgets/base",
            "_model_module_version": "1.2.0",
            "_model_name": "LayoutModel",
            "_view_count": null,
            "_view_module": "@jupyter-widgets/base",
            "_view_module_version": "1.2.0",
            "_view_name": "LayoutView",
            "align_content": null,
            "align_items": null,
            "align_self": null,
            "border": null,
            "bottom": null,
            "display": null,
            "flex": null,
            "flex_flow": null,
            "grid_area": null,
            "grid_auto_columns": null,
            "grid_auto_flow": null,
            "grid_auto_rows": null,
            "grid_column": null,
            "grid_gap": null,
            "grid_row": null,
            "grid_template_areas": null,
            "grid_template_columns": null,
            "grid_template_rows": null,
            "height": null,
            "justify_content": null,
            "justify_items": null,
            "left": null,
            "margin": null,
            "max_height": null,
            "max_width": null,
            "min_height": null,
            "min_width": null,
            "object_fit": null,
            "object_position": null,
            "order": null,
            "overflow": null,
            "overflow_x": null,
            "overflow_y": null,
            "padding": null,
            "right": null,
            "top": null,
            "visibility": null,
            "width": null
          }
        },
        "9077e1ddb4fe4710aff7f9fad561ba2b": {
          "model_module": "@jupyter-widgets/controls",
          "model_name": "DescriptionStyleModel",
          "model_module_version": "1.5.0",
          "state": {
            "_model_module": "@jupyter-widgets/controls",
            "_model_module_version": "1.5.0",
            "_model_name": "DescriptionStyleModel",
            "_view_count": null,
            "_view_module": "@jupyter-widgets/base",
            "_view_module_version": "1.2.0",
            "_view_name": "StyleView",
            "description_width": ""
          }
        },
        "40ed58622b2c4d2188157ff5d7441f3a": {
          "model_module": "@jupyter-widgets/controls",
          "model_name": "HBoxModel",
          "model_module_version": "1.5.0",
          "state": {
            "_dom_classes": [],
            "_model_module": "@jupyter-widgets/controls",
            "_model_module_version": "1.5.0",
            "_model_name": "HBoxModel",
            "_view_count": null,
            "_view_module": "@jupyter-widgets/controls",
            "_view_module_version": "1.5.0",
            "_view_name": "HBoxView",
            "box_style": "",
            "children": [
              "IPY_MODEL_c6bacadca87e4bf7864733ce2c0e682e",
              "IPY_MODEL_49fe30c5159d46bfa1f38fe083e39e6e",
              "IPY_MODEL_4f900bc51b5247ab85a35752733333c1"
            ],
            "layout": "IPY_MODEL_3cf9aa6424ef44dd88eaa11d4111b633"
          }
        },
        "c6bacadca87e4bf7864733ce2c0e682e": {
          "model_module": "@jupyter-widgets/controls",
          "model_name": "HTMLModel",
          "model_module_version": "1.5.0",
          "state": {
            "_dom_classes": [],
            "_model_module": "@jupyter-widgets/controls",
            "_model_module_version": "1.5.0",
            "_model_name": "HTMLModel",
            "_view_count": null,
            "_view_module": "@jupyter-widgets/controls",
            "_view_module_version": "1.5.0",
            "_view_name": "HTMLView",
            "description": "",
            "description_tooltip": null,
            "layout": "IPY_MODEL_f127751ab1ae4dd39fdfd381b7fce941",
            "placeholder": "​",
            "style": "IPY_MODEL_051374bbfed64667ba2559467c2e20eb",
            "value": "Map: 100%"
          }
        },
        "49fe30c5159d46bfa1f38fe083e39e6e": {
          "model_module": "@jupyter-widgets/controls",
          "model_name": "FloatProgressModel",
          "model_module_version": "1.5.0",
          "state": {
            "_dom_classes": [],
            "_model_module": "@jupyter-widgets/controls",
            "_model_module_version": "1.5.0",
            "_model_name": "FloatProgressModel",
            "_view_count": null,
            "_view_module": "@jupyter-widgets/controls",
            "_view_module_version": "1.5.0",
            "_view_name": "ProgressView",
            "bar_style": "",
            "description": "",
            "description_tooltip": null,
            "layout": "IPY_MODEL_981f4891e6344acda834366454fc8e79",
            "max": 1000,
            "min": 0,
            "orientation": "horizontal",
            "style": "IPY_MODEL_0fadfd3b1baa456c83e13b5f5de66731",
            "value": 1000
          }
        },
        "4f900bc51b5247ab85a35752733333c1": {
          "model_module": "@jupyter-widgets/controls",
          "model_name": "HTMLModel",
          "model_module_version": "1.5.0",
          "state": {
            "_dom_classes": [],
            "_model_module": "@jupyter-widgets/controls",
            "_model_module_version": "1.5.0",
            "_model_name": "HTMLModel",
            "_view_count": null,
            "_view_module": "@jupyter-widgets/controls",
            "_view_module_version": "1.5.0",
            "_view_name": "HTMLView",
            "description": "",
            "description_tooltip": null,
            "layout": "IPY_MODEL_f84ac2a3754c4b73a806b15c0469549a",
            "placeholder": "​",
            "style": "IPY_MODEL_f9b838a9389049da9d11fc300d57053b",
            "value": " 1000/1000 [00:00&lt;00:00, 3271.24 examples/s]"
          }
        },
        "3cf9aa6424ef44dd88eaa11d4111b633": {
          "model_module": "@jupyter-widgets/base",
          "model_name": "LayoutModel",
          "model_module_version": "1.2.0",
          "state": {
            "_model_module": "@jupyter-widgets/base",
            "_model_module_version": "1.2.0",
            "_model_name": "LayoutModel",
            "_view_count": null,
            "_view_module": "@jupyter-widgets/base",
            "_view_module_version": "1.2.0",
            "_view_name": "LayoutView",
            "align_content": null,
            "align_items": null,
            "align_self": null,
            "border": null,
            "bottom": null,
            "display": null,
            "flex": null,
            "flex_flow": null,
            "grid_area": null,
            "grid_auto_columns": null,
            "grid_auto_flow": null,
            "grid_auto_rows": null,
            "grid_column": null,
            "grid_gap": null,
            "grid_row": null,
            "grid_template_areas": null,
            "grid_template_columns": null,
            "grid_template_rows": null,
            "height": null,
            "justify_content": null,
            "justify_items": null,
            "left": null,
            "margin": null,
            "max_height": null,
            "max_width": null,
            "min_height": null,
            "min_width": null,
            "object_fit": null,
            "object_position": null,
            "order": null,
            "overflow": null,
            "overflow_x": null,
            "overflow_y": null,
            "padding": null,
            "right": null,
            "top": null,
            "visibility": "hidden",
            "width": null
          }
        },
        "f127751ab1ae4dd39fdfd381b7fce941": {
          "model_module": "@jupyter-widgets/base",
          "model_name": "LayoutModel",
          "model_module_version": "1.2.0",
          "state": {
            "_model_module": "@jupyter-widgets/base",
            "_model_module_version": "1.2.0",
            "_model_name": "LayoutModel",
            "_view_count": null,
            "_view_module": "@jupyter-widgets/base",
            "_view_module_version": "1.2.0",
            "_view_name": "LayoutView",
            "align_content": null,
            "align_items": null,
            "align_self": null,
            "border": null,
            "bottom": null,
            "display": null,
            "flex": null,
            "flex_flow": null,
            "grid_area": null,
            "grid_auto_columns": null,
            "grid_auto_flow": null,
            "grid_auto_rows": null,
            "grid_column": null,
            "grid_gap": null,
            "grid_row": null,
            "grid_template_areas": null,
            "grid_template_columns": null,
            "grid_template_rows": null,
            "height": null,
            "justify_content": null,
            "justify_items": null,
            "left": null,
            "margin": null,
            "max_height": null,
            "max_width": null,
            "min_height": null,
            "min_width": null,
            "object_fit": null,
            "object_position": null,
            "order": null,
            "overflow": null,
            "overflow_x": null,
            "overflow_y": null,
            "padding": null,
            "right": null,
            "top": null,
            "visibility": null,
            "width": null
          }
        },
        "051374bbfed64667ba2559467c2e20eb": {
          "model_module": "@jupyter-widgets/controls",
          "model_name": "DescriptionStyleModel",
          "model_module_version": "1.5.0",
          "state": {
            "_model_module": "@jupyter-widgets/controls",
            "_model_module_version": "1.5.0",
            "_model_name": "DescriptionStyleModel",
            "_view_count": null,
            "_view_module": "@jupyter-widgets/base",
            "_view_module_version": "1.2.0",
            "_view_name": "StyleView",
            "description_width": ""
          }
        },
        "981f4891e6344acda834366454fc8e79": {
          "model_module": "@jupyter-widgets/base",
          "model_name": "LayoutModel",
          "model_module_version": "1.2.0",
          "state": {
            "_model_module": "@jupyter-widgets/base",
            "_model_module_version": "1.2.0",
            "_model_name": "LayoutModel",
            "_view_count": null,
            "_view_module": "@jupyter-widgets/base",
            "_view_module_version": "1.2.0",
            "_view_name": "LayoutView",
            "align_content": null,
            "align_items": null,
            "align_self": null,
            "border": null,
            "bottom": null,
            "display": null,
            "flex": null,
            "flex_flow": null,
            "grid_area": null,
            "grid_auto_columns": null,
            "grid_auto_flow": null,
            "grid_auto_rows": null,
            "grid_column": null,
            "grid_gap": null,
            "grid_row": null,
            "grid_template_areas": null,
            "grid_template_columns": null,
            "grid_template_rows": null,
            "height": null,
            "justify_content": null,
            "justify_items": null,
            "left": null,
            "margin": null,
            "max_height": null,
            "max_width": null,
            "min_height": null,
            "min_width": null,
            "object_fit": null,
            "object_position": null,
            "order": null,
            "overflow": null,
            "overflow_x": null,
            "overflow_y": null,
            "padding": null,
            "right": null,
            "top": null,
            "visibility": null,
            "width": null
          }
        },
        "0fadfd3b1baa456c83e13b5f5de66731": {
          "model_module": "@jupyter-widgets/controls",
          "model_name": "ProgressStyleModel",
          "model_module_version": "1.5.0",
          "state": {
            "_model_module": "@jupyter-widgets/controls",
            "_model_module_version": "1.5.0",
            "_model_name": "ProgressStyleModel",
            "_view_count": null,
            "_view_module": "@jupyter-widgets/base",
            "_view_module_version": "1.2.0",
            "_view_name": "StyleView",
            "bar_color": null,
            "description_width": ""
          }
        },
        "f84ac2a3754c4b73a806b15c0469549a": {
          "model_module": "@jupyter-widgets/base",
          "model_name": "LayoutModel",
          "model_module_version": "1.2.0",
          "state": {
            "_model_module": "@jupyter-widgets/base",
            "_model_module_version": "1.2.0",
            "_model_name": "LayoutModel",
            "_view_count": null,
            "_view_module": "@jupyter-widgets/base",
            "_view_module_version": "1.2.0",
            "_view_name": "LayoutView",
            "align_content": null,
            "align_items": null,
            "align_self": null,
            "border": null,
            "bottom": null,
            "display": null,
            "flex": null,
            "flex_flow": null,
            "grid_area": null,
            "grid_auto_columns": null,
            "grid_auto_flow": null,
            "grid_auto_rows": null,
            "grid_column": null,
            "grid_gap": null,
            "grid_row": null,
            "grid_template_areas": null,
            "grid_template_columns": null,
            "grid_template_rows": null,
            "height": null,
            "justify_content": null,
            "justify_items": null,
            "left": null,
            "margin": null,
            "max_height": null,
            "max_width": null,
            "min_height": null,
            "min_width": null,
            "object_fit": null,
            "object_position": null,
            "order": null,
            "overflow": null,
            "overflow_x": null,
            "overflow_y": null,
            "padding": null,
            "right": null,
            "top": null,
            "visibility": null,
            "width": null
          }
        },
        "f9b838a9389049da9d11fc300d57053b": {
          "model_module": "@jupyter-widgets/controls",
          "model_name": "DescriptionStyleModel",
          "model_module_version": "1.5.0",
          "state": {
            "_model_module": "@jupyter-widgets/controls",
            "_model_module_version": "1.5.0",
            "_model_name": "DescriptionStyleModel",
            "_view_count": null,
            "_view_module": "@jupyter-widgets/base",
            "_view_module_version": "1.2.0",
            "_view_name": "StyleView",
            "description_width": ""
          }
        },
        "e795ab25240541b4ae5f7c727942adc0": {
          "model_module": "@jupyter-widgets/controls",
          "model_name": "HBoxModel",
          "model_module_version": "1.5.0",
          "state": {
            "_dom_classes": [],
            "_model_module": "@jupyter-widgets/controls",
            "_model_module_version": "1.5.0",
            "_model_name": "HBoxModel",
            "_view_count": null,
            "_view_module": "@jupyter-widgets/controls",
            "_view_module_version": "1.5.0",
            "_view_name": "HBoxView",
            "box_style": "",
            "children": [
              "IPY_MODEL_711feb42fe50450b8d131d2e47b7d829",
              "IPY_MODEL_0f1e724e2e5f4ab78d58acffc6700707",
              "IPY_MODEL_e07e705b80c446febb61ae993889ddd9"
            ],
            "layout": "IPY_MODEL_a79ca23cd4db459b85568eea1570c956"
          }
        },
        "711feb42fe50450b8d131d2e47b7d829": {
          "model_module": "@jupyter-widgets/controls",
          "model_name": "HTMLModel",
          "model_module_version": "1.5.0",
          "state": {
            "_dom_classes": [],
            "_model_module": "@jupyter-widgets/controls",
            "_model_module_version": "1.5.0",
            "_model_name": "HTMLModel",
            "_view_count": null,
            "_view_module": "@jupyter-widgets/controls",
            "_view_module_version": "1.5.0",
            "_view_name": "HTMLView",
            "description": "",
            "description_tooltip": null,
            "layout": "IPY_MODEL_06e569cc260149baa5665c8e01bfaa57",
            "placeholder": "​",
            "style": "IPY_MODEL_e0f69c6d9d614a8fa5b69782ad15056b",
            "value": "Map: 100%"
          }
        },
        "0f1e724e2e5f4ab78d58acffc6700707": {
          "model_module": "@jupyter-widgets/controls",
          "model_name": "FloatProgressModel",
          "model_module_version": "1.5.0",
          "state": {
            "_dom_classes": [],
            "_model_module": "@jupyter-widgets/controls",
            "_model_module_version": "1.5.0",
            "_model_name": "FloatProgressModel",
            "_view_count": null,
            "_view_module": "@jupyter-widgets/controls",
            "_view_module_version": "1.5.0",
            "_view_name": "ProgressView",
            "bar_style": "",
            "description": "",
            "description_tooltip": null,
            "layout": "IPY_MODEL_b77cee7014c84a949956ed62cb39db0b",
            "max": 200,
            "min": 0,
            "orientation": "horizontal",
            "style": "IPY_MODEL_60447be2bf97403ebf20e77adadca366",
            "value": 200
          }
        },
        "e07e705b80c446febb61ae993889ddd9": {
          "model_module": "@jupyter-widgets/controls",
          "model_name": "HTMLModel",
          "model_module_version": "1.5.0",
          "state": {
            "_dom_classes": [],
            "_model_module": "@jupyter-widgets/controls",
            "_model_module_version": "1.5.0",
            "_model_name": "HTMLModel",
            "_view_count": null,
            "_view_module": "@jupyter-widgets/controls",
            "_view_module_version": "1.5.0",
            "_view_name": "HTMLView",
            "description": "",
            "description_tooltip": null,
            "layout": "IPY_MODEL_a2e438ce15794348937efe7e69dd98fd",
            "placeholder": "​",
            "style": "IPY_MODEL_f1e779d05bea4a5fbcdb79af1465f0f3",
            "value": " 200/200 [00:00&lt;00:00, 1399.10 examples/s]"
          }
        },
        "a79ca23cd4db459b85568eea1570c956": {
          "model_module": "@jupyter-widgets/base",
          "model_name": "LayoutModel",
          "model_module_version": "1.2.0",
          "state": {
            "_model_module": "@jupyter-widgets/base",
            "_model_module_version": "1.2.0",
            "_model_name": "LayoutModel",
            "_view_count": null,
            "_view_module": "@jupyter-widgets/base",
            "_view_module_version": "1.2.0",
            "_view_name": "LayoutView",
            "align_content": null,
            "align_items": null,
            "align_self": null,
            "border": null,
            "bottom": null,
            "display": null,
            "flex": null,
            "flex_flow": null,
            "grid_area": null,
            "grid_auto_columns": null,
            "grid_auto_flow": null,
            "grid_auto_rows": null,
            "grid_column": null,
            "grid_gap": null,
            "grid_row": null,
            "grid_template_areas": null,
            "grid_template_columns": null,
            "grid_template_rows": null,
            "height": null,
            "justify_content": null,
            "justify_items": null,
            "left": null,
            "margin": null,
            "max_height": null,
            "max_width": null,
            "min_height": null,
            "min_width": null,
            "object_fit": null,
            "object_position": null,
            "order": null,
            "overflow": null,
            "overflow_x": null,
            "overflow_y": null,
            "padding": null,
            "right": null,
            "top": null,
            "visibility": "hidden",
            "width": null
          }
        },
        "06e569cc260149baa5665c8e01bfaa57": {
          "model_module": "@jupyter-widgets/base",
          "model_name": "LayoutModel",
          "model_module_version": "1.2.0",
          "state": {
            "_model_module": "@jupyter-widgets/base",
            "_model_module_version": "1.2.0",
            "_model_name": "LayoutModel",
            "_view_count": null,
            "_view_module": "@jupyter-widgets/base",
            "_view_module_version": "1.2.0",
            "_view_name": "LayoutView",
            "align_content": null,
            "align_items": null,
            "align_self": null,
            "border": null,
            "bottom": null,
            "display": null,
            "flex": null,
            "flex_flow": null,
            "grid_area": null,
            "grid_auto_columns": null,
            "grid_auto_flow": null,
            "grid_auto_rows": null,
            "grid_column": null,
            "grid_gap": null,
            "grid_row": null,
            "grid_template_areas": null,
            "grid_template_columns": null,
            "grid_template_rows": null,
            "height": null,
            "justify_content": null,
            "justify_items": null,
            "left": null,
            "margin": null,
            "max_height": null,
            "max_width": null,
            "min_height": null,
            "min_width": null,
            "object_fit": null,
            "object_position": null,
            "order": null,
            "overflow": null,
            "overflow_x": null,
            "overflow_y": null,
            "padding": null,
            "right": null,
            "top": null,
            "visibility": null,
            "width": null
          }
        },
        "e0f69c6d9d614a8fa5b69782ad15056b": {
          "model_module": "@jupyter-widgets/controls",
          "model_name": "DescriptionStyleModel",
          "model_module_version": "1.5.0",
          "state": {
            "_model_module": "@jupyter-widgets/controls",
            "_model_module_version": "1.5.0",
            "_model_name": "DescriptionStyleModel",
            "_view_count": null,
            "_view_module": "@jupyter-widgets/base",
            "_view_module_version": "1.2.0",
            "_view_name": "StyleView",
            "description_width": ""
          }
        },
        "b77cee7014c84a949956ed62cb39db0b": {
          "model_module": "@jupyter-widgets/base",
          "model_name": "LayoutModel",
          "model_module_version": "1.2.0",
          "state": {
            "_model_module": "@jupyter-widgets/base",
            "_model_module_version": "1.2.0",
            "_model_name": "LayoutModel",
            "_view_count": null,
            "_view_module": "@jupyter-widgets/base",
            "_view_module_version": "1.2.0",
            "_view_name": "LayoutView",
            "align_content": null,
            "align_items": null,
            "align_self": null,
            "border": null,
            "bottom": null,
            "display": null,
            "flex": null,
            "flex_flow": null,
            "grid_area": null,
            "grid_auto_columns": null,
            "grid_auto_flow": null,
            "grid_auto_rows": null,
            "grid_column": null,
            "grid_gap": null,
            "grid_row": null,
            "grid_template_areas": null,
            "grid_template_columns": null,
            "grid_template_rows": null,
            "height": null,
            "justify_content": null,
            "justify_items": null,
            "left": null,
            "margin": null,
            "max_height": null,
            "max_width": null,
            "min_height": null,
            "min_width": null,
            "object_fit": null,
            "object_position": null,
            "order": null,
            "overflow": null,
            "overflow_x": null,
            "overflow_y": null,
            "padding": null,
            "right": null,
            "top": null,
            "visibility": null,
            "width": null
          }
        },
        "60447be2bf97403ebf20e77adadca366": {
          "model_module": "@jupyter-widgets/controls",
          "model_name": "ProgressStyleModel",
          "model_module_version": "1.5.0",
          "state": {
            "_model_module": "@jupyter-widgets/controls",
            "_model_module_version": "1.5.0",
            "_model_name": "ProgressStyleModel",
            "_view_count": null,
            "_view_module": "@jupyter-widgets/base",
            "_view_module_version": "1.2.0",
            "_view_name": "StyleView",
            "bar_color": null,
            "description_width": ""
          }
        },
        "a2e438ce15794348937efe7e69dd98fd": {
          "model_module": "@jupyter-widgets/base",
          "model_name": "LayoutModel",
          "model_module_version": "1.2.0",
          "state": {
            "_model_module": "@jupyter-widgets/base",
            "_model_module_version": "1.2.0",
            "_model_name": "LayoutModel",
            "_view_count": null,
            "_view_module": "@jupyter-widgets/base",
            "_view_module_version": "1.2.0",
            "_view_name": "LayoutView",
            "align_content": null,
            "align_items": null,
            "align_self": null,
            "border": null,
            "bottom": null,
            "display": null,
            "flex": null,
            "flex_flow": null,
            "grid_area": null,
            "grid_auto_columns": null,
            "grid_auto_flow": null,
            "grid_auto_rows": null,
            "grid_column": null,
            "grid_gap": null,
            "grid_row": null,
            "grid_template_areas": null,
            "grid_template_columns": null,
            "grid_template_rows": null,
            "height": null,
            "justify_content": null,
            "justify_items": null,
            "left": null,
            "margin": null,
            "max_height": null,
            "max_width": null,
            "min_height": null,
            "min_width": null,
            "object_fit": null,
            "object_position": null,
            "order": null,
            "overflow": null,
            "overflow_x": null,
            "overflow_y": null,
            "padding": null,
            "right": null,
            "top": null,
            "visibility": null,
            "width": null
          }
        },
        "f1e779d05bea4a5fbcdb79af1465f0f3": {
          "model_module": "@jupyter-widgets/controls",
          "model_name": "DescriptionStyleModel",
          "model_module_version": "1.5.0",
          "state": {
            "_model_module": "@jupyter-widgets/controls",
            "_model_module_version": "1.5.0",
            "_model_name": "DescriptionStyleModel",
            "_view_count": null,
            "_view_module": "@jupyter-widgets/base",
            "_view_module_version": "1.2.0",
            "_view_name": "StyleView",
            "description_width": ""
          }
        }
      }
    },
    "accelerator": "GPU"
  },
  "nbformat": 4,
  "nbformat_minor": 0
}